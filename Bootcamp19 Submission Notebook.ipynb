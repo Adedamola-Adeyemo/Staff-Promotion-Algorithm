{
 "cells": [
  {
   "cell_type": "raw",
   "metadata": {},
   "source": [
    "Full Name: ADEYEMO ADEDAMOLA EMMANUEL\n",
    "KAGGLE ID: Adeyemo Adedamola\n",
    "Student Status: Graduate\n",
    "AI+Club: DataScienceIfe\n",
    "Name of School: OBAFEMI AWOLOWO UNIVERSITY"
   ]
  },
  {
   "cell_type": "markdown",
   "metadata": {},
   "source": [
    "### Data Loading and Checking"
   ]
  },
  {
   "cell_type": "markdown",
   "metadata": {},
   "source": [
    "First, Importing the basic libraries"
   ]
  },
  {
   "cell_type": "code",
   "execution_count": 2,
   "metadata": {},
   "outputs": [],
   "source": [
    "import numpy as np\n",
    "import pandas as pd\n",
    "import matplotlib.pyplot as plt\n",
    "import seaborn as sb\n",
    "import warnings\n",
    "warnings.filterwarnings('ignore')\n",
    "%matplotlib inline\n",
    "\n",
    "%load_ext autoreload\n",
    "%autoreload 2"
   ]
  },
  {
   "cell_type": "markdown",
   "metadata": {},
   "source": [
    "Loading both train and test datasets"
   ]
  },
  {
   "cell_type": "code",
   "execution_count": 3,
   "metadata": {
    "scrolled": true
   },
   "outputs": [],
   "source": [
    "#This notebook was opened in the folder containing both sets, so I will use the relative paths in reading in the files\n",
    "train=pd.read_csv('train.csv')\n",
    "test=pd.read_csv('test.csv')"
   ]
  },
  {
   "cell_type": "markdown",
   "metadata": {},
   "source": [
    "Getting a feel of what the dataset is all about,\n",
    "confirming that I am working on the right dataset"
   ]
  },
  {
   "cell_type": "code",
   "execution_count": 4,
   "metadata": {
    "scrolled": true
   },
   "outputs": [
    {
     "data": {
      "text/html": [
       "<div>\n",
       "<style scoped>\n",
       "    .dataframe tbody tr th:only-of-type {\n",
       "        vertical-align: middle;\n",
       "    }\n",
       "\n",
       "    .dataframe tbody tr th {\n",
       "        vertical-align: top;\n",
       "    }\n",
       "\n",
       "    .dataframe thead th {\n",
       "        text-align: right;\n",
       "    }\n",
       "</style>\n",
       "<table border=\"1\" class=\"dataframe\">\n",
       "  <thead>\n",
       "    <tr style=\"text-align: right;\">\n",
       "      <th></th>\n",
       "      <th>EmployeeNo</th>\n",
       "      <th>Division</th>\n",
       "      <th>Qualification</th>\n",
       "      <th>Gender</th>\n",
       "      <th>Channel_of_Recruitment</th>\n",
       "      <th>Trainings_Attended</th>\n",
       "      <th>Year_of_birth</th>\n",
       "      <th>Last_performance_score</th>\n",
       "      <th>Year_of_recruitment</th>\n",
       "      <th>Targets_met</th>\n",
       "      <th>Previous_Award</th>\n",
       "      <th>Training_score_average</th>\n",
       "      <th>State_Of_Origin</th>\n",
       "      <th>Foreign_schooled</th>\n",
       "      <th>Marital_Status</th>\n",
       "      <th>Past_Disciplinary_Action</th>\n",
       "      <th>Previous_IntraDepartmental_Movement</th>\n",
       "      <th>No_of_previous_employers</th>\n",
       "      <th>Promoted_or_Not</th>\n",
       "    </tr>\n",
       "  </thead>\n",
       "  <tbody>\n",
       "    <tr>\n",
       "      <th>0</th>\n",
       "      <td>YAK/S/00001</td>\n",
       "      <td>Commercial Sales and Marketing</td>\n",
       "      <td>MSc, MBA and PhD</td>\n",
       "      <td>Female</td>\n",
       "      <td>Direct Internal process</td>\n",
       "      <td>2</td>\n",
       "      <td>1986</td>\n",
       "      <td>12.5</td>\n",
       "      <td>2011</td>\n",
       "      <td>1</td>\n",
       "      <td>0</td>\n",
       "      <td>41</td>\n",
       "      <td>ANAMBRA</td>\n",
       "      <td>No</td>\n",
       "      <td>Married</td>\n",
       "      <td>No</td>\n",
       "      <td>No</td>\n",
       "      <td>0</td>\n",
       "      <td>0</td>\n",
       "    </tr>\n",
       "    <tr>\n",
       "      <th>1</th>\n",
       "      <td>YAK/S/00002</td>\n",
       "      <td>Customer Support and Field Operations</td>\n",
       "      <td>First Degree or HND</td>\n",
       "      <td>Male</td>\n",
       "      <td>Agency and others</td>\n",
       "      <td>2</td>\n",
       "      <td>1991</td>\n",
       "      <td>12.5</td>\n",
       "      <td>2015</td>\n",
       "      <td>0</td>\n",
       "      <td>0</td>\n",
       "      <td>52</td>\n",
       "      <td>ANAMBRA</td>\n",
       "      <td>Yes</td>\n",
       "      <td>Married</td>\n",
       "      <td>No</td>\n",
       "      <td>No</td>\n",
       "      <td>0</td>\n",
       "      <td>0</td>\n",
       "    </tr>\n",
       "    <tr>\n",
       "      <th>2</th>\n",
       "      <td>YAK/S/00003</td>\n",
       "      <td>Commercial Sales and Marketing</td>\n",
       "      <td>First Degree or HND</td>\n",
       "      <td>Male</td>\n",
       "      <td>Direct Internal process</td>\n",
       "      <td>2</td>\n",
       "      <td>1987</td>\n",
       "      <td>7.5</td>\n",
       "      <td>2012</td>\n",
       "      <td>0</td>\n",
       "      <td>0</td>\n",
       "      <td>42</td>\n",
       "      <td>KATSINA</td>\n",
       "      <td>Yes</td>\n",
       "      <td>Married</td>\n",
       "      <td>No</td>\n",
       "      <td>No</td>\n",
       "      <td>0</td>\n",
       "      <td>0</td>\n",
       "    </tr>\n",
       "    <tr>\n",
       "      <th>3</th>\n",
       "      <td>YAK/S/00004</td>\n",
       "      <td>Commercial Sales and Marketing</td>\n",
       "      <td>First Degree or HND</td>\n",
       "      <td>Male</td>\n",
       "      <td>Agency and others</td>\n",
       "      <td>3</td>\n",
       "      <td>1982</td>\n",
       "      <td>2.5</td>\n",
       "      <td>2009</td>\n",
       "      <td>0</td>\n",
       "      <td>0</td>\n",
       "      <td>42</td>\n",
       "      <td>NIGER</td>\n",
       "      <td>Yes</td>\n",
       "      <td>Single</td>\n",
       "      <td>No</td>\n",
       "      <td>No</td>\n",
       "      <td>1</td>\n",
       "      <td>0</td>\n",
       "    </tr>\n",
       "    <tr>\n",
       "      <th>4</th>\n",
       "      <td>YAK/S/00006</td>\n",
       "      <td>Information and Strategy</td>\n",
       "      <td>First Degree or HND</td>\n",
       "      <td>Male</td>\n",
       "      <td>Direct Internal process</td>\n",
       "      <td>3</td>\n",
       "      <td>1990</td>\n",
       "      <td>7.5</td>\n",
       "      <td>2012</td>\n",
       "      <td>0</td>\n",
       "      <td>0</td>\n",
       "      <td>77</td>\n",
       "      <td>AKWA IBOM</td>\n",
       "      <td>Yes</td>\n",
       "      <td>Married</td>\n",
       "      <td>No</td>\n",
       "      <td>No</td>\n",
       "      <td>1</td>\n",
       "      <td>0</td>\n",
       "    </tr>\n",
       "    <tr>\n",
       "      <th>5</th>\n",
       "      <td>YAK/S/00007</td>\n",
       "      <td>Customer Support and Field Operations</td>\n",
       "      <td>First Degree or HND</td>\n",
       "      <td>Female</td>\n",
       "      <td>Agency and others</td>\n",
       "      <td>2</td>\n",
       "      <td>1990</td>\n",
       "      <td>7.5</td>\n",
       "      <td>2014</td>\n",
       "      <td>0</td>\n",
       "      <td>0</td>\n",
       "      <td>51</td>\n",
       "      <td>ENUGU</td>\n",
       "      <td>Yes</td>\n",
       "      <td>Married</td>\n",
       "      <td>No</td>\n",
       "      <td>Yes</td>\n",
       "      <td>1</td>\n",
       "      <td>0</td>\n",
       "    </tr>\n",
       "    <tr>\n",
       "      <th>6</th>\n",
       "      <td>YAK/S/00008</td>\n",
       "      <td>Customer Support and Field Operations</td>\n",
       "      <td>MSc, MBA and PhD</td>\n",
       "      <td>Male</td>\n",
       "      <td>Direct Internal process</td>\n",
       "      <td>2</td>\n",
       "      <td>1988</td>\n",
       "      <td>7.5</td>\n",
       "      <td>2013</td>\n",
       "      <td>0</td>\n",
       "      <td>0</td>\n",
       "      <td>55</td>\n",
       "      <td>OYO</td>\n",
       "      <td>No</td>\n",
       "      <td>Single</td>\n",
       "      <td>No</td>\n",
       "      <td>No</td>\n",
       "      <td>1</td>\n",
       "      <td>0</td>\n",
       "    </tr>\n",
       "    <tr>\n",
       "      <th>7</th>\n",
       "      <td>YAK/S/00009</td>\n",
       "      <td>Information and Strategy</td>\n",
       "      <td>First Degree or HND</td>\n",
       "      <td>Male</td>\n",
       "      <td>Agency and others</td>\n",
       "      <td>2</td>\n",
       "      <td>1993</td>\n",
       "      <td>10.0</td>\n",
       "      <td>2014</td>\n",
       "      <td>0</td>\n",
       "      <td>0</td>\n",
       "      <td>75</td>\n",
       "      <td>LAGOS</td>\n",
       "      <td>Yes</td>\n",
       "      <td>Married</td>\n",
       "      <td>No</td>\n",
       "      <td>No</td>\n",
       "      <td>0</td>\n",
       "      <td>0</td>\n",
       "    </tr>\n",
       "    <tr>\n",
       "      <th>8</th>\n",
       "      <td>YAK/S/00010</td>\n",
       "      <td>Commercial Sales and Marketing</td>\n",
       "      <td>MSc, MBA and PhD</td>\n",
       "      <td>Male</td>\n",
       "      <td>Direct Internal process</td>\n",
       "      <td>2</td>\n",
       "      <td>1989</td>\n",
       "      <td>12.5</td>\n",
       "      <td>2014</td>\n",
       "      <td>1</td>\n",
       "      <td>0</td>\n",
       "      <td>46</td>\n",
       "      <td>ONDO</td>\n",
       "      <td>Yes</td>\n",
       "      <td>Married</td>\n",
       "      <td>No</td>\n",
       "      <td>No</td>\n",
       "      <td>0</td>\n",
       "      <td>0</td>\n",
       "    </tr>\n",
       "    <tr>\n",
       "      <th>9</th>\n",
       "      <td>YAK/S/00012</td>\n",
       "      <td>Commercial Sales and Marketing</td>\n",
       "      <td>First Degree or HND</td>\n",
       "      <td>Female</td>\n",
       "      <td>Direct Internal process</td>\n",
       "      <td>2</td>\n",
       "      <td>1986</td>\n",
       "      <td>12.5</td>\n",
       "      <td>2016</td>\n",
       "      <td>1</td>\n",
       "      <td>0</td>\n",
       "      <td>42</td>\n",
       "      <td>LAGOS</td>\n",
       "      <td>Yes</td>\n",
       "      <td>Married</td>\n",
       "      <td>No</td>\n",
       "      <td>No</td>\n",
       "      <td>0</td>\n",
       "      <td>1</td>\n",
       "    </tr>\n",
       "  </tbody>\n",
       "</table>\n",
       "</div>"
      ],
      "text/plain": [
       "    EmployeeNo                               Division        Qualification  \\\n",
       "0  YAK/S/00001         Commercial Sales and Marketing     MSc, MBA and PhD   \n",
       "1  YAK/S/00002  Customer Support and Field Operations  First Degree or HND   \n",
       "2  YAK/S/00003         Commercial Sales and Marketing  First Degree or HND   \n",
       "3  YAK/S/00004         Commercial Sales and Marketing  First Degree or HND   \n",
       "4  YAK/S/00006               Information and Strategy  First Degree or HND   \n",
       "5  YAK/S/00007  Customer Support and Field Operations  First Degree or HND   \n",
       "6  YAK/S/00008  Customer Support and Field Operations     MSc, MBA and PhD   \n",
       "7  YAK/S/00009               Information and Strategy  First Degree or HND   \n",
       "8  YAK/S/00010         Commercial Sales and Marketing     MSc, MBA and PhD   \n",
       "9  YAK/S/00012         Commercial Sales and Marketing  First Degree or HND   \n",
       "\n",
       "   Gender   Channel_of_Recruitment  Trainings_Attended  Year_of_birth  \\\n",
       "0  Female  Direct Internal process                   2           1986   \n",
       "1    Male        Agency and others                   2           1991   \n",
       "2    Male  Direct Internal process                   2           1987   \n",
       "3    Male        Agency and others                   3           1982   \n",
       "4    Male  Direct Internal process                   3           1990   \n",
       "5  Female        Agency and others                   2           1990   \n",
       "6    Male  Direct Internal process                   2           1988   \n",
       "7    Male        Agency and others                   2           1993   \n",
       "8    Male  Direct Internal process                   2           1989   \n",
       "9  Female  Direct Internal process                   2           1986   \n",
       "\n",
       "   Last_performance_score  Year_of_recruitment  Targets_met  Previous_Award  \\\n",
       "0                    12.5                 2011            1               0   \n",
       "1                    12.5                 2015            0               0   \n",
       "2                     7.5                 2012            0               0   \n",
       "3                     2.5                 2009            0               0   \n",
       "4                     7.5                 2012            0               0   \n",
       "5                     7.5                 2014            0               0   \n",
       "6                     7.5                 2013            0               0   \n",
       "7                    10.0                 2014            0               0   \n",
       "8                    12.5                 2014            1               0   \n",
       "9                    12.5                 2016            1               0   \n",
       "\n",
       "   Training_score_average State_Of_Origin Foreign_schooled Marital_Status  \\\n",
       "0                      41         ANAMBRA               No        Married   \n",
       "1                      52         ANAMBRA              Yes        Married   \n",
       "2                      42         KATSINA              Yes        Married   \n",
       "3                      42           NIGER              Yes         Single   \n",
       "4                      77       AKWA IBOM              Yes        Married   \n",
       "5                      51           ENUGU              Yes        Married   \n",
       "6                      55             OYO               No         Single   \n",
       "7                      75           LAGOS              Yes        Married   \n",
       "8                      46            ONDO              Yes        Married   \n",
       "9                      42           LAGOS              Yes        Married   \n",
       "\n",
       "  Past_Disciplinary_Action Previous_IntraDepartmental_Movement  \\\n",
       "0                       No                                  No   \n",
       "1                       No                                  No   \n",
       "2                       No                                  No   \n",
       "3                       No                                  No   \n",
       "4                       No                                  No   \n",
       "5                       No                                 Yes   \n",
       "6                       No                                  No   \n",
       "7                       No                                  No   \n",
       "8                       No                                  No   \n",
       "9                       No                                  No   \n",
       "\n",
       "  No_of_previous_employers  Promoted_or_Not  \n",
       "0                        0                0  \n",
       "1                        0                0  \n",
       "2                        0                0  \n",
       "3                        1                0  \n",
       "4                        1                0  \n",
       "5                        1                0  \n",
       "6                        1                0  \n",
       "7                        0                0  \n",
       "8                        0                0  \n",
       "9                        0                1  "
      ]
     },
     "execution_count": 4,
     "metadata": {},
     "output_type": "execute_result"
    }
   ],
   "source": [
    "train.head(10)"
   ]
  },
  {
   "cell_type": "code",
   "execution_count": 5,
   "metadata": {
    "scrolled": true
   },
   "outputs": [
    {
     "data": {
      "text/html": [
       "<div>\n",
       "<style scoped>\n",
       "    .dataframe tbody tr th:only-of-type {\n",
       "        vertical-align: middle;\n",
       "    }\n",
       "\n",
       "    .dataframe tbody tr th {\n",
       "        vertical-align: top;\n",
       "    }\n",
       "\n",
       "    .dataframe thead th {\n",
       "        text-align: right;\n",
       "    }\n",
       "</style>\n",
       "<table border=\"1\" class=\"dataframe\">\n",
       "  <thead>\n",
       "    <tr style=\"text-align: right;\">\n",
       "      <th></th>\n",
       "      <th>EmployeeNo</th>\n",
       "      <th>Division</th>\n",
       "      <th>Qualification</th>\n",
       "      <th>Gender</th>\n",
       "      <th>Channel_of_Recruitment</th>\n",
       "      <th>Trainings_Attended</th>\n",
       "      <th>Year_of_birth</th>\n",
       "      <th>Last_performance_score</th>\n",
       "      <th>Year_of_recruitment</th>\n",
       "      <th>Targets_met</th>\n",
       "      <th>Previous_Award</th>\n",
       "      <th>Training_score_average</th>\n",
       "      <th>State_Of_Origin</th>\n",
       "      <th>Foreign_schooled</th>\n",
       "      <th>Marital_Status</th>\n",
       "      <th>Past_Disciplinary_Action</th>\n",
       "      <th>Previous_IntraDepartmental_Movement</th>\n",
       "      <th>No_of_previous_employers</th>\n",
       "      <th>Promoted_or_Not</th>\n",
       "    </tr>\n",
       "  </thead>\n",
       "  <tbody>\n",
       "    <tr>\n",
       "      <th>38307</th>\n",
       "      <td>YAK/S/54802</td>\n",
       "      <td>Information Technology and Solution Support</td>\n",
       "      <td>First Degree or HND</td>\n",
       "      <td>Female</td>\n",
       "      <td>Direct Internal process</td>\n",
       "      <td>2</td>\n",
       "      <td>1990</td>\n",
       "      <td>0.0</td>\n",
       "      <td>2018</td>\n",
       "      <td>0</td>\n",
       "      <td>0</td>\n",
       "      <td>70</td>\n",
       "      <td>LAGOS</td>\n",
       "      <td>Yes</td>\n",
       "      <td>Married</td>\n",
       "      <td>No</td>\n",
       "      <td>No</td>\n",
       "      <td>0</td>\n",
       "      <td>0</td>\n",
       "    </tr>\n",
       "    <tr>\n",
       "      <th>38308</th>\n",
       "      <td>YAK/S/54805</td>\n",
       "      <td>Customer Support and Field Operations</td>\n",
       "      <td>MSc, MBA and PhD</td>\n",
       "      <td>Female</td>\n",
       "      <td>Agency and others</td>\n",
       "      <td>2</td>\n",
       "      <td>1984</td>\n",
       "      <td>5.0</td>\n",
       "      <td>2013</td>\n",
       "      <td>0</td>\n",
       "      <td>0</td>\n",
       "      <td>48</td>\n",
       "      <td>IMO</td>\n",
       "      <td>Yes</td>\n",
       "      <td>Married</td>\n",
       "      <td>No</td>\n",
       "      <td>No</td>\n",
       "      <td>1</td>\n",
       "      <td>0</td>\n",
       "    </tr>\n",
       "    <tr>\n",
       "      <th>38309</th>\n",
       "      <td>YAK/S/54806</td>\n",
       "      <td>Information and Strategy</td>\n",
       "      <td>First Degree or HND</td>\n",
       "      <td>Male</td>\n",
       "      <td>Agency and others</td>\n",
       "      <td>2</td>\n",
       "      <td>1994</td>\n",
       "      <td>12.5</td>\n",
       "      <td>2016</td>\n",
       "      <td>1</td>\n",
       "      <td>0</td>\n",
       "      <td>71</td>\n",
       "      <td>ANAMBRA</td>\n",
       "      <td>No</td>\n",
       "      <td>Married</td>\n",
       "      <td>No</td>\n",
       "      <td>No</td>\n",
       "      <td>3</td>\n",
       "      <td>0</td>\n",
       "    </tr>\n",
       "    <tr>\n",
       "      <th>38310</th>\n",
       "      <td>YAK/S/54807</td>\n",
       "      <td>Commercial Sales and Marketing</td>\n",
       "      <td>NaN</td>\n",
       "      <td>Male</td>\n",
       "      <td>Direct Internal process</td>\n",
       "      <td>2</td>\n",
       "      <td>1992</td>\n",
       "      <td>2.5</td>\n",
       "      <td>2017</td>\n",
       "      <td>0</td>\n",
       "      <td>0</td>\n",
       "      <td>37</td>\n",
       "      <td>KWARA</td>\n",
       "      <td>Yes</td>\n",
       "      <td>Married</td>\n",
       "      <td>No</td>\n",
       "      <td>No</td>\n",
       "      <td>1</td>\n",
       "      <td>0</td>\n",
       "    </tr>\n",
       "    <tr>\n",
       "      <th>38311</th>\n",
       "      <td>YAK/S/54808</td>\n",
       "      <td>People/HR Management</td>\n",
       "      <td>First Degree or HND</td>\n",
       "      <td>Male</td>\n",
       "      <td>Agency and others</td>\n",
       "      <td>2</td>\n",
       "      <td>1994</td>\n",
       "      <td>2.5</td>\n",
       "      <td>2014</td>\n",
       "      <td>0</td>\n",
       "      <td>0</td>\n",
       "      <td>41</td>\n",
       "      <td>KWARA</td>\n",
       "      <td>Yes</td>\n",
       "      <td>Single</td>\n",
       "      <td>No</td>\n",
       "      <td>No</td>\n",
       "      <td>2</td>\n",
       "      <td>0</td>\n",
       "    </tr>\n",
       "  </tbody>\n",
       "</table>\n",
       "</div>"
      ],
      "text/plain": [
       "        EmployeeNo                                     Division  \\\n",
       "38307  YAK/S/54802  Information Technology and Solution Support   \n",
       "38308  YAK/S/54805        Customer Support and Field Operations   \n",
       "38309  YAK/S/54806                     Information and Strategy   \n",
       "38310  YAK/S/54807               Commercial Sales and Marketing   \n",
       "38311  YAK/S/54808                         People/HR Management   \n",
       "\n",
       "             Qualification  Gender   Channel_of_Recruitment  \\\n",
       "38307  First Degree or HND  Female  Direct Internal process   \n",
       "38308     MSc, MBA and PhD  Female        Agency and others   \n",
       "38309  First Degree or HND    Male        Agency and others   \n",
       "38310                  NaN    Male  Direct Internal process   \n",
       "38311  First Degree or HND    Male        Agency and others   \n",
       "\n",
       "       Trainings_Attended  Year_of_birth  Last_performance_score  \\\n",
       "38307                   2           1990                     0.0   \n",
       "38308                   2           1984                     5.0   \n",
       "38309                   2           1994                    12.5   \n",
       "38310                   2           1992                     2.5   \n",
       "38311                   2           1994                     2.5   \n",
       "\n",
       "       Year_of_recruitment  Targets_met  Previous_Award  \\\n",
       "38307                 2018            0               0   \n",
       "38308                 2013            0               0   \n",
       "38309                 2016            1               0   \n",
       "38310                 2017            0               0   \n",
       "38311                 2014            0               0   \n",
       "\n",
       "       Training_score_average State_Of_Origin Foreign_schooled Marital_Status  \\\n",
       "38307                      70           LAGOS              Yes        Married   \n",
       "38308                      48             IMO              Yes        Married   \n",
       "38309                      71         ANAMBRA               No        Married   \n",
       "38310                      37           KWARA              Yes        Married   \n",
       "38311                      41           KWARA              Yes         Single   \n",
       "\n",
       "      Past_Disciplinary_Action Previous_IntraDepartmental_Movement  \\\n",
       "38307                       No                                  No   \n",
       "38308                       No                                  No   \n",
       "38309                       No                                  No   \n",
       "38310                       No                                  No   \n",
       "38311                       No                                  No   \n",
       "\n",
       "      No_of_previous_employers  Promoted_or_Not  \n",
       "38307                        0                0  \n",
       "38308                        1                0  \n",
       "38309                        3                0  \n",
       "38310                        1                0  \n",
       "38311                        2                0  "
      ]
     },
     "execution_count": 5,
     "metadata": {},
     "output_type": "execute_result"
    }
   ],
   "source": [
    "train.tail()"
   ]
  },
  {
   "cell_type": "markdown",
   "metadata": {},
   "source": [
    "Still familiarizing with both datasets,\n",
    "checking the number of columns including their datatypes, and rows including their non-null status"
   ]
  },
  {
   "cell_type": "code",
   "execution_count": 6,
   "metadata": {
    "scrolled": true
   },
   "outputs": [
    {
     "name": "stdout",
     "output_type": "stream",
     "text": [
      "<class 'pandas.core.frame.DataFrame'>\n",
      "RangeIndex: 38312 entries, 0 to 38311\n",
      "Data columns (total 19 columns):\n",
      "EmployeeNo                             38312 non-null object\n",
      "Division                               38312 non-null object\n",
      "Qualification                          36633 non-null object\n",
      "Gender                                 38312 non-null object\n",
      "Channel_of_Recruitment                 38312 non-null object\n",
      "Trainings_Attended                     38312 non-null int64\n",
      "Year_of_birth                          38312 non-null int64\n",
      "Last_performance_score                 38312 non-null float64\n",
      "Year_of_recruitment                    38312 non-null int64\n",
      "Targets_met                            38312 non-null int64\n",
      "Previous_Award                         38312 non-null int64\n",
      "Training_score_average                 38312 non-null int64\n",
      "State_Of_Origin                        38312 non-null object\n",
      "Foreign_schooled                       38312 non-null object\n",
      "Marital_Status                         38312 non-null object\n",
      "Past_Disciplinary_Action               38312 non-null object\n",
      "Previous_IntraDepartmental_Movement    38312 non-null object\n",
      "No_of_previous_employers               38312 non-null object\n",
      "Promoted_or_Not                        38312 non-null int64\n",
      "dtypes: float64(1), int64(7), object(11)\n",
      "memory usage: 5.6+ MB\n",
      "\n",
      "************************************************************\n",
      "\n",
      "<class 'pandas.core.frame.DataFrame'>\n",
      "RangeIndex: 16496 entries, 0 to 16495\n",
      "Data columns (total 18 columns):\n",
      "EmployeeNo                             16496 non-null object\n",
      "Division                               16496 non-null object\n",
      "Qualification                          15766 non-null object\n",
      "Gender                                 16496 non-null object\n",
      "Channel_of_Recruitment                 16496 non-null object\n",
      "Trainings_Attended                     16496 non-null int64\n",
      "Year_of_birth                          16496 non-null int64\n",
      "Last_performance_score                 16496 non-null float64\n",
      "Year_of_recruitment                    16496 non-null int64\n",
      "Targets_met                            16496 non-null int64\n",
      "Previous_Award                         16496 non-null int64\n",
      "Training_score_average                 16496 non-null int64\n",
      "State_Of_Origin                        16496 non-null object\n",
      "Foreign_schooled                       16496 non-null object\n",
      "Marital_Status                         16496 non-null object\n",
      "Past_Disciplinary_Action               16496 non-null object\n",
      "Previous_IntraDepartmental_Movement    16496 non-null object\n",
      "No_of_previous_employers               16496 non-null object\n",
      "dtypes: float64(1), int64(6), object(11)\n",
      "memory usage: 2.3+ MB\n"
     ]
    },
    {
     "data": {
      "text/plain": [
       "(None, None, None, None, None)"
      ]
     },
     "execution_count": 6,
     "metadata": {},
     "output_type": "execute_result"
    }
   ],
   "source": [
    "train.info(),print(), print('*'*60), print(), test.info()"
   ]
  },
  {
   "cell_type": "markdown",
   "metadata": {},
   "source": [
    "From information above, I can see that the target column 'Promoted_or_Not' is really not in the test dataset, confirming that it is the one to be predicted for the test dataset. Also only the 'Qualification' column has missing values, I will deal with these missing values later"
   ]
  },
  {
   "cell_type": "markdown",
   "metadata": {},
   "source": [
    "Assessing a subset of the promoted class to see if there is any visible pattern in it before doing further data analysis"
   ]
  },
  {
   "cell_type": "code",
   "execution_count": 7,
   "metadata": {
    "scrolled": true
   },
   "outputs": [
    {
     "data": {
      "text/html": [
       "<div>\n",
       "<style scoped>\n",
       "    .dataframe tbody tr th:only-of-type {\n",
       "        vertical-align: middle;\n",
       "    }\n",
       "\n",
       "    .dataframe tbody tr th {\n",
       "        vertical-align: top;\n",
       "    }\n",
       "\n",
       "    .dataframe thead th {\n",
       "        text-align: right;\n",
       "    }\n",
       "</style>\n",
       "<table border=\"1\" class=\"dataframe\">\n",
       "  <thead>\n",
       "    <tr style=\"text-align: right;\">\n",
       "      <th></th>\n",
       "      <th>EmployeeNo</th>\n",
       "      <th>Division</th>\n",
       "      <th>Qualification</th>\n",
       "      <th>Gender</th>\n",
       "      <th>Channel_of_Recruitment</th>\n",
       "      <th>Trainings_Attended</th>\n",
       "      <th>Year_of_birth</th>\n",
       "      <th>Last_performance_score</th>\n",
       "      <th>Year_of_recruitment</th>\n",
       "      <th>Targets_met</th>\n",
       "      <th>Previous_Award</th>\n",
       "      <th>Training_score_average</th>\n",
       "      <th>State_Of_Origin</th>\n",
       "      <th>Foreign_schooled</th>\n",
       "      <th>Marital_Status</th>\n",
       "      <th>Past_Disciplinary_Action</th>\n",
       "      <th>Previous_IntraDepartmental_Movement</th>\n",
       "      <th>No_of_previous_employers</th>\n",
       "      <th>Promoted_or_Not</th>\n",
       "    </tr>\n",
       "  </thead>\n",
       "  <tbody>\n",
       "    <tr>\n",
       "      <th>37782</th>\n",
       "      <td>YAK/S/54018</td>\n",
       "      <td>Information and Strategy</td>\n",
       "      <td>MSc, MBA and PhD</td>\n",
       "      <td>Male</td>\n",
       "      <td>Direct Internal process</td>\n",
       "      <td>2</td>\n",
       "      <td>1980</td>\n",
       "      <td>12.5</td>\n",
       "      <td>2014</td>\n",
       "      <td>1</td>\n",
       "      <td>1</td>\n",
       "      <td>82</td>\n",
       "      <td>KWARA</td>\n",
       "      <td>Yes</td>\n",
       "      <td>Married</td>\n",
       "      <td>No</td>\n",
       "      <td>No</td>\n",
       "      <td>0</td>\n",
       "      <td>1</td>\n",
       "    </tr>\n",
       "    <tr>\n",
       "      <th>37784</th>\n",
       "      <td>YAK/S/54021</td>\n",
       "      <td>Customer Support and Field Operations</td>\n",
       "      <td>MSc, MBA and PhD</td>\n",
       "      <td>Male</td>\n",
       "      <td>Agency and others</td>\n",
       "      <td>2</td>\n",
       "      <td>1983</td>\n",
       "      <td>12.5</td>\n",
       "      <td>2015</td>\n",
       "      <td>1</td>\n",
       "      <td>0</td>\n",
       "      <td>48</td>\n",
       "      <td>RIVERS</td>\n",
       "      <td>Yes</td>\n",
       "      <td>Single</td>\n",
       "      <td>No</td>\n",
       "      <td>No</td>\n",
       "      <td>1</td>\n",
       "      <td>1</td>\n",
       "    </tr>\n",
       "    <tr>\n",
       "      <th>37789</th>\n",
       "      <td>YAK/S/54027</td>\n",
       "      <td>Commercial Sales and Marketing</td>\n",
       "      <td>First Degree or HND</td>\n",
       "      <td>Male</td>\n",
       "      <td>Direct Internal process</td>\n",
       "      <td>2</td>\n",
       "      <td>1993</td>\n",
       "      <td>12.5</td>\n",
       "      <td>2018</td>\n",
       "      <td>1</td>\n",
       "      <td>0</td>\n",
       "      <td>40</td>\n",
       "      <td>LAGOS</td>\n",
       "      <td>Yes</td>\n",
       "      <td>Married</td>\n",
       "      <td>No</td>\n",
       "      <td>No</td>\n",
       "      <td>1</td>\n",
       "      <td>1</td>\n",
       "    </tr>\n",
       "    <tr>\n",
       "      <th>37800</th>\n",
       "      <td>YAK/S/54044</td>\n",
       "      <td>Sourcing and Purchasing</td>\n",
       "      <td>MSc, MBA and PhD</td>\n",
       "      <td>Female</td>\n",
       "      <td>Agency and others</td>\n",
       "      <td>2</td>\n",
       "      <td>1981</td>\n",
       "      <td>5.0</td>\n",
       "      <td>2015</td>\n",
       "      <td>1</td>\n",
       "      <td>0</td>\n",
       "      <td>61</td>\n",
       "      <td>KANO</td>\n",
       "      <td>Yes</td>\n",
       "      <td>Married</td>\n",
       "      <td>No</td>\n",
       "      <td>No</td>\n",
       "      <td>0</td>\n",
       "      <td>1</td>\n",
       "    </tr>\n",
       "    <tr>\n",
       "      <th>37816</th>\n",
       "      <td>YAK/S/54069</td>\n",
       "      <td>Sourcing and Purchasing</td>\n",
       "      <td>MSc, MBA and PhD</td>\n",
       "      <td>Male</td>\n",
       "      <td>Agency and others</td>\n",
       "      <td>2</td>\n",
       "      <td>1983</td>\n",
       "      <td>12.5</td>\n",
       "      <td>2015</td>\n",
       "      <td>0</td>\n",
       "      <td>0</td>\n",
       "      <td>74</td>\n",
       "      <td>LAGOS</td>\n",
       "      <td>Yes</td>\n",
       "      <td>Single</td>\n",
       "      <td>No</td>\n",
       "      <td>No</td>\n",
       "      <td>2</td>\n",
       "      <td>1</td>\n",
       "    </tr>\n",
       "    <tr>\n",
       "      <th>37818</th>\n",
       "      <td>YAK/S/54073</td>\n",
       "      <td>Information Technology and Solution Support</td>\n",
       "      <td>First Degree or HND</td>\n",
       "      <td>Female</td>\n",
       "      <td>Agency and others</td>\n",
       "      <td>2</td>\n",
       "      <td>1983</td>\n",
       "      <td>12.5</td>\n",
       "      <td>2015</td>\n",
       "      <td>1</td>\n",
       "      <td>0</td>\n",
       "      <td>70</td>\n",
       "      <td>BENUE</td>\n",
       "      <td>Yes</td>\n",
       "      <td>Married</td>\n",
       "      <td>No</td>\n",
       "      <td>No</td>\n",
       "      <td>0</td>\n",
       "      <td>1</td>\n",
       "    </tr>\n",
       "    <tr>\n",
       "      <th>37849</th>\n",
       "      <td>YAK/S/54121</td>\n",
       "      <td>Information Technology and Solution Support</td>\n",
       "      <td>First Degree or HND</td>\n",
       "      <td>Male</td>\n",
       "      <td>Direct Internal process</td>\n",
       "      <td>2</td>\n",
       "      <td>1990</td>\n",
       "      <td>7.5</td>\n",
       "      <td>2017</td>\n",
       "      <td>1</td>\n",
       "      <td>0</td>\n",
       "      <td>71</td>\n",
       "      <td>ANAMBRA</td>\n",
       "      <td>Yes</td>\n",
       "      <td>Married</td>\n",
       "      <td>No</td>\n",
       "      <td>No</td>\n",
       "      <td>4</td>\n",
       "      <td>1</td>\n",
       "    </tr>\n",
       "    <tr>\n",
       "      <th>37856</th>\n",
       "      <td>YAK/S/54131</td>\n",
       "      <td>Customer Support and Field Operations</td>\n",
       "      <td>MSc, MBA and PhD</td>\n",
       "      <td>Male</td>\n",
       "      <td>Direct Internal process</td>\n",
       "      <td>2</td>\n",
       "      <td>1989</td>\n",
       "      <td>2.5</td>\n",
       "      <td>2009</td>\n",
       "      <td>1</td>\n",
       "      <td>0</td>\n",
       "      <td>54</td>\n",
       "      <td>PLATEAU</td>\n",
       "      <td>Yes</td>\n",
       "      <td>Single</td>\n",
       "      <td>No</td>\n",
       "      <td>No</td>\n",
       "      <td>1</td>\n",
       "      <td>1</td>\n",
       "    </tr>\n",
       "    <tr>\n",
       "      <th>37860</th>\n",
       "      <td>YAK/S/54138</td>\n",
       "      <td>Commercial Sales and Marketing</td>\n",
       "      <td>First Degree or HND</td>\n",
       "      <td>Male</td>\n",
       "      <td>Direct Internal process</td>\n",
       "      <td>2</td>\n",
       "      <td>1990</td>\n",
       "      <td>12.5</td>\n",
       "      <td>2017</td>\n",
       "      <td>0</td>\n",
       "      <td>0</td>\n",
       "      <td>52</td>\n",
       "      <td>KADUNA</td>\n",
       "      <td>Yes</td>\n",
       "      <td>Married</td>\n",
       "      <td>No</td>\n",
       "      <td>No</td>\n",
       "      <td>1</td>\n",
       "      <td>1</td>\n",
       "    </tr>\n",
       "    <tr>\n",
       "      <th>37864</th>\n",
       "      <td>YAK/S/54147</td>\n",
       "      <td>Customer Support and Field Operations</td>\n",
       "      <td>First Degree or HND</td>\n",
       "      <td>Male</td>\n",
       "      <td>Agency and others</td>\n",
       "      <td>2</td>\n",
       "      <td>1984</td>\n",
       "      <td>12.5</td>\n",
       "      <td>2012</td>\n",
       "      <td>0</td>\n",
       "      <td>1</td>\n",
       "      <td>71</td>\n",
       "      <td>BAYELSA</td>\n",
       "      <td>Yes</td>\n",
       "      <td>Married</td>\n",
       "      <td>No</td>\n",
       "      <td>No</td>\n",
       "      <td>1</td>\n",
       "      <td>1</td>\n",
       "    </tr>\n",
       "    <tr>\n",
       "      <th>37874</th>\n",
       "      <td>YAK/S/54165</td>\n",
       "      <td>Sourcing and Purchasing</td>\n",
       "      <td>First Degree or HND</td>\n",
       "      <td>Male</td>\n",
       "      <td>Agency and others</td>\n",
       "      <td>2</td>\n",
       "      <td>1985</td>\n",
       "      <td>7.5</td>\n",
       "      <td>2011</td>\n",
       "      <td>1</td>\n",
       "      <td>0</td>\n",
       "      <td>59</td>\n",
       "      <td>EDO</td>\n",
       "      <td>Yes</td>\n",
       "      <td>Married</td>\n",
       "      <td>No</td>\n",
       "      <td>No</td>\n",
       "      <td>1</td>\n",
       "      <td>1</td>\n",
       "    </tr>\n",
       "    <tr>\n",
       "      <th>37884</th>\n",
       "      <td>YAK/S/54181</td>\n",
       "      <td>Commercial Sales and Marketing</td>\n",
       "      <td>MSc, MBA and PhD</td>\n",
       "      <td>Male</td>\n",
       "      <td>Agency and others</td>\n",
       "      <td>2</td>\n",
       "      <td>1981</td>\n",
       "      <td>10.0</td>\n",
       "      <td>2009</td>\n",
       "      <td>1</td>\n",
       "      <td>0</td>\n",
       "      <td>39</td>\n",
       "      <td>RIVERS</td>\n",
       "      <td>Yes</td>\n",
       "      <td>Married</td>\n",
       "      <td>No</td>\n",
       "      <td>No</td>\n",
       "      <td>0</td>\n",
       "      <td>1</td>\n",
       "    </tr>\n",
       "    <tr>\n",
       "      <th>37918</th>\n",
       "      <td>YAK/S/54234</td>\n",
       "      <td>Information and Strategy</td>\n",
       "      <td>First Degree or HND</td>\n",
       "      <td>Male</td>\n",
       "      <td>Agency and others</td>\n",
       "      <td>3</td>\n",
       "      <td>1989</td>\n",
       "      <td>10.0</td>\n",
       "      <td>2013</td>\n",
       "      <td>1</td>\n",
       "      <td>0</td>\n",
       "      <td>83</td>\n",
       "      <td>DELTA</td>\n",
       "      <td>Yes</td>\n",
       "      <td>Married</td>\n",
       "      <td>No</td>\n",
       "      <td>No</td>\n",
       "      <td>0</td>\n",
       "      <td>1</td>\n",
       "    </tr>\n",
       "    <tr>\n",
       "      <th>37919</th>\n",
       "      <td>YAK/S/54237</td>\n",
       "      <td>Commercial Sales and Marketing</td>\n",
       "      <td>MSc, MBA and PhD</td>\n",
       "      <td>Female</td>\n",
       "      <td>Agency and others</td>\n",
       "      <td>2</td>\n",
       "      <td>1986</td>\n",
       "      <td>12.5</td>\n",
       "      <td>2015</td>\n",
       "      <td>0</td>\n",
       "      <td>0</td>\n",
       "      <td>51</td>\n",
       "      <td>TARABA</td>\n",
       "      <td>Yes</td>\n",
       "      <td>Single</td>\n",
       "      <td>No</td>\n",
       "      <td>Yes</td>\n",
       "      <td>0</td>\n",
       "      <td>1</td>\n",
       "    </tr>\n",
       "    <tr>\n",
       "      <th>37937</th>\n",
       "      <td>YAK/S/54260</td>\n",
       "      <td>Sourcing and Purchasing</td>\n",
       "      <td>First Degree or HND</td>\n",
       "      <td>Female</td>\n",
       "      <td>Agency and others</td>\n",
       "      <td>2</td>\n",
       "      <td>1973</td>\n",
       "      <td>7.5</td>\n",
       "      <td>2003</td>\n",
       "      <td>0</td>\n",
       "      <td>0</td>\n",
       "      <td>69</td>\n",
       "      <td>ZAMFARA</td>\n",
       "      <td>No</td>\n",
       "      <td>Married</td>\n",
       "      <td>No</td>\n",
       "      <td>No</td>\n",
       "      <td>1</td>\n",
       "      <td>1</td>\n",
       "    </tr>\n",
       "    <tr>\n",
       "      <th>37945</th>\n",
       "      <td>YAK/S/54270</td>\n",
       "      <td>Commercial Sales and Marketing</td>\n",
       "      <td>First Degree or HND</td>\n",
       "      <td>Male</td>\n",
       "      <td>Agency and others</td>\n",
       "      <td>2</td>\n",
       "      <td>1994</td>\n",
       "      <td>10.0</td>\n",
       "      <td>2018</td>\n",
       "      <td>1</td>\n",
       "      <td>0</td>\n",
       "      <td>41</td>\n",
       "      <td>LAGOS</td>\n",
       "      <td>Yes</td>\n",
       "      <td>Married</td>\n",
       "      <td>No</td>\n",
       "      <td>No</td>\n",
       "      <td>0</td>\n",
       "      <td>1</td>\n",
       "    </tr>\n",
       "    <tr>\n",
       "      <th>37959</th>\n",
       "      <td>YAK/S/54289</td>\n",
       "      <td>Information Technology and Solution Support</td>\n",
       "      <td>MSc, MBA and PhD</td>\n",
       "      <td>Male</td>\n",
       "      <td>Agency and others</td>\n",
       "      <td>2</td>\n",
       "      <td>1984</td>\n",
       "      <td>10.0</td>\n",
       "      <td>2016</td>\n",
       "      <td>0</td>\n",
       "      <td>0</td>\n",
       "      <td>74</td>\n",
       "      <td>KEBBI</td>\n",
       "      <td>Yes</td>\n",
       "      <td>Married</td>\n",
       "      <td>No</td>\n",
       "      <td>No</td>\n",
       "      <td>1</td>\n",
       "      <td>1</td>\n",
       "    </tr>\n",
       "    <tr>\n",
       "      <th>37968</th>\n",
       "      <td>YAK/S/54306</td>\n",
       "      <td>Information and Strategy</td>\n",
       "      <td>First Degree or HND</td>\n",
       "      <td>Male</td>\n",
       "      <td>Referral and Special candidates</td>\n",
       "      <td>2</td>\n",
       "      <td>1992</td>\n",
       "      <td>2.5</td>\n",
       "      <td>2013</td>\n",
       "      <td>0</td>\n",
       "      <td>0</td>\n",
       "      <td>74</td>\n",
       "      <td>EDO</td>\n",
       "      <td>Yes</td>\n",
       "      <td>Married</td>\n",
       "      <td>No</td>\n",
       "      <td>No</td>\n",
       "      <td>3</td>\n",
       "      <td>1</td>\n",
       "    </tr>\n",
       "    <tr>\n",
       "      <th>37982</th>\n",
       "      <td>YAK/S/54327</td>\n",
       "      <td>Information Technology and Solution Support</td>\n",
       "      <td>MSc, MBA and PhD</td>\n",
       "      <td>Male</td>\n",
       "      <td>Agency and others</td>\n",
       "      <td>2</td>\n",
       "      <td>1986</td>\n",
       "      <td>12.5</td>\n",
       "      <td>2014</td>\n",
       "      <td>1</td>\n",
       "      <td>0</td>\n",
       "      <td>88</td>\n",
       "      <td>PLATEAU</td>\n",
       "      <td>Yes</td>\n",
       "      <td>Single</td>\n",
       "      <td>No</td>\n",
       "      <td>No</td>\n",
       "      <td>0</td>\n",
       "      <td>1</td>\n",
       "    </tr>\n",
       "    <tr>\n",
       "      <th>37983</th>\n",
       "      <td>YAK/S/54328</td>\n",
       "      <td>Research and Innovation</td>\n",
       "      <td>First Degree or HND</td>\n",
       "      <td>Male</td>\n",
       "      <td>Agency and others</td>\n",
       "      <td>3</td>\n",
       "      <td>1991</td>\n",
       "      <td>10.0</td>\n",
       "      <td>2015</td>\n",
       "      <td>1</td>\n",
       "      <td>0</td>\n",
       "      <td>76</td>\n",
       "      <td>KANO</td>\n",
       "      <td>Yes</td>\n",
       "      <td>Married</td>\n",
       "      <td>No</td>\n",
       "      <td>No</td>\n",
       "      <td>1</td>\n",
       "      <td>1</td>\n",
       "    </tr>\n",
       "    <tr>\n",
       "      <th>37985</th>\n",
       "      <td>YAK/S/54332</td>\n",
       "      <td>Information Technology and Solution Support</td>\n",
       "      <td>First Degree or HND</td>\n",
       "      <td>Male</td>\n",
       "      <td>Agency and others</td>\n",
       "      <td>2</td>\n",
       "      <td>1991</td>\n",
       "      <td>10.0</td>\n",
       "      <td>2012</td>\n",
       "      <td>1</td>\n",
       "      <td>0</td>\n",
       "      <td>71</td>\n",
       "      <td>LAGOS</td>\n",
       "      <td>Yes</td>\n",
       "      <td>Married</td>\n",
       "      <td>No</td>\n",
       "      <td>No</td>\n",
       "      <td>1</td>\n",
       "      <td>1</td>\n",
       "    </tr>\n",
       "    <tr>\n",
       "      <th>37990</th>\n",
       "      <td>YAK/S/54338</td>\n",
       "      <td>Sourcing and Purchasing</td>\n",
       "      <td>First Degree or HND</td>\n",
       "      <td>Male</td>\n",
       "      <td>Agency and others</td>\n",
       "      <td>2</td>\n",
       "      <td>1990</td>\n",
       "      <td>7.5</td>\n",
       "      <td>2015</td>\n",
       "      <td>0</td>\n",
       "      <td>0</td>\n",
       "      <td>72</td>\n",
       "      <td>ONDO</td>\n",
       "      <td>Yes</td>\n",
       "      <td>Married</td>\n",
       "      <td>No</td>\n",
       "      <td>No</td>\n",
       "      <td>1</td>\n",
       "      <td>1</td>\n",
       "    </tr>\n",
       "    <tr>\n",
       "      <th>38004</th>\n",
       "      <td>YAK/S/54356</td>\n",
       "      <td>Commercial Sales and Marketing</td>\n",
       "      <td>First Degree or HND</td>\n",
       "      <td>Female</td>\n",
       "      <td>Agency and others</td>\n",
       "      <td>2</td>\n",
       "      <td>1993</td>\n",
       "      <td>10.0</td>\n",
       "      <td>2015</td>\n",
       "      <td>1</td>\n",
       "      <td>0</td>\n",
       "      <td>43</td>\n",
       "      <td>LAGOS</td>\n",
       "      <td>Yes</td>\n",
       "      <td>Married</td>\n",
       "      <td>No</td>\n",
       "      <td>No</td>\n",
       "      <td>0</td>\n",
       "      <td>1</td>\n",
       "    </tr>\n",
       "    <tr>\n",
       "      <th>38012</th>\n",
       "      <td>YAK/S/54370</td>\n",
       "      <td>Information Technology and Solution Support</td>\n",
       "      <td>MSc, MBA and PhD</td>\n",
       "      <td>Male</td>\n",
       "      <td>Direct Internal process</td>\n",
       "      <td>2</td>\n",
       "      <td>1987</td>\n",
       "      <td>12.5</td>\n",
       "      <td>2010</td>\n",
       "      <td>1</td>\n",
       "      <td>0</td>\n",
       "      <td>72</td>\n",
       "      <td>RIVERS</td>\n",
       "      <td>Yes</td>\n",
       "      <td>Married</td>\n",
       "      <td>No</td>\n",
       "      <td>No</td>\n",
       "      <td>1</td>\n",
       "      <td>1</td>\n",
       "    </tr>\n",
       "    <tr>\n",
       "      <th>38015</th>\n",
       "      <td>YAK/S/54374</td>\n",
       "      <td>Business Finance Operations</td>\n",
       "      <td>First Degree or HND</td>\n",
       "      <td>Male</td>\n",
       "      <td>Agency and others</td>\n",
       "      <td>2</td>\n",
       "      <td>1995</td>\n",
       "      <td>5.0</td>\n",
       "      <td>2016</td>\n",
       "      <td>0</td>\n",
       "      <td>0</td>\n",
       "      <td>61</td>\n",
       "      <td>ENUGU</td>\n",
       "      <td>Yes</td>\n",
       "      <td>Married</td>\n",
       "      <td>No</td>\n",
       "      <td>No</td>\n",
       "      <td>0</td>\n",
       "      <td>1</td>\n",
       "    </tr>\n",
       "    <tr>\n",
       "      <th>38022</th>\n",
       "      <td>YAK/S/54386</td>\n",
       "      <td>Commercial Sales and Marketing</td>\n",
       "      <td>MSc, MBA and PhD</td>\n",
       "      <td>Male</td>\n",
       "      <td>Direct Internal process</td>\n",
       "      <td>2</td>\n",
       "      <td>1985</td>\n",
       "      <td>12.5</td>\n",
       "      <td>2017</td>\n",
       "      <td>1</td>\n",
       "      <td>0</td>\n",
       "      <td>86</td>\n",
       "      <td>FCT</td>\n",
       "      <td>Yes</td>\n",
       "      <td>Married</td>\n",
       "      <td>No</td>\n",
       "      <td>No</td>\n",
       "      <td>1</td>\n",
       "      <td>1</td>\n",
       "    </tr>\n",
       "    <tr>\n",
       "      <th>38044</th>\n",
       "      <td>YAK/S/54417</td>\n",
       "      <td>Customer Support and Field Operations</td>\n",
       "      <td>MSc, MBA and PhD</td>\n",
       "      <td>Male</td>\n",
       "      <td>Agency and others</td>\n",
       "      <td>2</td>\n",
       "      <td>1978</td>\n",
       "      <td>10.0</td>\n",
       "      <td>2015</td>\n",
       "      <td>0</td>\n",
       "      <td>0</td>\n",
       "      <td>65</td>\n",
       "      <td>BENUE</td>\n",
       "      <td>Yes</td>\n",
       "      <td>Married</td>\n",
       "      <td>No</td>\n",
       "      <td>Yes</td>\n",
       "      <td>3</td>\n",
       "      <td>1</td>\n",
       "    </tr>\n",
       "    <tr>\n",
       "      <th>38050</th>\n",
       "      <td>YAK/S/54423</td>\n",
       "      <td>Customer Support and Field Operations</td>\n",
       "      <td>First Degree or HND</td>\n",
       "      <td>Male</td>\n",
       "      <td>Direct Internal process</td>\n",
       "      <td>2</td>\n",
       "      <td>1982</td>\n",
       "      <td>12.5</td>\n",
       "      <td>2008</td>\n",
       "      <td>1</td>\n",
       "      <td>0</td>\n",
       "      <td>52</td>\n",
       "      <td>GOMBE</td>\n",
       "      <td>Yes</td>\n",
       "      <td>Married</td>\n",
       "      <td>No</td>\n",
       "      <td>No</td>\n",
       "      <td>0</td>\n",
       "      <td>1</td>\n",
       "    </tr>\n",
       "    <tr>\n",
       "      <th>38051</th>\n",
       "      <td>YAK/S/54425</td>\n",
       "      <td>Commercial Sales and Marketing</td>\n",
       "      <td>First Degree or HND</td>\n",
       "      <td>Female</td>\n",
       "      <td>Agency and others</td>\n",
       "      <td>2</td>\n",
       "      <td>1994</td>\n",
       "      <td>0.0</td>\n",
       "      <td>2018</td>\n",
       "      <td>0</td>\n",
       "      <td>0</td>\n",
       "      <td>59</td>\n",
       "      <td>LAGOS</td>\n",
       "      <td>Yes</td>\n",
       "      <td>Married</td>\n",
       "      <td>No</td>\n",
       "      <td>No</td>\n",
       "      <td>0</td>\n",
       "      <td>1</td>\n",
       "    </tr>\n",
       "    <tr>\n",
       "      <th>38066</th>\n",
       "      <td>YAK/S/54443</td>\n",
       "      <td>Commercial Sales and Marketing</td>\n",
       "      <td>First Degree or HND</td>\n",
       "      <td>Male</td>\n",
       "      <td>Agency and others</td>\n",
       "      <td>2</td>\n",
       "      <td>1984</td>\n",
       "      <td>10.0</td>\n",
       "      <td>2016</td>\n",
       "      <td>1</td>\n",
       "      <td>0</td>\n",
       "      <td>55</td>\n",
       "      <td>EKITI</td>\n",
       "      <td>Yes</td>\n",
       "      <td>Married</td>\n",
       "      <td>No</td>\n",
       "      <td>No</td>\n",
       "      <td>0</td>\n",
       "      <td>1</td>\n",
       "    </tr>\n",
       "    <tr>\n",
       "      <th>38074</th>\n",
       "      <td>YAK/S/54456</td>\n",
       "      <td>Commercial Sales and Marketing</td>\n",
       "      <td>First Degree or HND</td>\n",
       "      <td>Male</td>\n",
       "      <td>Direct Internal process</td>\n",
       "      <td>2</td>\n",
       "      <td>1988</td>\n",
       "      <td>7.5</td>\n",
       "      <td>2012</td>\n",
       "      <td>1</td>\n",
       "      <td>0</td>\n",
       "      <td>88</td>\n",
       "      <td>IMO</td>\n",
       "      <td>Yes</td>\n",
       "      <td>Married</td>\n",
       "      <td>No</td>\n",
       "      <td>No</td>\n",
       "      <td>1</td>\n",
       "      <td>1</td>\n",
       "    </tr>\n",
       "    <tr>\n",
       "      <th>38082</th>\n",
       "      <td>YAK/S/54472</td>\n",
       "      <td>Commercial Sales and Marketing</td>\n",
       "      <td>First Degree or HND</td>\n",
       "      <td>Male</td>\n",
       "      <td>Agency and others</td>\n",
       "      <td>3</td>\n",
       "      <td>1995</td>\n",
       "      <td>12.5</td>\n",
       "      <td>2017</td>\n",
       "      <td>0</td>\n",
       "      <td>0</td>\n",
       "      <td>57</td>\n",
       "      <td>AKWA IBOM</td>\n",
       "      <td>No</td>\n",
       "      <td>Married</td>\n",
       "      <td>No</td>\n",
       "      <td>No</td>\n",
       "      <td>4</td>\n",
       "      <td>1</td>\n",
       "    </tr>\n",
       "    <tr>\n",
       "      <th>38094</th>\n",
       "      <td>YAK/S/54490</td>\n",
       "      <td>Commercial Sales and Marketing</td>\n",
       "      <td>First Degree or HND</td>\n",
       "      <td>Male</td>\n",
       "      <td>Agency and others</td>\n",
       "      <td>2</td>\n",
       "      <td>1977</td>\n",
       "      <td>10.0</td>\n",
       "      <td>2005</td>\n",
       "      <td>0</td>\n",
       "      <td>0</td>\n",
       "      <td>50</td>\n",
       "      <td>KANO</td>\n",
       "      <td>Yes</td>\n",
       "      <td>Married</td>\n",
       "      <td>No</td>\n",
       "      <td>Yes</td>\n",
       "      <td>0</td>\n",
       "      <td>1</td>\n",
       "    </tr>\n",
       "    <tr>\n",
       "      <th>38099</th>\n",
       "      <td>YAK/S/54498</td>\n",
       "      <td>Customer Support and Field Operations</td>\n",
       "      <td>First Degree or HND</td>\n",
       "      <td>Male</td>\n",
       "      <td>Direct Internal process</td>\n",
       "      <td>2</td>\n",
       "      <td>1985</td>\n",
       "      <td>10.0</td>\n",
       "      <td>2011</td>\n",
       "      <td>1</td>\n",
       "      <td>0</td>\n",
       "      <td>48</td>\n",
       "      <td>EDO</td>\n",
       "      <td>Yes</td>\n",
       "      <td>Married</td>\n",
       "      <td>No</td>\n",
       "      <td>No</td>\n",
       "      <td>1</td>\n",
       "      <td>1</td>\n",
       "    </tr>\n",
       "    <tr>\n",
       "      <th>38103</th>\n",
       "      <td>YAK/S/54504</td>\n",
       "      <td>Commercial Sales and Marketing</td>\n",
       "      <td>MSc, MBA and PhD</td>\n",
       "      <td>Male</td>\n",
       "      <td>Direct Internal process</td>\n",
       "      <td>3</td>\n",
       "      <td>1989</td>\n",
       "      <td>10.0</td>\n",
       "      <td>2014</td>\n",
       "      <td>1</td>\n",
       "      <td>1</td>\n",
       "      <td>84</td>\n",
       "      <td>OGUN</td>\n",
       "      <td>Yes</td>\n",
       "      <td>Married</td>\n",
       "      <td>No</td>\n",
       "      <td>No</td>\n",
       "      <td>0</td>\n",
       "      <td>1</td>\n",
       "    </tr>\n",
       "    <tr>\n",
       "      <th>38104</th>\n",
       "      <td>YAK/S/54505</td>\n",
       "      <td>Information Technology and Solution Support</td>\n",
       "      <td>First Degree or HND</td>\n",
       "      <td>Male</td>\n",
       "      <td>Agency and others</td>\n",
       "      <td>2</td>\n",
       "      <td>1994</td>\n",
       "      <td>10.0</td>\n",
       "      <td>2017</td>\n",
       "      <td>1</td>\n",
       "      <td>0</td>\n",
       "      <td>70</td>\n",
       "      <td>RIVERS</td>\n",
       "      <td>Yes</td>\n",
       "      <td>Married</td>\n",
       "      <td>No</td>\n",
       "      <td>No</td>\n",
       "      <td>0</td>\n",
       "      <td>1</td>\n",
       "    </tr>\n",
       "    <tr>\n",
       "      <th>38105</th>\n",
       "      <td>YAK/S/54508</td>\n",
       "      <td>Information and Strategy</td>\n",
       "      <td>MSc, MBA and PhD</td>\n",
       "      <td>Male</td>\n",
       "      <td>Agency and others</td>\n",
       "      <td>2</td>\n",
       "      <td>1986</td>\n",
       "      <td>12.5</td>\n",
       "      <td>2016</td>\n",
       "      <td>0</td>\n",
       "      <td>1</td>\n",
       "      <td>73</td>\n",
       "      <td>NASSARAWA</td>\n",
       "      <td>Yes</td>\n",
       "      <td>Married</td>\n",
       "      <td>No</td>\n",
       "      <td>No</td>\n",
       "      <td>1</td>\n",
       "      <td>1</td>\n",
       "    </tr>\n",
       "    <tr>\n",
       "      <th>38114</th>\n",
       "      <td>YAK/S/54524</td>\n",
       "      <td>Customer Support and Field Operations</td>\n",
       "      <td>MSc, MBA and PhD</td>\n",
       "      <td>Male</td>\n",
       "      <td>Direct Internal process</td>\n",
       "      <td>3</td>\n",
       "      <td>1983</td>\n",
       "      <td>12.5</td>\n",
       "      <td>2008</td>\n",
       "      <td>0</td>\n",
       "      <td>0</td>\n",
       "      <td>64</td>\n",
       "      <td>LAGOS</td>\n",
       "      <td>Yes</td>\n",
       "      <td>Married</td>\n",
       "      <td>No</td>\n",
       "      <td>No</td>\n",
       "      <td>0</td>\n",
       "      <td>1</td>\n",
       "    </tr>\n",
       "    <tr>\n",
       "      <th>38123</th>\n",
       "      <td>YAK/S/54534</td>\n",
       "      <td>Information and Strategy</td>\n",
       "      <td>First Degree or HND</td>\n",
       "      <td>Male</td>\n",
       "      <td>Direct Internal process</td>\n",
       "      <td>3</td>\n",
       "      <td>1989</td>\n",
       "      <td>12.5</td>\n",
       "      <td>2017</td>\n",
       "      <td>1</td>\n",
       "      <td>0</td>\n",
       "      <td>79</td>\n",
       "      <td>IMO</td>\n",
       "      <td>Yes</td>\n",
       "      <td>Married</td>\n",
       "      <td>No</td>\n",
       "      <td>No</td>\n",
       "      <td>1</td>\n",
       "      <td>1</td>\n",
       "    </tr>\n",
       "    <tr>\n",
       "      <th>38128</th>\n",
       "      <td>YAK/S/54543</td>\n",
       "      <td>Information Technology and Solution Support</td>\n",
       "      <td>MSc, MBA and PhD</td>\n",
       "      <td>Male</td>\n",
       "      <td>Agency and others</td>\n",
       "      <td>2</td>\n",
       "      <td>1978</td>\n",
       "      <td>7.5</td>\n",
       "      <td>2007</td>\n",
       "      <td>0</td>\n",
       "      <td>0</td>\n",
       "      <td>72</td>\n",
       "      <td>ENUGU</td>\n",
       "      <td>Yes</td>\n",
       "      <td>Single</td>\n",
       "      <td>No</td>\n",
       "      <td>No</td>\n",
       "      <td>1</td>\n",
       "      <td>1</td>\n",
       "    </tr>\n",
       "    <tr>\n",
       "      <th>38152</th>\n",
       "      <td>YAK/S/54575</td>\n",
       "      <td>Information and Strategy</td>\n",
       "      <td>First Degree or HND</td>\n",
       "      <td>Male</td>\n",
       "      <td>Direct Internal process</td>\n",
       "      <td>2</td>\n",
       "      <td>1993</td>\n",
       "      <td>12.5</td>\n",
       "      <td>2016</td>\n",
       "      <td>1</td>\n",
       "      <td>0</td>\n",
       "      <td>80</td>\n",
       "      <td>LAGOS</td>\n",
       "      <td>Yes</td>\n",
       "      <td>Married</td>\n",
       "      <td>No</td>\n",
       "      <td>No</td>\n",
       "      <td>2</td>\n",
       "      <td>1</td>\n",
       "    </tr>\n",
       "    <tr>\n",
       "      <th>38154</th>\n",
       "      <td>YAK/S/54577</td>\n",
       "      <td>Customer Support and Field Operations</td>\n",
       "      <td>MSc, MBA and PhD</td>\n",
       "      <td>Male</td>\n",
       "      <td>Direct Internal process</td>\n",
       "      <td>2</td>\n",
       "      <td>1986</td>\n",
       "      <td>12.5</td>\n",
       "      <td>2016</td>\n",
       "      <td>1</td>\n",
       "      <td>0</td>\n",
       "      <td>49</td>\n",
       "      <td>ONDO</td>\n",
       "      <td>Yes</td>\n",
       "      <td>Married</td>\n",
       "      <td>No</td>\n",
       "      <td>No</td>\n",
       "      <td>0</td>\n",
       "      <td>1</td>\n",
       "    </tr>\n",
       "    <tr>\n",
       "      <th>38155</th>\n",
       "      <td>YAK/S/54580</td>\n",
       "      <td>Information Technology and Solution Support</td>\n",
       "      <td>MSc, MBA and PhD</td>\n",
       "      <td>Male</td>\n",
       "      <td>Direct Internal process</td>\n",
       "      <td>2</td>\n",
       "      <td>1979</td>\n",
       "      <td>7.5</td>\n",
       "      <td>2007</td>\n",
       "      <td>0</td>\n",
       "      <td>0</td>\n",
       "      <td>72</td>\n",
       "      <td>OGUN</td>\n",
       "      <td>Yes</td>\n",
       "      <td>Married</td>\n",
       "      <td>No</td>\n",
       "      <td>Yes</td>\n",
       "      <td>1</td>\n",
       "      <td>1</td>\n",
       "    </tr>\n",
       "    <tr>\n",
       "      <th>38189</th>\n",
       "      <td>YAK/S/54625</td>\n",
       "      <td>Business Finance Operations</td>\n",
       "      <td>First Degree or HND</td>\n",
       "      <td>Male</td>\n",
       "      <td>Agency and others</td>\n",
       "      <td>2</td>\n",
       "      <td>1997</td>\n",
       "      <td>0.0</td>\n",
       "      <td>2018</td>\n",
       "      <td>0</td>\n",
       "      <td>0</td>\n",
       "      <td>63</td>\n",
       "      <td>OYO</td>\n",
       "      <td>Yes</td>\n",
       "      <td>Married</td>\n",
       "      <td>No</td>\n",
       "      <td>No</td>\n",
       "      <td>0</td>\n",
       "      <td>1</td>\n",
       "    </tr>\n",
       "    <tr>\n",
       "      <th>38205</th>\n",
       "      <td>YAK/S/54644</td>\n",
       "      <td>Customer Support and Field Operations</td>\n",
       "      <td>First Degree or HND</td>\n",
       "      <td>Female</td>\n",
       "      <td>Agency and others</td>\n",
       "      <td>2</td>\n",
       "      <td>1981</td>\n",
       "      <td>7.5</td>\n",
       "      <td>2008</td>\n",
       "      <td>1</td>\n",
       "      <td>0</td>\n",
       "      <td>83</td>\n",
       "      <td>ENUGU</td>\n",
       "      <td>No</td>\n",
       "      <td>Married</td>\n",
       "      <td>No</td>\n",
       "      <td>No</td>\n",
       "      <td>0</td>\n",
       "      <td>1</td>\n",
       "    </tr>\n",
       "    <tr>\n",
       "      <th>38255</th>\n",
       "      <td>YAK/S/54721</td>\n",
       "      <td>Information and Strategy</td>\n",
       "      <td>First Degree or HND</td>\n",
       "      <td>Male</td>\n",
       "      <td>Direct Internal process</td>\n",
       "      <td>2</td>\n",
       "      <td>1992</td>\n",
       "      <td>5.0</td>\n",
       "      <td>2016</td>\n",
       "      <td>1</td>\n",
       "      <td>0</td>\n",
       "      <td>80</td>\n",
       "      <td>ENUGU</td>\n",
       "      <td>Yes</td>\n",
       "      <td>Married</td>\n",
       "      <td>No</td>\n",
       "      <td>No</td>\n",
       "      <td>1</td>\n",
       "      <td>1</td>\n",
       "    </tr>\n",
       "    <tr>\n",
       "      <th>38256</th>\n",
       "      <td>YAK/S/54723</td>\n",
       "      <td>Sourcing and Purchasing</td>\n",
       "      <td>MSc, MBA and PhD</td>\n",
       "      <td>Male</td>\n",
       "      <td>Direct Internal process</td>\n",
       "      <td>2</td>\n",
       "      <td>1987</td>\n",
       "      <td>12.5</td>\n",
       "      <td>2017</td>\n",
       "      <td>1</td>\n",
       "      <td>0</td>\n",
       "      <td>64</td>\n",
       "      <td>ONDO</td>\n",
       "      <td>Yes</td>\n",
       "      <td>Married</td>\n",
       "      <td>No</td>\n",
       "      <td>No</td>\n",
       "      <td>3</td>\n",
       "      <td>1</td>\n",
       "    </tr>\n",
       "    <tr>\n",
       "      <th>38263</th>\n",
       "      <td>YAK/S/54731</td>\n",
       "      <td>Commercial Sales and Marketing</td>\n",
       "      <td>First Degree or HND</td>\n",
       "      <td>Male</td>\n",
       "      <td>Agency and others</td>\n",
       "      <td>2</td>\n",
       "      <td>1992</td>\n",
       "      <td>12.5</td>\n",
       "      <td>2015</td>\n",
       "      <td>0</td>\n",
       "      <td>0</td>\n",
       "      <td>50</td>\n",
       "      <td>FCT</td>\n",
       "      <td>Yes</td>\n",
       "      <td>Married</td>\n",
       "      <td>No</td>\n",
       "      <td>No</td>\n",
       "      <td>1</td>\n",
       "      <td>1</td>\n",
       "    </tr>\n",
       "    <tr>\n",
       "      <th>38267</th>\n",
       "      <td>YAK/S/54735</td>\n",
       "      <td>Customer Support and Field Operations</td>\n",
       "      <td>First Degree or HND</td>\n",
       "      <td>Male</td>\n",
       "      <td>Direct Internal process</td>\n",
       "      <td>2</td>\n",
       "      <td>1990</td>\n",
       "      <td>0.0</td>\n",
       "      <td>2018</td>\n",
       "      <td>1</td>\n",
       "      <td>0</td>\n",
       "      <td>48</td>\n",
       "      <td>KADUNA</td>\n",
       "      <td>Yes</td>\n",
       "      <td>Married</td>\n",
       "      <td>No</td>\n",
       "      <td>No</td>\n",
       "      <td>1</td>\n",
       "      <td>1</td>\n",
       "    </tr>\n",
       "    <tr>\n",
       "      <th>38302</th>\n",
       "      <td>YAK/S/54793</td>\n",
       "      <td>Commercial Sales and Marketing</td>\n",
       "      <td>First Degree or HND</td>\n",
       "      <td>Male</td>\n",
       "      <td>Agency and others</td>\n",
       "      <td>2</td>\n",
       "      <td>1962</td>\n",
       "      <td>7.5</td>\n",
       "      <td>2008</td>\n",
       "      <td>0</td>\n",
       "      <td>0</td>\n",
       "      <td>57</td>\n",
       "      <td>KANO</td>\n",
       "      <td>Yes</td>\n",
       "      <td>Married</td>\n",
       "      <td>No</td>\n",
       "      <td>No</td>\n",
       "      <td>1</td>\n",
       "      <td>1</td>\n",
       "    </tr>\n",
       "  </tbody>\n",
       "</table>\n",
       "</div>"
      ],
      "text/plain": [
       "        EmployeeNo                                     Division  \\\n",
       "37782  YAK/S/54018                     Information and Strategy   \n",
       "37784  YAK/S/54021        Customer Support and Field Operations   \n",
       "37789  YAK/S/54027               Commercial Sales and Marketing   \n",
       "37800  YAK/S/54044                      Sourcing and Purchasing   \n",
       "37816  YAK/S/54069                      Sourcing and Purchasing   \n",
       "37818  YAK/S/54073  Information Technology and Solution Support   \n",
       "37849  YAK/S/54121  Information Technology and Solution Support   \n",
       "37856  YAK/S/54131        Customer Support and Field Operations   \n",
       "37860  YAK/S/54138               Commercial Sales and Marketing   \n",
       "37864  YAK/S/54147        Customer Support and Field Operations   \n",
       "37874  YAK/S/54165                      Sourcing and Purchasing   \n",
       "37884  YAK/S/54181               Commercial Sales and Marketing   \n",
       "37918  YAK/S/54234                     Information and Strategy   \n",
       "37919  YAK/S/54237               Commercial Sales and Marketing   \n",
       "37937  YAK/S/54260                      Sourcing and Purchasing   \n",
       "37945  YAK/S/54270               Commercial Sales and Marketing   \n",
       "37959  YAK/S/54289  Information Technology and Solution Support   \n",
       "37968  YAK/S/54306                     Information and Strategy   \n",
       "37982  YAK/S/54327  Information Technology and Solution Support   \n",
       "37983  YAK/S/54328                      Research and Innovation   \n",
       "37985  YAK/S/54332  Information Technology and Solution Support   \n",
       "37990  YAK/S/54338                      Sourcing and Purchasing   \n",
       "38004  YAK/S/54356               Commercial Sales and Marketing   \n",
       "38012  YAK/S/54370  Information Technology and Solution Support   \n",
       "38015  YAK/S/54374                  Business Finance Operations   \n",
       "38022  YAK/S/54386               Commercial Sales and Marketing   \n",
       "38044  YAK/S/54417        Customer Support and Field Operations   \n",
       "38050  YAK/S/54423        Customer Support and Field Operations   \n",
       "38051  YAK/S/54425               Commercial Sales and Marketing   \n",
       "38066  YAK/S/54443               Commercial Sales and Marketing   \n",
       "38074  YAK/S/54456               Commercial Sales and Marketing   \n",
       "38082  YAK/S/54472               Commercial Sales and Marketing   \n",
       "38094  YAK/S/54490               Commercial Sales and Marketing   \n",
       "38099  YAK/S/54498        Customer Support and Field Operations   \n",
       "38103  YAK/S/54504               Commercial Sales and Marketing   \n",
       "38104  YAK/S/54505  Information Technology and Solution Support   \n",
       "38105  YAK/S/54508                     Information and Strategy   \n",
       "38114  YAK/S/54524        Customer Support and Field Operations   \n",
       "38123  YAK/S/54534                     Information and Strategy   \n",
       "38128  YAK/S/54543  Information Technology and Solution Support   \n",
       "38152  YAK/S/54575                     Information and Strategy   \n",
       "38154  YAK/S/54577        Customer Support and Field Operations   \n",
       "38155  YAK/S/54580  Information Technology and Solution Support   \n",
       "38189  YAK/S/54625                  Business Finance Operations   \n",
       "38205  YAK/S/54644        Customer Support and Field Operations   \n",
       "38255  YAK/S/54721                     Information and Strategy   \n",
       "38256  YAK/S/54723                      Sourcing and Purchasing   \n",
       "38263  YAK/S/54731               Commercial Sales and Marketing   \n",
       "38267  YAK/S/54735        Customer Support and Field Operations   \n",
       "38302  YAK/S/54793               Commercial Sales and Marketing   \n",
       "\n",
       "             Qualification  Gender           Channel_of_Recruitment  \\\n",
       "37782     MSc, MBA and PhD    Male          Direct Internal process   \n",
       "37784     MSc, MBA and PhD    Male                Agency and others   \n",
       "37789  First Degree or HND    Male          Direct Internal process   \n",
       "37800     MSc, MBA and PhD  Female                Agency and others   \n",
       "37816     MSc, MBA and PhD    Male                Agency and others   \n",
       "37818  First Degree or HND  Female                Agency and others   \n",
       "37849  First Degree or HND    Male          Direct Internal process   \n",
       "37856     MSc, MBA and PhD    Male          Direct Internal process   \n",
       "37860  First Degree or HND    Male          Direct Internal process   \n",
       "37864  First Degree or HND    Male                Agency and others   \n",
       "37874  First Degree or HND    Male                Agency and others   \n",
       "37884     MSc, MBA and PhD    Male                Agency and others   \n",
       "37918  First Degree or HND    Male                Agency and others   \n",
       "37919     MSc, MBA and PhD  Female                Agency and others   \n",
       "37937  First Degree or HND  Female                Agency and others   \n",
       "37945  First Degree or HND    Male                Agency and others   \n",
       "37959     MSc, MBA and PhD    Male                Agency and others   \n",
       "37968  First Degree or HND    Male  Referral and Special candidates   \n",
       "37982     MSc, MBA and PhD    Male                Agency and others   \n",
       "37983  First Degree or HND    Male                Agency and others   \n",
       "37985  First Degree or HND    Male                Agency and others   \n",
       "37990  First Degree or HND    Male                Agency and others   \n",
       "38004  First Degree or HND  Female                Agency and others   \n",
       "38012     MSc, MBA and PhD    Male          Direct Internal process   \n",
       "38015  First Degree or HND    Male                Agency and others   \n",
       "38022     MSc, MBA and PhD    Male          Direct Internal process   \n",
       "38044     MSc, MBA and PhD    Male                Agency and others   \n",
       "38050  First Degree or HND    Male          Direct Internal process   \n",
       "38051  First Degree or HND  Female                Agency and others   \n",
       "38066  First Degree or HND    Male                Agency and others   \n",
       "38074  First Degree or HND    Male          Direct Internal process   \n",
       "38082  First Degree or HND    Male                Agency and others   \n",
       "38094  First Degree or HND    Male                Agency and others   \n",
       "38099  First Degree or HND    Male          Direct Internal process   \n",
       "38103     MSc, MBA and PhD    Male          Direct Internal process   \n",
       "38104  First Degree or HND    Male                Agency and others   \n",
       "38105     MSc, MBA and PhD    Male                Agency and others   \n",
       "38114     MSc, MBA and PhD    Male          Direct Internal process   \n",
       "38123  First Degree or HND    Male          Direct Internal process   \n",
       "38128     MSc, MBA and PhD    Male                Agency and others   \n",
       "38152  First Degree or HND    Male          Direct Internal process   \n",
       "38154     MSc, MBA and PhD    Male          Direct Internal process   \n",
       "38155     MSc, MBA and PhD    Male          Direct Internal process   \n",
       "38189  First Degree or HND    Male                Agency and others   \n",
       "38205  First Degree or HND  Female                Agency and others   \n",
       "38255  First Degree or HND    Male          Direct Internal process   \n",
       "38256     MSc, MBA and PhD    Male          Direct Internal process   \n",
       "38263  First Degree or HND    Male                Agency and others   \n",
       "38267  First Degree or HND    Male          Direct Internal process   \n",
       "38302  First Degree or HND    Male                Agency and others   \n",
       "\n",
       "       Trainings_Attended  Year_of_birth  Last_performance_score  \\\n",
       "37782                   2           1980                    12.5   \n",
       "37784                   2           1983                    12.5   \n",
       "37789                   2           1993                    12.5   \n",
       "37800                   2           1981                     5.0   \n",
       "37816                   2           1983                    12.5   \n",
       "37818                   2           1983                    12.5   \n",
       "37849                   2           1990                     7.5   \n",
       "37856                   2           1989                     2.5   \n",
       "37860                   2           1990                    12.5   \n",
       "37864                   2           1984                    12.5   \n",
       "37874                   2           1985                     7.5   \n",
       "37884                   2           1981                    10.0   \n",
       "37918                   3           1989                    10.0   \n",
       "37919                   2           1986                    12.5   \n",
       "37937                   2           1973                     7.5   \n",
       "37945                   2           1994                    10.0   \n",
       "37959                   2           1984                    10.0   \n",
       "37968                   2           1992                     2.5   \n",
       "37982                   2           1986                    12.5   \n",
       "37983                   3           1991                    10.0   \n",
       "37985                   2           1991                    10.0   \n",
       "37990                   2           1990                     7.5   \n",
       "38004                   2           1993                    10.0   \n",
       "38012                   2           1987                    12.5   \n",
       "38015                   2           1995                     5.0   \n",
       "38022                   2           1985                    12.5   \n",
       "38044                   2           1978                    10.0   \n",
       "38050                   2           1982                    12.5   \n",
       "38051                   2           1994                     0.0   \n",
       "38066                   2           1984                    10.0   \n",
       "38074                   2           1988                     7.5   \n",
       "38082                   3           1995                    12.5   \n",
       "38094                   2           1977                    10.0   \n",
       "38099                   2           1985                    10.0   \n",
       "38103                   3           1989                    10.0   \n",
       "38104                   2           1994                    10.0   \n",
       "38105                   2           1986                    12.5   \n",
       "38114                   3           1983                    12.5   \n",
       "38123                   3           1989                    12.5   \n",
       "38128                   2           1978                     7.5   \n",
       "38152                   2           1993                    12.5   \n",
       "38154                   2           1986                    12.5   \n",
       "38155                   2           1979                     7.5   \n",
       "38189                   2           1997                     0.0   \n",
       "38205                   2           1981                     7.5   \n",
       "38255                   2           1992                     5.0   \n",
       "38256                   2           1987                    12.5   \n",
       "38263                   2           1992                    12.5   \n",
       "38267                   2           1990                     0.0   \n",
       "38302                   2           1962                     7.5   \n",
       "\n",
       "       Year_of_recruitment  Targets_met  Previous_Award  \\\n",
       "37782                 2014            1               1   \n",
       "37784                 2015            1               0   \n",
       "37789                 2018            1               0   \n",
       "37800                 2015            1               0   \n",
       "37816                 2015            0               0   \n",
       "37818                 2015            1               0   \n",
       "37849                 2017            1               0   \n",
       "37856                 2009            1               0   \n",
       "37860                 2017            0               0   \n",
       "37864                 2012            0               1   \n",
       "37874                 2011            1               0   \n",
       "37884                 2009            1               0   \n",
       "37918                 2013            1               0   \n",
       "37919                 2015            0               0   \n",
       "37937                 2003            0               0   \n",
       "37945                 2018            1               0   \n",
       "37959                 2016            0               0   \n",
       "37968                 2013            0               0   \n",
       "37982                 2014            1               0   \n",
       "37983                 2015            1               0   \n",
       "37985                 2012            1               0   \n",
       "37990                 2015            0               0   \n",
       "38004                 2015            1               0   \n",
       "38012                 2010            1               0   \n",
       "38015                 2016            0               0   \n",
       "38022                 2017            1               0   \n",
       "38044                 2015            0               0   \n",
       "38050                 2008            1               0   \n",
       "38051                 2018            0               0   \n",
       "38066                 2016            1               0   \n",
       "38074                 2012            1               0   \n",
       "38082                 2017            0               0   \n",
       "38094                 2005            0               0   \n",
       "38099                 2011            1               0   \n",
       "38103                 2014            1               1   \n",
       "38104                 2017            1               0   \n",
       "38105                 2016            0               1   \n",
       "38114                 2008            0               0   \n",
       "38123                 2017            1               0   \n",
       "38128                 2007            0               0   \n",
       "38152                 2016            1               0   \n",
       "38154                 2016            1               0   \n",
       "38155                 2007            0               0   \n",
       "38189                 2018            0               0   \n",
       "38205                 2008            1               0   \n",
       "38255                 2016            1               0   \n",
       "38256                 2017            1               0   \n",
       "38263                 2015            0               0   \n",
       "38267                 2018            1               0   \n",
       "38302                 2008            0               0   \n",
       "\n",
       "       Training_score_average State_Of_Origin Foreign_schooled Marital_Status  \\\n",
       "37782                      82           KWARA              Yes        Married   \n",
       "37784                      48          RIVERS              Yes         Single   \n",
       "37789                      40           LAGOS              Yes        Married   \n",
       "37800                      61            KANO              Yes        Married   \n",
       "37816                      74           LAGOS              Yes         Single   \n",
       "37818                      70           BENUE              Yes        Married   \n",
       "37849                      71         ANAMBRA              Yes        Married   \n",
       "37856                      54         PLATEAU              Yes         Single   \n",
       "37860                      52          KADUNA              Yes        Married   \n",
       "37864                      71         BAYELSA              Yes        Married   \n",
       "37874                      59             EDO              Yes        Married   \n",
       "37884                      39          RIVERS              Yes        Married   \n",
       "37918                      83           DELTA              Yes        Married   \n",
       "37919                      51          TARABA              Yes         Single   \n",
       "37937                      69         ZAMFARA               No        Married   \n",
       "37945                      41           LAGOS              Yes        Married   \n",
       "37959                      74           KEBBI              Yes        Married   \n",
       "37968                      74             EDO              Yes        Married   \n",
       "37982                      88         PLATEAU              Yes         Single   \n",
       "37983                      76            KANO              Yes        Married   \n",
       "37985                      71           LAGOS              Yes        Married   \n",
       "37990                      72            ONDO              Yes        Married   \n",
       "38004                      43           LAGOS              Yes        Married   \n",
       "38012                      72          RIVERS              Yes        Married   \n",
       "38015                      61           ENUGU              Yes        Married   \n",
       "38022                      86             FCT              Yes        Married   \n",
       "38044                      65           BENUE              Yes        Married   \n",
       "38050                      52           GOMBE              Yes        Married   \n",
       "38051                      59           LAGOS              Yes        Married   \n",
       "38066                      55           EKITI              Yes        Married   \n",
       "38074                      88             IMO              Yes        Married   \n",
       "38082                      57       AKWA IBOM               No        Married   \n",
       "38094                      50            KANO              Yes        Married   \n",
       "38099                      48             EDO              Yes        Married   \n",
       "38103                      84            OGUN              Yes        Married   \n",
       "38104                      70          RIVERS              Yes        Married   \n",
       "38105                      73       NASSARAWA              Yes        Married   \n",
       "38114                      64           LAGOS              Yes        Married   \n",
       "38123                      79             IMO              Yes        Married   \n",
       "38128                      72           ENUGU              Yes         Single   \n",
       "38152                      80           LAGOS              Yes        Married   \n",
       "38154                      49            ONDO              Yes        Married   \n",
       "38155                      72            OGUN              Yes        Married   \n",
       "38189                      63             OYO              Yes        Married   \n",
       "38205                      83           ENUGU               No        Married   \n",
       "38255                      80           ENUGU              Yes        Married   \n",
       "38256                      64            ONDO              Yes        Married   \n",
       "38263                      50             FCT              Yes        Married   \n",
       "38267                      48          KADUNA              Yes        Married   \n",
       "38302                      57            KANO              Yes        Married   \n",
       "\n",
       "      Past_Disciplinary_Action Previous_IntraDepartmental_Movement  \\\n",
       "37782                       No                                  No   \n",
       "37784                       No                                  No   \n",
       "37789                       No                                  No   \n",
       "37800                       No                                  No   \n",
       "37816                       No                                  No   \n",
       "37818                       No                                  No   \n",
       "37849                       No                                  No   \n",
       "37856                       No                                  No   \n",
       "37860                       No                                  No   \n",
       "37864                       No                                  No   \n",
       "37874                       No                                  No   \n",
       "37884                       No                                  No   \n",
       "37918                       No                                  No   \n",
       "37919                       No                                 Yes   \n",
       "37937                       No                                  No   \n",
       "37945                       No                                  No   \n",
       "37959                       No                                  No   \n",
       "37968                       No                                  No   \n",
       "37982                       No                                  No   \n",
       "37983                       No                                  No   \n",
       "37985                       No                                  No   \n",
       "37990                       No                                  No   \n",
       "38004                       No                                  No   \n",
       "38012                       No                                  No   \n",
       "38015                       No                                  No   \n",
       "38022                       No                                  No   \n",
       "38044                       No                                 Yes   \n",
       "38050                       No                                  No   \n",
       "38051                       No                                  No   \n",
       "38066                       No                                  No   \n",
       "38074                       No                                  No   \n",
       "38082                       No                                  No   \n",
       "38094                       No                                 Yes   \n",
       "38099                       No                                  No   \n",
       "38103                       No                                  No   \n",
       "38104                       No                                  No   \n",
       "38105                       No                                  No   \n",
       "38114                       No                                  No   \n",
       "38123                       No                                  No   \n",
       "38128                       No                                  No   \n",
       "38152                       No                                  No   \n",
       "38154                       No                                  No   \n",
       "38155                       No                                 Yes   \n",
       "38189                       No                                  No   \n",
       "38205                       No                                  No   \n",
       "38255                       No                                  No   \n",
       "38256                       No                                  No   \n",
       "38263                       No                                  No   \n",
       "38267                       No                                  No   \n",
       "38302                       No                                  No   \n",
       "\n",
       "      No_of_previous_employers  Promoted_or_Not  \n",
       "37782                        0                1  \n",
       "37784                        1                1  \n",
       "37789                        1                1  \n",
       "37800                        0                1  \n",
       "37816                        2                1  \n",
       "37818                        0                1  \n",
       "37849                        4                1  \n",
       "37856                        1                1  \n",
       "37860                        1                1  \n",
       "37864                        1                1  \n",
       "37874                        1                1  \n",
       "37884                        0                1  \n",
       "37918                        0                1  \n",
       "37919                        0                1  \n",
       "37937                        1                1  \n",
       "37945                        0                1  \n",
       "37959                        1                1  \n",
       "37968                        3                1  \n",
       "37982                        0                1  \n",
       "37983                        1                1  \n",
       "37985                        1                1  \n",
       "37990                        1                1  \n",
       "38004                        0                1  \n",
       "38012                        1                1  \n",
       "38015                        0                1  \n",
       "38022                        1                1  \n",
       "38044                        3                1  \n",
       "38050                        0                1  \n",
       "38051                        0                1  \n",
       "38066                        0                1  \n",
       "38074                        1                1  \n",
       "38082                        4                1  \n",
       "38094                        0                1  \n",
       "38099                        1                1  \n",
       "38103                        0                1  \n",
       "38104                        0                1  \n",
       "38105                        1                1  \n",
       "38114                        0                1  \n",
       "38123                        1                1  \n",
       "38128                        1                1  \n",
       "38152                        2                1  \n",
       "38154                        0                1  \n",
       "38155                        1                1  \n",
       "38189                        0                1  \n",
       "38205                        0                1  \n",
       "38255                        1                1  \n",
       "38256                        3                1  \n",
       "38263                        1                1  \n",
       "38267                        1                1  \n",
       "38302                        1                1  "
      ]
     },
     "execution_count": 7,
     "metadata": {},
     "output_type": "execute_result"
    }
   ],
   "source": [
    "# Getting a subset dataframe of the last 50 employees in the train dataset that were promoted\n",
    "train[train.Promoted_or_Not==1].tail(50)"
   ]
  },
  {
   "cell_type": "markdown",
   "metadata": {},
   "source": [
    "It is best that I concat both train and test sets for easy analysis. This is also to obtain the same number of features when converting categorical features"
   ]
  },
  {
   "cell_type": "code",
   "execution_count": 8,
   "metadata": {},
   "outputs": [],
   "source": [
    "data=pd.concat([train,test],ignore_index=True)"
   ]
  },
  {
   "cell_type": "markdown",
   "metadata": {},
   "source": [
    "### Main Explorative Data Analysis"
   ]
  },
  {
   "cell_type": "markdown",
   "metadata": {},
   "source": [
    "The goal of this challenge is to remove bias and skewness in the staff promotion process, so intuitively and analytically I will drop features that may be a bias to this process"
   ]
  },
  {
   "cell_type": "markdown",
   "metadata": {},
   "source": [
    "First, doing a descriptive analysis of the train set. This will also serve as a check for outliers"
   ]
  },
  {
   "cell_type": "code",
   "execution_count": 9,
   "metadata": {},
   "outputs": [
    {
     "data": {
      "text/html": [
       "<div>\n",
       "<style scoped>\n",
       "    .dataframe tbody tr th:only-of-type {\n",
       "        vertical-align: middle;\n",
       "    }\n",
       "\n",
       "    .dataframe tbody tr th {\n",
       "        vertical-align: top;\n",
       "    }\n",
       "\n",
       "    .dataframe thead th {\n",
       "        text-align: right;\n",
       "    }\n",
       "</style>\n",
       "<table border=\"1\" class=\"dataframe\">\n",
       "  <thead>\n",
       "    <tr style=\"text-align: right;\">\n",
       "      <th></th>\n",
       "      <th>Trainings_Attended</th>\n",
       "      <th>Year_of_birth</th>\n",
       "      <th>Last_performance_score</th>\n",
       "      <th>Year_of_recruitment</th>\n",
       "      <th>Targets_met</th>\n",
       "      <th>Previous_Award</th>\n",
       "      <th>Training_score_average</th>\n",
       "      <th>Promoted_or_Not</th>\n",
       "    </tr>\n",
       "  </thead>\n",
       "  <tbody>\n",
       "    <tr>\n",
       "      <th>count</th>\n",
       "      <td>38312.000000</td>\n",
       "      <td>38312.000000</td>\n",
       "      <td>38312.000000</td>\n",
       "      <td>38312.000000</td>\n",
       "      <td>38312.000000</td>\n",
       "      <td>38312.000000</td>\n",
       "      <td>38312.000000</td>\n",
       "      <td>38312.000000</td>\n",
       "    </tr>\n",
       "    <tr>\n",
       "      <th>mean</th>\n",
       "      <td>2.253680</td>\n",
       "      <td>1986.209334</td>\n",
       "      <td>7.698959</td>\n",
       "      <td>2013.139695</td>\n",
       "      <td>0.352996</td>\n",
       "      <td>0.023152</td>\n",
       "      <td>55.366465</td>\n",
       "      <td>0.084595</td>\n",
       "    </tr>\n",
       "    <tr>\n",
       "      <th>std</th>\n",
       "      <td>0.609443</td>\n",
       "      <td>7.646047</td>\n",
       "      <td>3.744135</td>\n",
       "      <td>4.261451</td>\n",
       "      <td>0.477908</td>\n",
       "      <td>0.150388</td>\n",
       "      <td>13.362741</td>\n",
       "      <td>0.278282</td>\n",
       "    </tr>\n",
       "    <tr>\n",
       "      <th>min</th>\n",
       "      <td>2.000000</td>\n",
       "      <td>1950.000000</td>\n",
       "      <td>0.000000</td>\n",
       "      <td>1982.000000</td>\n",
       "      <td>0.000000</td>\n",
       "      <td>0.000000</td>\n",
       "      <td>31.000000</td>\n",
       "      <td>0.000000</td>\n",
       "    </tr>\n",
       "    <tr>\n",
       "      <th>25%</th>\n",
       "      <td>2.000000</td>\n",
       "      <td>1982.000000</td>\n",
       "      <td>5.000000</td>\n",
       "      <td>2012.000000</td>\n",
       "      <td>0.000000</td>\n",
       "      <td>0.000000</td>\n",
       "      <td>43.000000</td>\n",
       "      <td>0.000000</td>\n",
       "    </tr>\n",
       "    <tr>\n",
       "      <th>50%</th>\n",
       "      <td>2.000000</td>\n",
       "      <td>1988.000000</td>\n",
       "      <td>7.500000</td>\n",
       "      <td>2014.000000</td>\n",
       "      <td>0.000000</td>\n",
       "      <td>0.000000</td>\n",
       "      <td>52.000000</td>\n",
       "      <td>0.000000</td>\n",
       "    </tr>\n",
       "    <tr>\n",
       "      <th>75%</th>\n",
       "      <td>2.000000</td>\n",
       "      <td>1992.000000</td>\n",
       "      <td>10.000000</td>\n",
       "      <td>2016.000000</td>\n",
       "      <td>1.000000</td>\n",
       "      <td>0.000000</td>\n",
       "      <td>68.000000</td>\n",
       "      <td>0.000000</td>\n",
       "    </tr>\n",
       "    <tr>\n",
       "      <th>max</th>\n",
       "      <td>11.000000</td>\n",
       "      <td>2001.000000</td>\n",
       "      <td>12.500000</td>\n",
       "      <td>2018.000000</td>\n",
       "      <td>1.000000</td>\n",
       "      <td>1.000000</td>\n",
       "      <td>91.000000</td>\n",
       "      <td>1.000000</td>\n",
       "    </tr>\n",
       "  </tbody>\n",
       "</table>\n",
       "</div>"
      ],
      "text/plain": [
       "       Trainings_Attended  Year_of_birth  Last_performance_score  \\\n",
       "count        38312.000000   38312.000000            38312.000000   \n",
       "mean             2.253680    1986.209334                7.698959   \n",
       "std              0.609443       7.646047                3.744135   \n",
       "min              2.000000    1950.000000                0.000000   \n",
       "25%              2.000000    1982.000000                5.000000   \n",
       "50%              2.000000    1988.000000                7.500000   \n",
       "75%              2.000000    1992.000000               10.000000   \n",
       "max             11.000000    2001.000000               12.500000   \n",
       "\n",
       "       Year_of_recruitment   Targets_met  Previous_Award  \\\n",
       "count         38312.000000  38312.000000    38312.000000   \n",
       "mean           2013.139695      0.352996        0.023152   \n",
       "std               4.261451      0.477908        0.150388   \n",
       "min            1982.000000      0.000000        0.000000   \n",
       "25%            2012.000000      0.000000        0.000000   \n",
       "50%            2014.000000      0.000000        0.000000   \n",
       "75%            2016.000000      1.000000        0.000000   \n",
       "max            2018.000000      1.000000        1.000000   \n",
       "\n",
       "       Training_score_average  Promoted_or_Not  \n",
       "count            38312.000000     38312.000000  \n",
       "mean                55.366465         0.084595  \n",
       "std                 13.362741         0.278282  \n",
       "min                 31.000000         0.000000  \n",
       "25%                 43.000000         0.000000  \n",
       "50%                 52.000000         0.000000  \n",
       "75%                 68.000000         0.000000  \n",
       "max                 91.000000         1.000000  "
      ]
     },
     "execution_count": 9,
     "metadata": {},
     "output_type": "execute_result"
    }
   ],
   "source": [
    "train.describe()"
   ]
  },
  {
   "cell_type": "markdown",
   "metadata": {},
   "source": [
    "From the description, the 75th percentile has attended just two(2) trainings, while the highest number of trainings attended by an employee is eleven(11). Also the Training_score_average increases exponentially after the 75th percentile. These two features may have outlier values"
   ]
  },
  {
   "cell_type": "markdown",
   "metadata": {},
   "source": [
    "Checking for outliers"
   ]
  },
  {
   "cell_type": "code",
   "execution_count": 10,
   "metadata": {},
   "outputs": [],
   "source": [
    "from collections import Counter\n",
    "\n",
    "def find_outliers(df,n,ftrs):\n",
    "    \"\"\"\n",
    "    A python function to detect outliers. It takes in the dataframe df and checks if features ftrs have n number of outliers\n",
    "    \"\"\"\n",
    "    outlier_list = []\n",
    "    \n",
    "    # iterating over the features(ftr)\n",
    "    for column in ftrs:\n",
    "        \n",
    "        # calculating interquartile range (Q3-Q1)\n",
    "        Q1 = np.percentile(df[column], 25)\n",
    "        Q3 = np.percentile(df[column],75)\n",
    "        \n",
    "        IQR = Q3 - Q1\n",
    "        \n",
    "        # outlier step\n",
    "        outlier_step = 1.5 * IQR\n",
    "        \n",
    "        # Getting the indices of outliers\n",
    "        outlier_indices_list = df[(df[column] < Q1 - outlier_step) | (df[column] > Q3 + outlier_step )].index.tolist()\n",
    "        \n",
    "        # adding the outlier_indices_list to the empty list\n",
    "        outlier_list.extend(outlier_indices_list)\n",
    "        \n",
    "    # Checking for multiple outliers        \n",
    "    multi_outliers = list( p for p, q in Counter(outlier_list).items() if q > n )\n",
    "    \n",
    "    return multi_outliers   "
   ]
  },
  {
   "cell_type": "code",
   "execution_count": 11,
   "metadata": {},
   "outputs": [
    {
     "data": {
      "text/plain": [
       "[]"
      ]
     },
     "execution_count": 11,
     "metadata": {},
     "output_type": "execute_result"
    }
   ],
   "source": [
    "# Now checking if truly those two columns contain outliers\n",
    "outliers = find_outliers(train,2,[\"Trainings_Attended\",\"Training_score_average\"])\n",
    "outliers"
   ]
  },
  {
   "cell_type": "markdown",
   "metadata": {},
   "source": [
    "The function for finding outliers returned an empty list, there are no outlier values that can affect my model. I can now proceed with the analysis"
   ]
  },
  {
   "cell_type": "markdown",
   "metadata": {},
   "source": [
    "Grouping Gender and Promoted_or_Not for comparisons"
   ]
  },
  {
   "cell_type": "code",
   "execution_count": 12,
   "metadata": {},
   "outputs": [
    {
     "data": {
      "text/plain": [
       "Gender  Promoted_or_Not\n",
       "Female  0.0                10414\n",
       "        1.0                 1018\n",
       "Male    0.0                24657\n",
       "        1.0                 2223\n",
       "Name: Promoted_or_Not, dtype: int64"
      ]
     },
     "execution_count": 12,
     "metadata": {},
     "output_type": "execute_result"
    }
   ],
   "source": [
    "data.groupby(['Gender','Promoted_or_Not'])['Promoted_or_Not'].count()"
   ]
  },
  {
   "cell_type": "code",
   "execution_count": 13,
   "metadata": {
    "scrolled": true
   },
   "outputs": [
    {
     "data": {
      "text/html": [
       "<div>\n",
       "<style scoped>\n",
       "    .dataframe tbody tr th:only-of-type {\n",
       "        vertical-align: middle;\n",
       "    }\n",
       "\n",
       "    .dataframe tbody tr th {\n",
       "        vertical-align: top;\n",
       "    }\n",
       "\n",
       "    .dataframe thead th {\n",
       "        text-align: right;\n",
       "    }\n",
       "</style>\n",
       "<table border=\"1\" class=\"dataframe\">\n",
       "  <thead>\n",
       "    <tr style=\"text-align: right;\">\n",
       "      <th></th>\n",
       "      <th>Promoted_or_Not</th>\n",
       "    </tr>\n",
       "    <tr>\n",
       "      <th>Gender</th>\n",
       "      <th></th>\n",
       "    </tr>\n",
       "  </thead>\n",
       "  <tbody>\n",
       "    <tr>\n",
       "      <th>Female</th>\n",
       "      <td>0.089048</td>\n",
       "    </tr>\n",
       "    <tr>\n",
       "      <th>Male</th>\n",
       "      <td>0.082701</td>\n",
       "    </tr>\n",
       "  </tbody>\n",
       "</table>\n",
       "</div>"
      ],
      "text/plain": [
       "        Promoted_or_Not\n",
       "Gender                 \n",
       "Female         0.089048\n",
       "Male           0.082701"
      ]
     },
     "execution_count": 13,
     "metadata": {},
     "output_type": "execute_result"
    }
   ],
   "source": [
    "# Grouping these two features by the mean of Genderb\n",
    "train[['Gender','Promoted_or_Not']].groupby('Gender').mean()"
   ]
  },
  {
   "cell_type": "markdown",
   "metadata": {},
   "source": [
    "Female and Male have been given almost equal opportunity of promotion but female still have the better share here"
   ]
  },
  {
   "cell_type": "code",
   "execution_count": 14,
   "metadata": {},
   "outputs": [
    {
     "data": {
      "text/html": [
       "<div>\n",
       "<style scoped>\n",
       "    .dataframe tbody tr th:only-of-type {\n",
       "        vertical-align: middle;\n",
       "    }\n",
       "\n",
       "    .dataframe tbody tr th {\n",
       "        vertical-align: top;\n",
       "    }\n",
       "\n",
       "    .dataframe thead th {\n",
       "        text-align: right;\n",
       "    }\n",
       "</style>\n",
       "<table border=\"1\" class=\"dataframe\">\n",
       "  <thead>\n",
       "    <tr style=\"text-align: right;\">\n",
       "      <th></th>\n",
       "      <th></th>\n",
       "      <th>Last_performance_score</th>\n",
       "      <th>Previous_Award</th>\n",
       "      <th>Targets_met</th>\n",
       "      <th>Training_score_average</th>\n",
       "      <th>Trainings_Attended</th>\n",
       "      <th>Year_of_birth</th>\n",
       "      <th>Year_of_recruitment</th>\n",
       "    </tr>\n",
       "    <tr>\n",
       "      <th>Gender</th>\n",
       "      <th>Promoted_or_Not</th>\n",
       "      <th></th>\n",
       "      <th></th>\n",
       "      <th></th>\n",
       "      <th></th>\n",
       "      <th></th>\n",
       "      <th></th>\n",
       "      <th></th>\n",
       "    </tr>\n",
       "  </thead>\n",
       "  <tbody>\n",
       "    <tr>\n",
       "      <th rowspan=\"2\" valign=\"top\">Female</th>\n",
       "      <th>0.0</th>\n",
       "      <td>7.693490</td>\n",
       "      <td>0.012963</td>\n",
       "      <td>0.348281</td>\n",
       "      <td>55.066929</td>\n",
       "      <td>2.175917</td>\n",
       "      <td>1986.035721</td>\n",
       "      <td>2013.002113</td>\n",
       "    </tr>\n",
       "    <tr>\n",
       "      <th>1.0</th>\n",
       "      <td>9.275540</td>\n",
       "      <td>0.122790</td>\n",
       "      <td>0.717092</td>\n",
       "      <td>64.024558</td>\n",
       "      <td>2.158153</td>\n",
       "      <td>1986.392927</td>\n",
       "      <td>2013.252456</td>\n",
       "    </tr>\n",
       "    <tr>\n",
       "      <th rowspan=\"2\" valign=\"top\">Male</th>\n",
       "      <th>0.0</th>\n",
       "      <td>7.507503</td>\n",
       "      <td>0.014357</td>\n",
       "      <td>0.308594</td>\n",
       "      <td>54.461938</td>\n",
       "      <td>2.292939</td>\n",
       "      <td>1986.223182</td>\n",
       "      <td>2013.175163</td>\n",
       "    </tr>\n",
       "    <tr>\n",
       "      <th>1.0</th>\n",
       "      <td>9.126181</td>\n",
       "      <td>0.122807</td>\n",
       "      <td>0.700855</td>\n",
       "      <td>62.837607</td>\n",
       "      <td>2.226271</td>\n",
       "      <td>1986.784975</td>\n",
       "      <td>2013.339181</td>\n",
       "    </tr>\n",
       "  </tbody>\n",
       "</table>\n",
       "</div>"
      ],
      "text/plain": [
       "                        Last_performance_score  Previous_Award  Targets_met  \\\n",
       "Gender Promoted_or_Not                                                        \n",
       "Female 0.0                            7.693490        0.012963     0.348281   \n",
       "       1.0                            9.275540        0.122790     0.717092   \n",
       "Male   0.0                            7.507503        0.014357     0.308594   \n",
       "       1.0                            9.126181        0.122807     0.700855   \n",
       "\n",
       "                        Training_score_average  Trainings_Attended  \\\n",
       "Gender Promoted_or_Not                                               \n",
       "Female 0.0                           55.066929            2.175917   \n",
       "       1.0                           64.024558            2.158153   \n",
       "Male   0.0                           54.461938            2.292939   \n",
       "       1.0                           62.837607            2.226271   \n",
       "\n",
       "                        Year_of_birth  Year_of_recruitment  \n",
       "Gender Promoted_or_Not                                      \n",
       "Female 0.0                1986.035721          2013.002113  \n",
       "       1.0                1986.392927          2013.252456  \n",
       "Male   0.0                1986.223182          2013.175163  \n",
       "       1.0                1986.784975          2013.339181  "
      ]
     },
     "execution_count": 14,
     "metadata": {},
     "output_type": "execute_result"
    }
   ],
   "source": [
    "data.groupby(['Gender','Promoted_or_Not']).mean()"
   ]
  },
  {
   "cell_type": "code",
   "execution_count": 15,
   "metadata": {},
   "outputs": [],
   "source": [
    "# Both male and female should be promoted equally, I will drop the 'Gender' column\n",
    "data=data.drop('Gender',axis=1)"
   ]
  },
  {
   "cell_type": "code",
   "execution_count": 16,
   "metadata": {},
   "outputs": [
    {
     "data": {
      "text/plain": [
       "array(['Agency and others', 'Direct Internal process',\n",
       "       'Referral and Special candidates'], dtype=object)"
      ]
     },
     "execution_count": 16,
     "metadata": {},
     "output_type": "execute_result"
    }
   ],
   "source": [
    "np.unique(data.Channel_of_Recruitment)"
   ]
  },
  {
   "cell_type": "code",
   "execution_count": 17,
   "metadata": {},
   "outputs": [
    {
     "data": {
      "text/plain": [
       "<matplotlib.axes._subplots.AxesSubplot at 0x11e13dda978>"
      ]
     },
     "execution_count": 17,
     "metadata": {},
     "output_type": "execute_result"
    },
    {
     "data": {
      "image/png": "[encoded data removed]",
      "text/plain": [
       "<Figure size 720x504 with 1 Axes>"
      ]
     },
     "metadata": {
      "needs_background": "light"
     },
     "output_type": "display_data"
    }
   ],
   "source": [
    "plt.figure(figsize=(10,7))\n",
    "sb.countplot(data=train,x='Channel_of_Recruitment',hue='Promoted_or_Not')"
   ]
  },
  {
   "cell_type": "code",
   "execution_count": 18,
   "metadata": {},
   "outputs": [
    {
     "data": {
      "text/html": [
       "<div>\n",
       "<style scoped>\n",
       "    .dataframe tbody tr th:only-of-type {\n",
       "        vertical-align: middle;\n",
       "    }\n",
       "\n",
       "    .dataframe tbody tr th {\n",
       "        vertical-align: top;\n",
       "    }\n",
       "\n",
       "    .dataframe thead th {\n",
       "        text-align: right;\n",
       "    }\n",
       "</style>\n",
       "<table border=\"1\" class=\"dataframe\">\n",
       "  <thead>\n",
       "    <tr style=\"text-align: right;\">\n",
       "      <th></th>\n",
       "      <th>Promoted_or_Not</th>\n",
       "    </tr>\n",
       "    <tr>\n",
       "      <th>Channel_of_Recruitment</th>\n",
       "      <th></th>\n",
       "    </tr>\n",
       "  </thead>\n",
       "  <tbody>\n",
       "    <tr>\n",
       "      <th>Agency and others</th>\n",
       "      <td>0.084280</td>\n",
       "    </tr>\n",
       "    <tr>\n",
       "      <th>Direct Internal process</th>\n",
       "      <td>0.083179</td>\n",
       "    </tr>\n",
       "    <tr>\n",
       "      <th>Referral and Special candidates</th>\n",
       "      <td>0.121287</td>\n",
       "    </tr>\n",
       "  </tbody>\n",
       "</table>\n",
       "</div>"
      ],
      "text/plain": [
       "                                 Promoted_or_Not\n",
       "Channel_of_Recruitment                          \n",
       "Agency and others                       0.084280\n",
       "Direct Internal process                 0.083179\n",
       "Referral and Special candidates         0.121287"
      ]
     },
     "execution_count": 18,
     "metadata": {},
     "output_type": "execute_result"
    }
   ],
   "source": [
    "train[['Channel_of_Recruitment','Promoted_or_Not']].groupby('Channel_of_Recruitment').mean()"
   ]
  },
  {
   "cell_type": "markdown",
   "metadata": {},
   "source": [
    "It can be inferred from above that the company preferred recruiting employees from Agency and others. This is an assumption that agencies better equip persons for the workplace, and instill practical skills needed in the industries better than the traditional schooling. This feature gives information about recruitment and may be a bias in promotion process, so I will drop it."
   ]
  },
  {
   "cell_type": "code",
   "execution_count": 19,
   "metadata": {},
   "outputs": [],
   "source": [
    "# This can influence promotion process,so I will encode it numerically\n",
    "# data.Channel_of_Recruitment[data.Channel_of_Recruitment=='Referral and Special candidates']=0\n",
    "# data.Channel_of_Recruitment[data.Channel_of_Recruitment=='Direct Internal process']=1\n",
    "# data.Channel_of_Recruitment[data.Channel_of_Recruitment=='Agency and others']=2\n",
    "\n",
    "data=data.drop('Channel_of_Recruitment',axis=1)"
   ]
  },
  {
   "cell_type": "code",
   "execution_count": 20,
   "metadata": {},
   "outputs": [
    {
     "data": {
      "text/plain": [
       "<matplotlib.axes._subplots.AxesSubplot at 0x11e140d9080>"
      ]
     },
     "execution_count": 20,
     "metadata": {},
     "output_type": "execute_result"
    },
    {
     "data": {
      "image/png": "[encoded data removed]",
      "text/plain": [
       "<Figure size 720x504 with 1 Axes>"
      ]
     },
     "metadata": {
      "needs_background": "light"
     },
     "output_type": "display_data"
    }
   ],
   "source": [
    "plt.figure(figsize=(10,7))\n",
    "sb.countplot(data=train,x='Targets_met',hue='Promoted_or_Not',palette=['red','green'],saturation=0.5)"
   ]
  },
  {
   "cell_type": "markdown",
   "metadata": {},
   "source": [
    "Meeting targets in the workplace is a strong indication for promotion"
   ]
  },
  {
   "cell_type": "code",
   "execution_count": 21,
   "metadata": {},
   "outputs": [
    {
     "data": {
      "text/plain": [
       "array(['Business Finance Operations', 'Commercial Sales and Marketing',\n",
       "       'Customer Support and Field Operations',\n",
       "       'Information Technology and Solution Support',\n",
       "       'Information and Strategy', 'People/HR Management',\n",
       "       'Regulatory and Legal services', 'Research and Innovation',\n",
       "       'Sourcing and Purchasing'], dtype=object)"
      ]
     },
     "execution_count": 21,
     "metadata": {},
     "output_type": "execute_result"
    }
   ],
   "source": [
    "np.unique(data.Division)"
   ]
  },
  {
   "cell_type": "code",
   "execution_count": 22,
   "metadata": {
    "scrolled": true
   },
   "outputs": [
    {
     "data": {
      "text/plain": [
       "<matplotlib.axes._subplots.AxesSubplot at 0x11e14113470>"
      ]
     },
     "execution_count": 22,
     "metadata": {},
     "output_type": "execute_result"
    },
    {
     "data": {
      "image/png": "[encoded data removed]",
      "text/plain": [
       "<Figure size 1080x720 with 1 Axes>"
      ]
     },
     "metadata": {
      "needs_background": "light"
     },
     "output_type": "display_data"
    }
   ],
   "source": [
    "plt.figure(figsize=(15,10))\n",
    "sb.countplot(data=train,y='Division',hue='Promoted_or_Not',orient='h',edgecolor=sb.color_palette(\"dark\", 5))"
   ]
  },
  {
   "cell_type": "markdown",
   "metadata": {},
   "source": [
    "The departments in the organization influence promotion. Most of the staff are in the 'Commercial Sales and Marketing' division followed by the 'Support and Field' division. However priority should not be given to a division above another, so I will one-hot encode this feature"
   ]
  },
  {
   "cell_type": "code",
   "execution_count": 23,
   "metadata": {},
   "outputs": [],
   "source": [
    "# assigning eqaul priority to each department\n",
    "data=pd.get_dummies(data=data,columns=['Division'])"
   ]
  },
  {
   "cell_type": "code",
   "execution_count": 24,
   "metadata": {
    "scrolled": true
   },
   "outputs": [
    {
     "data": {
      "text/plain": [
       "<matplotlib.axes._subplots.AxesSubplot at 0x11e13e78e80>"
      ]
     },
     "execution_count": 24,
     "metadata": {},
     "output_type": "execute_result"
    },
    {
     "data": {
      "image/png": "[encoded data removed]",
      "text/plain": [
       "<Figure size 720x504 with 1 Axes>"
      ]
     },
     "metadata": {
      "needs_background": "light"
     },
     "output_type": "display_data"
    }
   ],
   "source": [
    "plt.figure(figsize=(10,7))\n",
    "sb.countplot(data=train,x='Qualification',hue='Promoted_or_Not')"
   ]
  },
  {
   "cell_type": "markdown",
   "metadata": {},
   "source": [
    "A great percentage of the staff population only have the First Degree or HND qualification. It might be that the majority of positions in the company are grdaute entry levels"
   ]
  },
  {
   "cell_type": "markdown",
   "metadata": {},
   "source": [
    "#### Handling the missing values of 'Qualification'"
   ]
  },
  {
   "cell_type": "code",
   "execution_count": 25,
   "metadata": {},
   "outputs": [
    {
     "data": {
      "text/plain": [
       "2409"
      ]
     },
     "execution_count": 25,
     "metadata": {},
     "output_type": "execute_result"
    }
   ],
   "source": [
    "# Getting the total number of rows with missing values for Qualification\n",
    "data.Qualification.isnull().sum()"
   ]
  },
  {
   "cell_type": "code",
   "execution_count": 26,
   "metadata": {},
   "outputs": [],
   "source": [
    "# Majority of the employees have First Degree, so I will fill the missing values with this\n",
    "data.Qualification=data.Qualification.fillna('First Degree or HND')"
   ]
  },
  {
   "cell_type": "markdown",
   "metadata": {},
   "source": [
    "Grouping Qualification and Promoted_or_Not"
   ]
  },
  {
   "cell_type": "code",
   "execution_count": 27,
   "metadata": {
    "scrolled": true
   },
   "outputs": [
    {
     "data": {
      "text/html": [
       "<div>\n",
       "<style scoped>\n",
       "    .dataframe tbody tr th:only-of-type {\n",
       "        vertical-align: middle;\n",
       "    }\n",
       "\n",
       "    .dataframe tbody tr th {\n",
       "        vertical-align: top;\n",
       "    }\n",
       "\n",
       "    .dataframe thead th {\n",
       "        text-align: right;\n",
       "    }\n",
       "</style>\n",
       "<table border=\"1\" class=\"dataframe\">\n",
       "  <thead>\n",
       "    <tr style=\"text-align: right;\">\n",
       "      <th></th>\n",
       "      <th>Promoted_or_Not</th>\n",
       "    </tr>\n",
       "    <tr>\n",
       "      <th>Qualification</th>\n",
       "      <th></th>\n",
       "    </tr>\n",
       "  </thead>\n",
       "  <tbody>\n",
       "    <tr>\n",
       "      <th>First Degree or HND</th>\n",
       "      <td>25578</td>\n",
       "    </tr>\n",
       "    <tr>\n",
       "      <th>MSc, MBA and PhD</th>\n",
       "      <td>10469</td>\n",
       "    </tr>\n",
       "    <tr>\n",
       "      <th>Non-University Education</th>\n",
       "      <td>586</td>\n",
       "    </tr>\n",
       "  </tbody>\n",
       "</table>\n",
       "</div>"
      ],
      "text/plain": [
       "                          Promoted_or_Not\n",
       "Qualification                            \n",
       "First Degree or HND                 25578\n",
       "MSc, MBA and PhD                    10469\n",
       "Non-University Education              586"
      ]
     },
     "execution_count": 27,
     "metadata": {},
     "output_type": "execute_result"
    }
   ],
   "source": [
    "train[['Qualification','Promoted_or_Not']].groupby('Qualification').count()"
   ]
  },
  {
   "cell_type": "markdown",
   "metadata": {},
   "source": [
    "A PhD employee may be underperforming than a HND holder in the workplace, this can pose a bias, I will drop this"
   ]
  },
  {
   "cell_type": "code",
   "execution_count": 28,
   "metadata": {},
   "outputs": [],
   "source": [
    "# data.Qualification[data.Qualification=='Non-University Education']=0\n",
    "# data.Qualification[data.Qualification=='First Degree or HND']=2\n",
    "# data.Qualification[data.Qualification=='MSc, MBA and PhD']=1\n",
    "\n",
    "data=data.drop('Qualification',axis=1)\n",
    "#data=pd.get_dummies(data=data,columns=['Qualification'])"
   ]
  },
  {
   "cell_type": "code",
   "execution_count": 29,
   "metadata": {},
   "outputs": [
    {
     "data": {
      "text/plain": [
       "54808"
      ]
     },
     "execution_count": 29,
     "metadata": {},
     "output_type": "execute_result"
    }
   ],
   "source": [
    "# Checking the number of unique values in EmployeeNo\n",
    "len(np.unique(data.EmployeeNo))"
   ]
  },
  {
   "cell_type": "code",
   "execution_count": 30,
   "metadata": {},
   "outputs": [],
   "source": [
    "# EmployeeNo is unique for every employee, it is not needed for building a model\n",
    "data=data.drop(['EmployeeNo'],axis=1)"
   ]
  },
  {
   "cell_type": "code",
   "execution_count": 31,
   "metadata": {},
   "outputs": [
    {
     "name": "stdout",
     "output_type": "stream",
     "text": [
      "Marital status of employees in the train set\n",
      " Married     31022\n",
      "Single       6927\n",
      "Not_Sure      363\n",
      "Name: Marital_Status, dtype: int64\n",
      "------------------------------\n",
      "Marital status of employees in the test set\n",
      " Married     13448\n",
      "Single       2905\n",
      "Not_Sure      143\n",
      "Name: Marital_Status, dtype: int64\n"
     ]
    }
   ],
   "source": [
    "print('Marital status of employees in the train set\\n',train.Marital_Status.value_counts())\n",
    "print('-' * 30)\n",
    "print('Marital status of employees in the test set\\n',test.Marital_Status.value_counts())"
   ]
  },
  {
   "cell_type": "markdown",
   "metadata": {},
   "source": [
    "The majority of employees in this organization are married"
   ]
  },
  {
   "cell_type": "code",
   "execution_count": 32,
   "metadata": {},
   "outputs": [],
   "source": [
    "# Marital status should not determine promotion, I will drop this\n",
    "data=data.drop('Marital_Status',axis=1)"
   ]
  },
  {
   "cell_type": "code",
   "execution_count": 33,
   "metadata": {},
   "outputs": [
    {
     "data": {
      "text/html": [
       "<div>\n",
       "<style scoped>\n",
       "    .dataframe tbody tr th:only-of-type {\n",
       "        vertical-align: middle;\n",
       "    }\n",
       "\n",
       "    .dataframe tbody tr th {\n",
       "        vertical-align: top;\n",
       "    }\n",
       "\n",
       "    .dataframe thead th {\n",
       "        text-align: right;\n",
       "    }\n",
       "</style>\n",
       "<table border=\"1\" class=\"dataframe\">\n",
       "  <thead>\n",
       "    <tr style=\"text-align: right;\">\n",
       "      <th></th>\n",
       "      <th>Foreign_schooled</th>\n",
       "      <th>Last_performance_score</th>\n",
       "      <th>No_of_previous_employers</th>\n",
       "      <th>Past_Disciplinary_Action</th>\n",
       "      <th>Previous_Award</th>\n",
       "      <th>Previous_IntraDepartmental_Movement</th>\n",
       "      <th>Promoted_or_Not</th>\n",
       "      <th>State_Of_Origin</th>\n",
       "      <th>Targets_met</th>\n",
       "      <th>Training_score_average</th>\n",
       "      <th>...</th>\n",
       "      <th>Year_of_recruitment</th>\n",
       "      <th>Division_Business Finance Operations</th>\n",
       "      <th>Division_Commercial Sales and Marketing</th>\n",
       "      <th>Division_Customer Support and Field Operations</th>\n",
       "      <th>Division_Information Technology and Solution Support</th>\n",
       "      <th>Division_Information and Strategy</th>\n",
       "      <th>Division_People/HR Management</th>\n",
       "      <th>Division_Regulatory and Legal services</th>\n",
       "      <th>Division_Research and Innovation</th>\n",
       "      <th>Division_Sourcing and Purchasing</th>\n",
       "    </tr>\n",
       "  </thead>\n",
       "  <tbody>\n",
       "    <tr>\n",
       "      <th>0</th>\n",
       "      <td>No</td>\n",
       "      <td>12.5</td>\n",
       "      <td>0</td>\n",
       "      <td>No</td>\n",
       "      <td>0</td>\n",
       "      <td>No</td>\n",
       "      <td>0.0</td>\n",
       "      <td>ANAMBRA</td>\n",
       "      <td>1</td>\n",
       "      <td>41</td>\n",
       "      <td>...</td>\n",
       "      <td>2011</td>\n",
       "      <td>0</td>\n",
       "      <td>1</td>\n",
       "      <td>0</td>\n",
       "      <td>0</td>\n",
       "      <td>0</td>\n",
       "      <td>0</td>\n",
       "      <td>0</td>\n",
       "      <td>0</td>\n",
       "      <td>0</td>\n",
       "    </tr>\n",
       "    <tr>\n",
       "      <th>1</th>\n",
       "      <td>Yes</td>\n",
       "      <td>12.5</td>\n",
       "      <td>0</td>\n",
       "      <td>No</td>\n",
       "      <td>0</td>\n",
       "      <td>No</td>\n",
       "      <td>0.0</td>\n",
       "      <td>ANAMBRA</td>\n",
       "      <td>0</td>\n",
       "      <td>52</td>\n",
       "      <td>...</td>\n",
       "      <td>2015</td>\n",
       "      <td>0</td>\n",
       "      <td>0</td>\n",
       "      <td>1</td>\n",
       "      <td>0</td>\n",
       "      <td>0</td>\n",
       "      <td>0</td>\n",
       "      <td>0</td>\n",
       "      <td>0</td>\n",
       "      <td>0</td>\n",
       "    </tr>\n",
       "    <tr>\n",
       "      <th>2</th>\n",
       "      <td>Yes</td>\n",
       "      <td>7.5</td>\n",
       "      <td>0</td>\n",
       "      <td>No</td>\n",
       "      <td>0</td>\n",
       "      <td>No</td>\n",
       "      <td>0.0</td>\n",
       "      <td>KATSINA</td>\n",
       "      <td>0</td>\n",
       "      <td>42</td>\n",
       "      <td>...</td>\n",
       "      <td>2012</td>\n",
       "      <td>0</td>\n",
       "      <td>1</td>\n",
       "      <td>0</td>\n",
       "      <td>0</td>\n",
       "      <td>0</td>\n",
       "      <td>0</td>\n",
       "      <td>0</td>\n",
       "      <td>0</td>\n",
       "      <td>0</td>\n",
       "    </tr>\n",
       "    <tr>\n",
       "      <th>3</th>\n",
       "      <td>Yes</td>\n",
       "      <td>2.5</td>\n",
       "      <td>1</td>\n",
       "      <td>No</td>\n",
       "      <td>0</td>\n",
       "      <td>No</td>\n",
       "      <td>0.0</td>\n",
       "      <td>NIGER</td>\n",
       "      <td>0</td>\n",
       "      <td>42</td>\n",
       "      <td>...</td>\n",
       "      <td>2009</td>\n",
       "      <td>0</td>\n",
       "      <td>1</td>\n",
       "      <td>0</td>\n",
       "      <td>0</td>\n",
       "      <td>0</td>\n",
       "      <td>0</td>\n",
       "      <td>0</td>\n",
       "      <td>0</td>\n",
       "      <td>0</td>\n",
       "    </tr>\n",
       "    <tr>\n",
       "      <th>4</th>\n",
       "      <td>Yes</td>\n",
       "      <td>7.5</td>\n",
       "      <td>1</td>\n",
       "      <td>No</td>\n",
       "      <td>0</td>\n",
       "      <td>No</td>\n",
       "      <td>0.0</td>\n",
       "      <td>AKWA IBOM</td>\n",
       "      <td>0</td>\n",
       "      <td>77</td>\n",
       "      <td>...</td>\n",
       "      <td>2012</td>\n",
       "      <td>0</td>\n",
       "      <td>0</td>\n",
       "      <td>0</td>\n",
       "      <td>0</td>\n",
       "      <td>1</td>\n",
       "      <td>0</td>\n",
       "      <td>0</td>\n",
       "      <td>0</td>\n",
       "      <td>0</td>\n",
       "    </tr>\n",
       "  </tbody>\n",
       "</table>\n",
       "<p>5 rows × 22 columns</p>\n",
       "</div>"
      ],
      "text/plain": [
       "  Foreign_schooled  Last_performance_score No_of_previous_employers  \\\n",
       "0               No                    12.5                        0   \n",
       "1              Yes                    12.5                        0   \n",
       "2              Yes                     7.5                        0   \n",
       "3              Yes                     2.5                        1   \n",
       "4              Yes                     7.5                        1   \n",
       "\n",
       "  Past_Disciplinary_Action  Previous_Award  \\\n",
       "0                       No               0   \n",
       "1                       No               0   \n",
       "2                       No               0   \n",
       "3                       No               0   \n",
       "4                       No               0   \n",
       "\n",
       "  Previous_IntraDepartmental_Movement  Promoted_or_Not State_Of_Origin  \\\n",
       "0                                  No              0.0         ANAMBRA   \n",
       "1                                  No              0.0         ANAMBRA   \n",
       "2                                  No              0.0         KATSINA   \n",
       "3                                  No              0.0           NIGER   \n",
       "4                                  No              0.0       AKWA IBOM   \n",
       "\n",
       "   Targets_met  Training_score_average                ...                 \\\n",
       "0            1                      41                ...                  \n",
       "1            0                      52                ...                  \n",
       "2            0                      42                ...                  \n",
       "3            0                      42                ...                  \n",
       "4            0                      77                ...                  \n",
       "\n",
       "   Year_of_recruitment  Division_Business Finance Operations  \\\n",
       "0                 2011                                     0   \n",
       "1                 2015                                     0   \n",
       "2                 2012                                     0   \n",
       "3                 2009                                     0   \n",
       "4                 2012                                     0   \n",
       "\n",
       "   Division_Commercial Sales and Marketing  \\\n",
       "0                                        1   \n",
       "1                                        0   \n",
       "2                                        1   \n",
       "3                                        1   \n",
       "4                                        0   \n",
       "\n",
       "   Division_Customer Support and Field Operations  \\\n",
       "0                                               0   \n",
       "1                                               1   \n",
       "2                                               0   \n",
       "3                                               0   \n",
       "4                                               0   \n",
       "\n",
       "   Division_Information Technology and Solution Support  \\\n",
       "0                                                  0      \n",
       "1                                                  0      \n",
       "2                                                  0      \n",
       "3                                                  0      \n",
       "4                                                  0      \n",
       "\n",
       "   Division_Information and Strategy  Division_People/HR Management  \\\n",
       "0                                  0                              0   \n",
       "1                                  0                              0   \n",
       "2                                  0                              0   \n",
       "3                                  0                              0   \n",
       "4                                  1                              0   \n",
       "\n",
       "   Division_Regulatory and Legal services  Division_Research and Innovation  \\\n",
       "0                                       0                                 0   \n",
       "1                                       0                                 0   \n",
       "2                                       0                                 0   \n",
       "3                                       0                                 0   \n",
       "4                                       0                                 0   \n",
       "\n",
       "   Division_Sourcing and Purchasing  \n",
       "0                                 0  \n",
       "1                                 0  \n",
       "2                                 0  \n",
       "3                                 0  \n",
       "4                                 0  \n",
       "\n",
       "[5 rows x 22 columns]"
      ]
     },
     "execution_count": 33,
     "metadata": {},
     "output_type": "execute_result"
    }
   ],
   "source": [
    "#checking the data cleaning procedure so far\n",
    "data.head()"
   ]
  },
  {
   "cell_type": "code",
   "execution_count": 34,
   "metadata": {},
   "outputs": [
    {
     "data": {
      "text/plain": [
       "<matplotlib.axes._subplots.AxesSubplot at 0x11e13ec7be0>"
      ]
     },
     "execution_count": 34,
     "metadata": {},
     "output_type": "execute_result"
    },
    {
     "data": {
      "image/png": "[encoded data removed]",
      "text/plain": [
       "<Figure size 720x504 with 1 Axes>"
      ]
     },
     "metadata": {
      "needs_background": "light"
     },
     "output_type": "display_data"
    }
   ],
   "source": [
    "plt.figure(figsize=(10,7))\n",
    "sb.countplot(data=train,x='Foreign_schooled',hue='Promoted_or_Not')"
   ]
  },
  {
   "cell_type": "code",
   "execution_count": 35,
   "metadata": {},
   "outputs": [
    {
     "data": {
      "image/png": "[encoded data removed]",
      "text/plain": [
       "<Figure size 720x360 with 1 Axes>"
      ]
     },
     "metadata": {
      "needs_background": "light"
     },
     "output_type": "display_data"
    }
   ],
   "source": [
    "foreign  = sb.catplot(y='Foreign_schooled',x='Promoted_or_Not',data=train,kind='bar',orient='h',aspect=2)\n",
    "foreign.despine(left=False)\n",
    "foreign = foreign.set_xlabels('Probability of Promotion')"
   ]
  },
  {
   "cell_type": "markdown",
   "metadata": {},
   "source": [
    "Staff that are foreign schooled have higher probability of promotion, this is looking like a bias "
   ]
  },
  {
   "cell_type": "code",
   "execution_count": 36,
   "metadata": {},
   "outputs": [
    {
     "data": {
      "text/html": [
       "<div>\n",
       "<style scoped>\n",
       "    .dataframe tbody tr th:only-of-type {\n",
       "        vertical-align: middle;\n",
       "    }\n",
       "\n",
       "    .dataframe tbody tr th {\n",
       "        vertical-align: top;\n",
       "    }\n",
       "\n",
       "    .dataframe thead th {\n",
       "        text-align: right;\n",
       "    }\n",
       "</style>\n",
       "<table border=\"1\" class=\"dataframe\">\n",
       "  <thead>\n",
       "    <tr style=\"text-align: right;\">\n",
       "      <th></th>\n",
       "      <th>Promoted_or_Not</th>\n",
       "    </tr>\n",
       "    <tr>\n",
       "      <th>Foreign_schooled</th>\n",
       "      <th></th>\n",
       "    </tr>\n",
       "  </thead>\n",
       "  <tbody>\n",
       "    <tr>\n",
       "      <th>No</th>\n",
       "      <td>0.081700</td>\n",
       "    </tr>\n",
       "    <tr>\n",
       "      <th>Yes</th>\n",
       "      <td>0.084869</td>\n",
       "    </tr>\n",
       "  </tbody>\n",
       "</table>\n",
       "</div>"
      ],
      "text/plain": [
       "                  Promoted_or_Not\n",
       "Foreign_schooled                 \n",
       "No                       0.081700\n",
       "Yes                      0.084869"
      ]
     },
     "execution_count": 36,
     "metadata": {},
     "output_type": "execute_result"
    }
   ],
   "source": [
    "train[['Foreign_schooled','Promoted_or_Not']].groupby('Foreign_schooled').mean()"
   ]
  },
  {
   "cell_type": "code",
   "execution_count": 37,
   "metadata": {},
   "outputs": [
    {
     "name": "stdout",
     "output_type": "stream",
     "text": [
      "8  percent of the employees in the organization are not foreign schooled\n"
     ]
    }
   ],
   "source": [
    "# Getting the percentage pf employees that are not foreig schooled in the organization\n",
    "no_foreign_school=(data.Foreign_schooled[data.Foreign_schooled=='No'].count()/data.Foreign_schooled.count()) * 100\n",
    "\n",
    "print(int(no_foreign_school),' percent of the employees in the organization are not foreign schooled')"
   ]
  },
  {
   "cell_type": "code",
   "execution_count": 38,
   "metadata": {},
   "outputs": [],
   "source": [
    "# data.Foreign_schooled[data.Foreign_schooled=='No']=0\n",
    "# data.Foreign_schooled[data.Foreign_schooled=='Yes']=1\n",
    "#data=data.drop('Foreign_schooled',axis=1)"
   ]
  },
  {
   "cell_type": "code",
   "execution_count": 39,
   "metadata": {},
   "outputs": [
    {
     "data": {
      "image/png": "[encoded data removed]",
      "text/plain": [
       "<Figure size 360x360 with 1 Axes>"
      ]
     },
     "metadata": {
      "needs_background": "light"
     },
     "output_type": "display_data"
    }
   ],
   "source": [
    "discipline  = sb.catplot(x='Past_Disciplinary_Action',y='Promoted_or_Not',data=train,kind='bar',orient='v',size=5,color='yellow')\n",
    "discipline.despine(left=True)\n",
    "discipline = discipline.set_ylabels('Probability of Promotion')"
   ]
  },
  {
   "cell_type": "markdown",
   "metadata": {},
   "source": [
    "Even though some staff that have been under past disciplinary action, they have a higher probability of promotion,quite opposite what is expected in an organization. It may be that this organization don't put this into consideration when determining promotion.  "
   ]
  },
  {
   "cell_type": "code",
   "execution_count": 40,
   "metadata": {},
   "outputs": [],
   "source": [
    "#data.Past_Disciplinary_Action[data.Past_Disciplinary_Action=='Yes']=0\n",
    "#data.Past_Disciplinary_Action[data.Past_Disciplinary_Action=='No']=1\n",
    "#data=data.drop('Past_Disciplinary_Action',axis=1)\n",
    "#data=pd.get_dummies(data=data,columns=['Past_Disciplinary_Action'])"
   ]
  },
  {
   "cell_type": "code",
   "execution_count": 41,
   "metadata": {
    "scrolled": true
   },
   "outputs": [
    {
     "data": {
      "text/plain": [
       "<matplotlib.axes._subplots.AxesSubplot at 0x11e14027400>"
      ]
     },
     "execution_count": 41,
     "metadata": {},
     "output_type": "execute_result"
    },
    {
     "data": {
      "image/png": "[encoded data removed]",
      "text/plain": [
       "<Figure size 720x504 with 1 Axes>"
      ]
     },
     "metadata": {
      "needs_background": "light"
     },
     "output_type": "display_data"
    }
   ],
   "source": [
    "plt.figure(figsize=(10,7))\n",
    "sb.countplot(data=train,x='Previous_IntraDepartmental_Movement',hue='Promoted_or_Not',palette ='muted')"
   ]
  },
  {
   "cell_type": "code",
   "execution_count": 42,
   "metadata": {},
   "outputs": [
    {
     "data": {
      "text/html": [
       "<div>\n",
       "<style scoped>\n",
       "    .dataframe tbody tr th:only-of-type {\n",
       "        vertical-align: middle;\n",
       "    }\n",
       "\n",
       "    .dataframe tbody tr th {\n",
       "        vertical-align: top;\n",
       "    }\n",
       "\n",
       "    .dataframe thead th {\n",
       "        text-align: right;\n",
       "    }\n",
       "</style>\n",
       "<table border=\"1\" class=\"dataframe\">\n",
       "  <thead>\n",
       "    <tr style=\"text-align: right;\">\n",
       "      <th></th>\n",
       "      <th>Promoted_or_Not</th>\n",
       "    </tr>\n",
       "    <tr>\n",
       "      <th>Previous_IntraDepartmental_Movement</th>\n",
       "      <th></th>\n",
       "    </tr>\n",
       "  </thead>\n",
       "  <tbody>\n",
       "    <tr>\n",
       "      <th>No</th>\n",
       "      <td>0.085338</td>\n",
       "    </tr>\n",
       "    <tr>\n",
       "      <th>Yes</th>\n",
       "      <td>0.077435</td>\n",
       "    </tr>\n",
       "  </tbody>\n",
       "</table>\n",
       "</div>"
      ],
      "text/plain": [
       "                                     Promoted_or_Not\n",
       "Previous_IntraDepartmental_Movement                 \n",
       "No                                          0.085338\n",
       "Yes                                         0.077435"
      ]
     },
     "execution_count": 42,
     "metadata": {},
     "output_type": "execute_result"
    }
   ],
   "source": [
    "train[['Previous_IntraDepartmental_Movement','Promoted_or_Not']].groupby('Previous_IntraDepartmental_Movement').mean()"
   ]
  },
  {
   "cell_type": "markdown",
   "metadata": {},
   "source": [
    "On average, staff that have not been moved within the same department in the organization are more promoted. This can also be a bias as promotion should be effected based on periodical efficiency of a staff and not on frequency of duty changes "
   ]
  },
  {
   "cell_type": "markdown",
   "metadata": {},
   "source": [
    "It is best that I engineer a new feature from these 3 features that may be a bias: Foreign_schooled, Past_Disciplinary_Action, Previous_IntraDepartmental_Movement"
   ]
  },
  {
   "cell_type": "code",
   "execution_count": 43,
   "metadata": {},
   "outputs": [],
   "source": [
    "# creating a new feature,combo that is meant to be a combination of the 3 features\n",
    "data['combo']=0\n",
    "v=data[(data.Foreign_schooled=='Yes') & (data.Past_Disciplinary_Action=='No') & (data.Previous_IntraDepartmental_Movement=='No')].index.tolist()\n",
    "data.loc[v,'combo']=1"
   ]
  },
  {
   "cell_type": "code",
   "execution_count": 44,
   "metadata": {},
   "outputs": [
    {
     "data": {
      "text/plain": [
       "<matplotlib.axes._subplots.AxesSubplot at 0x11e14042e48>"
      ]
     },
     "execution_count": 44,
     "metadata": {},
     "output_type": "execute_result"
    },
    {
     "data": {
      "image/png": "[encoded data removed]",
      "text/plain": [
       "<Figure size 720x504 with 1 Axes>"
      ]
     },
     "metadata": {
      "needs_background": "light"
     },
     "output_type": "display_data"
    }
   ],
   "source": [
    "plt.figure(figsize=(10,7))\n",
    "sb.countplot(data=data,x='combo',hue='Promoted_or_Not',palette='rocket')"
   ]
  },
  {
   "cell_type": "markdown",
   "metadata": {},
   "source": [
    "The new feature,'combo' is created, I can drop these 3 features now"
   ]
  },
  {
   "cell_type": "code",
   "execution_count": 45,
   "metadata": {},
   "outputs": [],
   "source": [
    "data=data.drop(['Foreign_schooled','Past_Disciplinary_Action','Previous_IntraDepartmental_Movement'],axis=1)"
   ]
  },
  {
   "cell_type": "markdown",
   "metadata": {},
   "source": [
    "An employee should be promoted irrespective of his/her state of origin, I will drop this column"
   ]
  },
  {
   "cell_type": "code",
   "execution_count": 46,
   "metadata": {},
   "outputs": [],
   "source": [
    "data=data.drop(['State_Of_Origin'],axis=1)"
   ]
  },
  {
   "cell_type": "markdown",
   "metadata": {},
   "source": [
    "#### A close look at the continuous categorical variables, Year_of_recruitment and Year_of_birth"
   ]
  },
  {
   "cell_type": "code",
   "execution_count": 47,
   "metadata": {},
   "outputs": [
    {
     "data": {
      "text/plain": [
       "array([1982, 1985, 1986, 1987, 1988, 1989, 1990, 1991, 1992, 1993, 1994,\n",
       "       1995, 1996, 1997, 1998, 1999, 2000, 2001, 2002, 2003, 2004, 2005,\n",
       "       2006, 2007, 2008, 2009, 2010, 2011, 2012, 2013, 2014, 2015, 2016,\n",
       "       2017, 2018], dtype=int64)"
      ]
     },
     "execution_count": 47,
     "metadata": {},
     "output_type": "execute_result"
    }
   ],
   "source": [
    "np.unique(data.Year_of_recruitment)"
   ]
  },
  {
   "cell_type": "code",
   "execution_count": 48,
   "metadata": {},
   "outputs": [
    {
     "data": {
      "image/png": "[encoded data removed]",
      "text/plain": [
       "<Figure size 1080x504 with 1 Axes>"
      ]
     },
     "metadata": {
      "needs_background": "light"
     },
     "output_type": "display_data"
    }
   ],
   "source": [
    "plt.figure(figsize=(15,7))\n",
    "yor = sb.kdeplot(train['Year_of_recruitment'][(train['Promoted_or_Not'] == 0) & (train['Year_of_recruitment'])], color='Blue', shade = True)\n",
    "yor = sb.kdeplot(train['Year_of_recruitment'][(train['Promoted_or_Not'] == 1) & (train['Year_of_recruitment'])], ax =yor, color='Red', shade= True)\n",
    "yor.set_xlabel('Year_of_recruitment')\n",
    "yor.set_ylabel('Frequency')\n",
    "yor = yor.legend(['Not Promoted','Promoted'])"
   ]
  },
  {
   "cell_type": "markdown",
   "metadata": {},
   "source": [
    "There were ascents and descents in the frequency of staff that were not promoted over the years, while promotion of staff saw a continuous increase till around 2016 before declining. This decline may be that younger staff dont have much workplace experience yet, and thus accounts for their low promotion rate "
   ]
  },
  {
   "cell_type": "markdown",
   "metadata": {},
   "source": [
    "Year of recruitment is a determinant of promotion, I will bin this feature into small numerical categories"
   ]
  },
  {
   "cell_type": "code",
   "execution_count": 49,
   "metadata": {},
   "outputs": [],
   "source": [
    "data.Year_of_recruitment=pd.cut(data.Year_of_recruitment,bins=[1981,1989,1994,1999,2005,2009,2014,2019],labels=[0,1,2,3,4,5,6])"
   ]
  },
  {
   "cell_type": "code",
   "execution_count": 50,
   "metadata": {},
   "outputs": [],
   "source": [
    "#data=pd.get_dummies(data=data,columns=['Year_of_recruitment'])"
   ]
  },
  {
   "cell_type": "markdown",
   "metadata": {},
   "source": [
    "Now to the year of birth"
   ]
  },
  {
   "cell_type": "code",
   "execution_count": 51,
   "metadata": {
    "scrolled": false
   },
   "outputs": [
    {
     "data": {
      "text/plain": [
       "array([1950, 1952, 1955, 1956, 1957, 1958, 1959, 1960, 1961, 1962, 1963,\n",
       "       1964, 1965, 1966, 1967, 1968, 1969, 1970, 1971, 1972, 1973, 1974,\n",
       "       1975, 1976, 1977, 1978, 1979, 1980, 1981, 1982, 1983, 1984, 1985,\n",
       "       1986, 1987, 1988, 1989, 1990, 1991, 1992, 1993, 1994, 1995, 1996,\n",
       "       1997, 1998, 1999, 2000, 2001], dtype=int64)"
      ]
     },
     "execution_count": 51,
     "metadata": {},
     "output_type": "execute_result"
    }
   ],
   "source": [
    "np.unique(data.Year_of_birth)"
   ]
  },
  {
   "cell_type": "code",
   "execution_count": 52,
   "metadata": {},
   "outputs": [
    {
     "data": {
      "image/png": "[encoded data removed]",
      "text/plain": [
       "<Figure size 864x216 with 2 Axes>"
      ]
     },
     "metadata": {
      "needs_background": "light"
     },
     "output_type": "display_data"
    }
   ],
   "source": [
    "#plt.figure(figsize=(12,8))\n",
    "yob = sb.FacetGrid(train, col='Promoted_or_Not',aspect=2)\n",
    "yob = yob.map(sb.distplot, 'Year_of_birth')"
   ]
  },
  {
   "cell_type": "markdown",
   "metadata": {},
   "source": [
    "Majority of the employees are born in the 1980s and 1990s. There is also a sharp decline in those promoted that are born between 1995 and 2001"
   ]
  },
  {
   "cell_type": "markdown",
   "metadata": {},
   "source": [
    "Year of birth is a determinant of promotion, I will bin this feature into small numerical categories"
   ]
  },
  {
   "cell_type": "code",
   "execution_count": 53,
   "metadata": {},
   "outputs": [],
   "source": [
    "data.Year_of_birth=pd.cut(data.Year_of_birth,bins=[1949,1960,1965,1970,1975,1980,1985,1990,2001],labels=[0,1,2,3,4,5,6,7])"
   ]
  },
  {
   "cell_type": "code",
   "execution_count": 54,
   "metadata": {},
   "outputs": [
    {
     "data": {
      "text/plain": [
       "<matplotlib.axes._subplots.AxesSubplot at 0x11e15be3908>"
      ]
     },
     "execution_count": 54,
     "metadata": {},
     "output_type": "execute_result"
    },
    {
     "data": {
      "image/png": "[encoded data removed]",
      "text/plain": [
       "<Figure size 720x504 with 1 Axes>"
      ]
     },
     "metadata": {
      "needs_background": "light"
     },
     "output_type": "display_data"
    }
   ],
   "source": [
    "plt.figure(figsize=(10,7))\n",
    "sb.countplot(data=train,y='No_of_previous_employers',hue='Promoted_or_Not', orient='h')"
   ]
  },
  {
   "cell_type": "markdown",
   "metadata": {},
   "source": [
    "A huge percentage of the employees have had no or just one previous employer"
   ]
  },
  {
   "cell_type": "code",
   "execution_count": 55,
   "metadata": {
    "scrolled": true
   },
   "outputs": [
    {
     "data": {
      "text/html": [
       "<div>\n",
       "<style scoped>\n",
       "    .dataframe tbody tr th:only-of-type {\n",
       "        vertical-align: middle;\n",
       "    }\n",
       "\n",
       "    .dataframe tbody tr th {\n",
       "        vertical-align: top;\n",
       "    }\n",
       "\n",
       "    .dataframe thead th {\n",
       "        text-align: right;\n",
       "    }\n",
       "</style>\n",
       "<table border=\"1\" class=\"dataframe\">\n",
       "  <thead>\n",
       "    <tr style=\"text-align: right;\">\n",
       "      <th></th>\n",
       "      <th>Promoted_or_Not</th>\n",
       "    </tr>\n",
       "    <tr>\n",
       "      <th>No_of_previous_employers</th>\n",
       "      <th></th>\n",
       "    </tr>\n",
       "  </thead>\n",
       "  <tbody>\n",
       "    <tr>\n",
       "      <th>0</th>\n",
       "      <td>0.082354</td>\n",
       "    </tr>\n",
       "    <tr>\n",
       "      <th>1</th>\n",
       "      <td>0.085546</td>\n",
       "    </tr>\n",
       "    <tr>\n",
       "      <th>2</th>\n",
       "      <td>0.091762</td>\n",
       "    </tr>\n",
       "    <tr>\n",
       "      <th>3</th>\n",
       "      <td>0.085066</td>\n",
       "    </tr>\n",
       "    <tr>\n",
       "      <th>4</th>\n",
       "      <td>0.091390</td>\n",
       "    </tr>\n",
       "    <tr>\n",
       "      <th>5</th>\n",
       "      <td>0.075292</td>\n",
       "    </tr>\n",
       "    <tr>\n",
       "      <th>More than 5</th>\n",
       "      <td>0.077307</td>\n",
       "    </tr>\n",
       "  </tbody>\n",
       "</table>\n",
       "</div>"
      ],
      "text/plain": [
       "                          Promoted_or_Not\n",
       "No_of_previous_employers                 \n",
       "0                                0.082354\n",
       "1                                0.085546\n",
       "2                                0.091762\n",
       "3                                0.085066\n",
       "4                                0.091390\n",
       "5                                0.075292\n",
       "More than 5                      0.077307"
      ]
     },
     "execution_count": 55,
     "metadata": {},
     "output_type": "execute_result"
    }
   ],
   "source": [
    "train[['No_of_previous_employers','Promoted_or_Not']].groupby('No_of_previous_employers').mean()"
   ]
  },
  {
   "cell_type": "markdown",
   "metadata": {},
   "source": [
    "You would expect that the more the number of previous employers, the more the experience level of that employees, and a better probability for promotion, but otherwise is the case here. Employees with 0 and 1 are being promoted well too,I will drop this feature for it not to be a bias"
   ]
  },
  {
   "cell_type": "code",
   "execution_count": 56,
   "metadata": {},
   "outputs": [],
   "source": [
    "# data.No_of_previous_employers[data.No_of_previous_employers=='More than 5']=6\n",
    "# data.No_of_previous_employers=data.No_of_previous_employers.astype(int)\n",
    "\n",
    "# data.No_of_previous_employers=data.No_of_previous_employers.replace(4,2)\n",
    "# data.No_of_previous_employers=data.No_of_previous_employers.replace([0,3],1)\n",
    "# data.No_of_previous_employers=data.No_of_previous_employers.replace([5,6],0)\n",
    "data=data.drop('No_of_previous_employers',axis=1)"
   ]
  },
  {
   "cell_type": "code",
   "execution_count": 57,
   "metadata": {},
   "outputs": [
    {
     "data": {
      "image/png": "[encoded data removed]",
      "text/plain": [
       "<Figure size 432x288 with 1 Axes>"
      ]
     },
     "metadata": {
      "needs_background": "light"
     },
     "output_type": "display_data"
    }
   ],
   "source": [
    "# plt.figure(figsize=(10,7))\n",
    "# sb.countplot(data=train,x='Trainings_Attended',hue='Promoted_or_Not')\n",
    "trainings = sb.barplot(x='Trainings_Attended',y='Promoted_or_Not',data=train)\n",
    "trainings = trainings.set_ylabel(\"Promotion Probability\")"
   ]
  },
  {
   "cell_type": "markdown",
   "metadata": {},
   "source": [
    "Those with lesser trainings even stand a better chance of promotion than those with  any trainings, high number of trainings is equivalent to promotion in this organization"
   ]
  },
  {
   "cell_type": "code",
   "execution_count": 58,
   "metadata": {},
   "outputs": [],
   "source": [
    "# #data=data.drop('Trainings_Attended',axis=1)\n",
    "# data.Trainings_Attended=data.Trainings_Attended.replace([4,5,6,7,8,9,10,11],0)\n",
    "# data.Trainings_Attended=data.Trainings_Attended.replace(3,1)\n",
    "#data=pd.get_dummies(data=data,columns=['Trainings_Attended'])"
   ]
  },
  {
   "cell_type": "code",
   "execution_count": 59,
   "metadata": {},
   "outputs": [],
   "source": [
    "data.Trainings_Attended=data.Trainings_Attended.replace([8,9,10,11],0)\n",
    "data.Trainings_Attended=data.Trainings_Attended.replace([5,6],1)\n",
    "data.Trainings_Attended=data.Trainings_Attended.replace(2,4)\n",
    "data.Trainings_Attended=data.Trainings_Attended.replace([3,4,7],2)\n",
    "data.Trainings_Attended=data.Trainings_Attended.replace(4,3)"
   ]
  },
  {
   "cell_type": "code",
   "execution_count": 60,
   "metadata": {},
   "outputs": [],
   "source": [
    "# promoted=data[data.Promoted_or_Not==1]\n",
    "# #promoted.Training_score_average.median()\n",
    "# np.percentile(promoted.Training_score_average,25)"
   ]
  },
  {
   "cell_type": "code",
   "execution_count": 61,
   "metadata": {},
   "outputs": [],
   "source": [
    "# data['Promoted_training_score_dev']=data['Training_score_average']-51\n",
    "# #data.Promoted_training_score_dev[data.Promoted_training_score_dev<0]=0"
   ]
  },
  {
   "cell_type": "code",
   "execution_count": 62,
   "metadata": {
    "scrolled": true
   },
   "outputs": [],
   "source": [
    "# not_promoted=data[data.Promoted_or_Not==0]\n",
    "# #not_promoted.Training_score_average.median()\n",
    "# np.percentile(not_promoted.Training_score_average,25)"
   ]
  },
  {
   "cell_type": "code",
   "execution_count": 63,
   "metadata": {},
   "outputs": [],
   "source": [
    "# data['NotPromoted_training_score_dev']=data['Training_score_average']-43\n",
    "# #data.NotPromoted_training_score_dev[data.NotPromoted_training_score_dev<0]=0"
   ]
  },
  {
   "cell_type": "code",
   "execution_count": 64,
   "metadata": {},
   "outputs": [],
   "source": [
    "# data.Promoted_training_score_dev=data.Promoted_training_score_dev.abs()\n",
    "# data.NotPromoted_training_score_dev=data.NotPromoted_training_score_dev.abs()"
   ]
  },
  {
   "cell_type": "code",
   "execution_count": 65,
   "metadata": {},
   "outputs": [
    {
     "data": {
      "text/plain": [
       "(54808, 18)"
      ]
     },
     "execution_count": 65,
     "metadata": {},
     "output_type": "execute_result"
    }
   ],
   "source": [
    "data.shape"
   ]
  },
  {
   "cell_type": "code",
   "execution_count": 66,
   "metadata": {},
   "outputs": [],
   "source": [
    "# data['Promoted_training_score_dev']=data['Promoted_training_score_dev'].abs()\n",
    "# data['NotPromoted_training_score_dev']=data['NotPromoted_training_score_dev'].abs()"
   ]
  },
  {
   "cell_type": "code",
   "execution_count": 67,
   "metadata": {
    "scrolled": true
   },
   "outputs": [
    {
     "data": {
      "text/html": [
       "<div>\n",
       "<style scoped>\n",
       "    .dataframe tbody tr th:only-of-type {\n",
       "        vertical-align: middle;\n",
       "    }\n",
       "\n",
       "    .dataframe tbody tr th {\n",
       "        vertical-align: top;\n",
       "    }\n",
       "\n",
       "    .dataframe thead th {\n",
       "        text-align: right;\n",
       "    }\n",
       "</style>\n",
       "<table border=\"1\" class=\"dataframe\">\n",
       "  <thead>\n",
       "    <tr style=\"text-align: right;\">\n",
       "      <th></th>\n",
       "      <th>Last_performance_score</th>\n",
       "      <th>Previous_Award</th>\n",
       "      <th>Promoted_or_Not</th>\n",
       "      <th>Targets_met</th>\n",
       "      <th>Training_score_average</th>\n",
       "      <th>Trainings_Attended</th>\n",
       "      <th>Year_of_birth</th>\n",
       "      <th>Year_of_recruitment</th>\n",
       "      <th>Division_Business Finance Operations</th>\n",
       "      <th>Division_Commercial Sales and Marketing</th>\n",
       "      <th>Division_Customer Support and Field Operations</th>\n",
       "      <th>Division_Information Technology and Solution Support</th>\n",
       "      <th>Division_Information and Strategy</th>\n",
       "      <th>Division_People/HR Management</th>\n",
       "      <th>Division_Regulatory and Legal services</th>\n",
       "      <th>Division_Research and Innovation</th>\n",
       "      <th>Division_Sourcing and Purchasing</th>\n",
       "      <th>combo</th>\n",
       "    </tr>\n",
       "  </thead>\n",
       "  <tbody>\n",
       "    <tr>\n",
       "      <th>0</th>\n",
       "      <td>12.5</td>\n",
       "      <td>0</td>\n",
       "      <td>0.0</td>\n",
       "      <td>1</td>\n",
       "      <td>41</td>\n",
       "      <td>2</td>\n",
       "      <td>6</td>\n",
       "      <td>5</td>\n",
       "      <td>0</td>\n",
       "      <td>1</td>\n",
       "      <td>0</td>\n",
       "      <td>0</td>\n",
       "      <td>0</td>\n",
       "      <td>0</td>\n",
       "      <td>0</td>\n",
       "      <td>0</td>\n",
       "      <td>0</td>\n",
       "      <td>0</td>\n",
       "    </tr>\n",
       "    <tr>\n",
       "      <th>1</th>\n",
       "      <td>12.5</td>\n",
       "      <td>0</td>\n",
       "      <td>0.0</td>\n",
       "      <td>0</td>\n",
       "      <td>52</td>\n",
       "      <td>2</td>\n",
       "      <td>7</td>\n",
       "      <td>6</td>\n",
       "      <td>0</td>\n",
       "      <td>0</td>\n",
       "      <td>1</td>\n",
       "      <td>0</td>\n",
       "      <td>0</td>\n",
       "      <td>0</td>\n",
       "      <td>0</td>\n",
       "      <td>0</td>\n",
       "      <td>0</td>\n",
       "      <td>1</td>\n",
       "    </tr>\n",
       "    <tr>\n",
       "      <th>2</th>\n",
       "      <td>7.5</td>\n",
       "      <td>0</td>\n",
       "      <td>0.0</td>\n",
       "      <td>0</td>\n",
       "      <td>42</td>\n",
       "      <td>2</td>\n",
       "      <td>6</td>\n",
       "      <td>5</td>\n",
       "      <td>0</td>\n",
       "      <td>1</td>\n",
       "      <td>0</td>\n",
       "      <td>0</td>\n",
       "      <td>0</td>\n",
       "      <td>0</td>\n",
       "      <td>0</td>\n",
       "      <td>0</td>\n",
       "      <td>0</td>\n",
       "      <td>1</td>\n",
       "    </tr>\n",
       "    <tr>\n",
       "      <th>3</th>\n",
       "      <td>2.5</td>\n",
       "      <td>0</td>\n",
       "      <td>0.0</td>\n",
       "      <td>0</td>\n",
       "      <td>42</td>\n",
       "      <td>2</td>\n",
       "      <td>5</td>\n",
       "      <td>4</td>\n",
       "      <td>0</td>\n",
       "      <td>1</td>\n",
       "      <td>0</td>\n",
       "      <td>0</td>\n",
       "      <td>0</td>\n",
       "      <td>0</td>\n",
       "      <td>0</td>\n",
       "      <td>0</td>\n",
       "      <td>0</td>\n",
       "      <td>1</td>\n",
       "    </tr>\n",
       "    <tr>\n",
       "      <th>4</th>\n",
       "      <td>7.5</td>\n",
       "      <td>0</td>\n",
       "      <td>0.0</td>\n",
       "      <td>0</td>\n",
       "      <td>77</td>\n",
       "      <td>2</td>\n",
       "      <td>6</td>\n",
       "      <td>5</td>\n",
       "      <td>0</td>\n",
       "      <td>0</td>\n",
       "      <td>0</td>\n",
       "      <td>0</td>\n",
       "      <td>1</td>\n",
       "      <td>0</td>\n",
       "      <td>0</td>\n",
       "      <td>0</td>\n",
       "      <td>0</td>\n",
       "      <td>1</td>\n",
       "    </tr>\n",
       "  </tbody>\n",
       "</table>\n",
       "</div>"
      ],
      "text/plain": [
       "   Last_performance_score  Previous_Award  Promoted_or_Not  Targets_met  \\\n",
       "0                    12.5               0              0.0            1   \n",
       "1                    12.5               0              0.0            0   \n",
       "2                     7.5               0              0.0            0   \n",
       "3                     2.5               0              0.0            0   \n",
       "4                     7.5               0              0.0            0   \n",
       "\n",
       "   Training_score_average  Trainings_Attended Year_of_birth  \\\n",
       "0                      41                   2             6   \n",
       "1                      52                   2             7   \n",
       "2                      42                   2             6   \n",
       "3                      42                   2             5   \n",
       "4                      77                   2             6   \n",
       "\n",
       "  Year_of_recruitment  Division_Business Finance Operations  \\\n",
       "0                   5                                     0   \n",
       "1                   6                                     0   \n",
       "2                   5                                     0   \n",
       "3                   4                                     0   \n",
       "4                   5                                     0   \n",
       "\n",
       "   Division_Commercial Sales and Marketing  \\\n",
       "0                                        1   \n",
       "1                                        0   \n",
       "2                                        1   \n",
       "3                                        1   \n",
       "4                                        0   \n",
       "\n",
       "   Division_Customer Support and Field Operations  \\\n",
       "0                                               0   \n",
       "1                                               1   \n",
       "2                                               0   \n",
       "3                                               0   \n",
       "4                                               0   \n",
       "\n",
       "   Division_Information Technology and Solution Support  \\\n",
       "0                                                  0      \n",
       "1                                                  0      \n",
       "2                                                  0      \n",
       "3                                                  0      \n",
       "4                                                  0      \n",
       "\n",
       "   Division_Information and Strategy  Division_People/HR Management  \\\n",
       "0                                  0                              0   \n",
       "1                                  0                              0   \n",
       "2                                  0                              0   \n",
       "3                                  0                              0   \n",
       "4                                  1                              0   \n",
       "\n",
       "   Division_Regulatory and Legal services  Division_Research and Innovation  \\\n",
       "0                                       0                                 0   \n",
       "1                                       0                                 0   \n",
       "2                                       0                                 0   \n",
       "3                                       0                                 0   \n",
       "4                                       0                                 0   \n",
       "\n",
       "   Division_Sourcing and Purchasing  combo  \n",
       "0                                 0      0  \n",
       "1                                 0      1  \n",
       "2                                 0      1  \n",
       "3                                 0      1  \n",
       "4                                 0      1  "
      ]
     },
     "execution_count": 67,
     "metadata": {},
     "output_type": "execute_result"
    }
   ],
   "source": [
    "data.head()"
   ]
  },
  {
   "cell_type": "markdown",
   "metadata": {},
   "source": [
    "Splitting back the concatenated dataset into train and test datasets"
   ]
  },
  {
   "cell_type": "code",
   "execution_count": 68,
   "metadata": {},
   "outputs": [],
   "source": [
    "train=data[:38312]\n",
    "test=data[38312:]"
   ]
  },
  {
   "cell_type": "code",
   "execution_count": 69,
   "metadata": {},
   "outputs": [
    {
     "data": {
      "text/plain": [
       "(38312, 18)"
      ]
     },
     "execution_count": 69,
     "metadata": {},
     "output_type": "execute_result"
    }
   ],
   "source": [
    "train.shape"
   ]
  },
  {
   "cell_type": "code",
   "execution_count": 70,
   "metadata": {},
   "outputs": [],
   "source": [
    "#converting the train set datatype to integer\n",
    "train=train.astype(int)"
   ]
  },
  {
   "cell_type": "markdown",
   "metadata": {},
   "source": [
    "Features correlation with heatmap"
   ]
  },
  {
   "cell_type": "code",
   "execution_count": 71,
   "metadata": {
    "scrolled": true
   },
   "outputs": [
    {
     "data": {
      "text/plain": [
       "<matplotlib.axes._subplots.AxesSubplot at 0x11e15dab208>"
      ]
     },
     "execution_count": 71,
     "metadata": {},
     "output_type": "execute_result"
    },
    {
     "data": {
      "image/png": "[encoded data removed]",
      "text/plain": [
       "<Figure size 1080x720 with 2 Axes>"
      ]
     },
     "metadata": {
      "needs_background": "light"
     },
     "output_type": "display_data"
    }
   ],
   "source": [
    "plt.figure(figsize=(15,10))\n",
    "sb.heatmap(train.corr(),annot=True,cmap='coolwarm')"
   ]
  },
  {
   "cell_type": "markdown",
   "metadata": {},
   "source": [
    "From the heatmap,Last_performance_score,Previous_Award,Targets_met, and Training_score_average have fairly good correlation to the target feature"
   ]
  },
  {
   "cell_type": "markdown",
   "metadata": {},
   "source": [
    "Separating train set into dependent variable y, and independent variables X "
   ]
  },
  {
   "cell_type": "code",
   "execution_count": 72,
   "metadata": {},
   "outputs": [],
   "source": [
    "X=train.drop('Promoted_or_Not',axis=1)\n",
    "y=train.Promoted_or_Not"
   ]
  },
  {
   "cell_type": "code",
   "execution_count": 73,
   "metadata": {},
   "outputs": [],
   "source": [
    "# from sklearn.decomposition import PCA\n",
    "# pca=PCA(n_components=2)\n",
    "# pca.fit(X)\n",
    "# X_pca=pca.transform(X)"
   ]
  },
  {
   "cell_type": "code",
   "execution_count": 74,
   "metadata": {},
   "outputs": [
    {
     "data": {
      "text/html": [
       "<div>\n",
       "<style scoped>\n",
       "    .dataframe tbody tr th:only-of-type {\n",
       "        vertical-align: middle;\n",
       "    }\n",
       "\n",
       "    .dataframe tbody tr th {\n",
       "        vertical-align: top;\n",
       "    }\n",
       "\n",
       "    .dataframe thead th {\n",
       "        text-align: right;\n",
       "    }\n",
       "</style>\n",
       "<table border=\"1\" class=\"dataframe\">\n",
       "  <thead>\n",
       "    <tr style=\"text-align: right;\">\n",
       "      <th></th>\n",
       "      <th>Last_performance_score</th>\n",
       "      <th>Previous_Award</th>\n",
       "      <th>Targets_met</th>\n",
       "      <th>Training_score_average</th>\n",
       "      <th>Trainings_Attended</th>\n",
       "      <th>Year_of_birth</th>\n",
       "      <th>Year_of_recruitment</th>\n",
       "      <th>Division_Business Finance Operations</th>\n",
       "      <th>Division_Commercial Sales and Marketing</th>\n",
       "      <th>Division_Customer Support and Field Operations</th>\n",
       "      <th>Division_Information Technology and Solution Support</th>\n",
       "      <th>Division_Information and Strategy</th>\n",
       "      <th>Division_People/HR Management</th>\n",
       "      <th>Division_Regulatory and Legal services</th>\n",
       "      <th>Division_Research and Innovation</th>\n",
       "      <th>Division_Sourcing and Purchasing</th>\n",
       "      <th>combo</th>\n",
       "    </tr>\n",
       "  </thead>\n",
       "  <tbody>\n",
       "    <tr>\n",
       "      <th>count</th>\n",
       "      <td>38312.000000</td>\n",
       "      <td>38312.000000</td>\n",
       "      <td>38312.000000</td>\n",
       "      <td>38312.000000</td>\n",
       "      <td>38312.000000</td>\n",
       "      <td>38312.000000</td>\n",
       "      <td>38312.000000</td>\n",
       "      <td>38312.000000</td>\n",
       "      <td>38312.000000</td>\n",
       "      <td>38312.000000</td>\n",
       "      <td>38312.000000</td>\n",
       "      <td>38312.000000</td>\n",
       "      <td>38312.000000</td>\n",
       "      <td>38312.000000</td>\n",
       "      <td>38312.000000</td>\n",
       "      <td>38312.000000</td>\n",
       "      <td>38312.000000</td>\n",
       "    </tr>\n",
       "    <tr>\n",
       "      <th>mean</th>\n",
       "      <td>7.365760</td>\n",
       "      <td>0.023152</td>\n",
       "      <td>0.352996</td>\n",
       "      <td>55.366465</td>\n",
       "      <td>1.988333</td>\n",
       "      <td>5.586683</td>\n",
       "      <td>5.230815</td>\n",
       "      <td>0.046617</td>\n",
       "      <td>0.305257</td>\n",
       "      <td>0.208107</td>\n",
       "      <td>0.129255</td>\n",
       "      <td>0.097124</td>\n",
       "      <td>0.044477</td>\n",
       "      <td>0.019132</td>\n",
       "      <td>0.018167</td>\n",
       "      <td>0.131865</td>\n",
       "      <td>0.824233</td>\n",
       "    </tr>\n",
       "    <tr>\n",
       "      <th>std</th>\n",
       "      <td>3.701256</td>\n",
       "      <td>0.150388</td>\n",
       "      <td>0.477908</td>\n",
       "      <td>13.362741</td>\n",
       "      <td>0.111908</td>\n",
       "      <td>1.474290</td>\n",
       "      <td>0.916468</td>\n",
       "      <td>0.210820</td>\n",
       "      <td>0.460522</td>\n",
       "      <td>0.405959</td>\n",
       "      <td>0.335486</td>\n",
       "      <td>0.296130</td>\n",
       "      <td>0.206155</td>\n",
       "      <td>0.136992</td>\n",
       "      <td>0.133555</td>\n",
       "      <td>0.338348</td>\n",
       "      <td>0.380627</td>\n",
       "    </tr>\n",
       "    <tr>\n",
       "      <th>min</th>\n",
       "      <td>0.000000</td>\n",
       "      <td>0.000000</td>\n",
       "      <td>0.000000</td>\n",
       "      <td>31.000000</td>\n",
       "      <td>0.000000</td>\n",
       "      <td>0.000000</td>\n",
       "      <td>0.000000</td>\n",
       "      <td>0.000000</td>\n",
       "      <td>0.000000</td>\n",
       "      <td>0.000000</td>\n",
       "      <td>0.000000</td>\n",
       "      <td>0.000000</td>\n",
       "      <td>0.000000</td>\n",
       "      <td>0.000000</td>\n",
       "      <td>0.000000</td>\n",
       "      <td>0.000000</td>\n",
       "      <td>0.000000</td>\n",
       "    </tr>\n",
       "    <tr>\n",
       "      <th>25%</th>\n",
       "      <td>5.000000</td>\n",
       "      <td>0.000000</td>\n",
       "      <td>0.000000</td>\n",
       "      <td>43.000000</td>\n",
       "      <td>2.000000</td>\n",
       "      <td>5.000000</td>\n",
       "      <td>5.000000</td>\n",
       "      <td>0.000000</td>\n",
       "      <td>0.000000</td>\n",
       "      <td>0.000000</td>\n",
       "      <td>0.000000</td>\n",
       "      <td>0.000000</td>\n",
       "      <td>0.000000</td>\n",
       "      <td>0.000000</td>\n",
       "      <td>0.000000</td>\n",
       "      <td>0.000000</td>\n",
       "      <td>1.000000</td>\n",
       "    </tr>\n",
       "    <tr>\n",
       "      <th>50%</th>\n",
       "      <td>7.000000</td>\n",
       "      <td>0.000000</td>\n",
       "      <td>0.000000</td>\n",
       "      <td>52.000000</td>\n",
       "      <td>2.000000</td>\n",
       "      <td>6.000000</td>\n",
       "      <td>5.000000</td>\n",
       "      <td>0.000000</td>\n",
       "      <td>0.000000</td>\n",
       "      <td>0.000000</td>\n",
       "      <td>0.000000</td>\n",
       "      <td>0.000000</td>\n",
       "      <td>0.000000</td>\n",
       "      <td>0.000000</td>\n",
       "      <td>0.000000</td>\n",
       "      <td>0.000000</td>\n",
       "      <td>1.000000</td>\n",
       "    </tr>\n",
       "    <tr>\n",
       "      <th>75%</th>\n",
       "      <td>10.000000</td>\n",
       "      <td>0.000000</td>\n",
       "      <td>1.000000</td>\n",
       "      <td>68.000000</td>\n",
       "      <td>2.000000</td>\n",
       "      <td>7.000000</td>\n",
       "      <td>6.000000</td>\n",
       "      <td>0.000000</td>\n",
       "      <td>1.000000</td>\n",
       "      <td>0.000000</td>\n",
       "      <td>0.000000</td>\n",
       "      <td>0.000000</td>\n",
       "      <td>0.000000</td>\n",
       "      <td>0.000000</td>\n",
       "      <td>0.000000</td>\n",
       "      <td>0.000000</td>\n",
       "      <td>1.000000</td>\n",
       "    </tr>\n",
       "    <tr>\n",
       "      <th>max</th>\n",
       "      <td>12.000000</td>\n",
       "      <td>1.000000</td>\n",
       "      <td>1.000000</td>\n",
       "      <td>91.000000</td>\n",
       "      <td>2.000000</td>\n",
       "      <td>7.000000</td>\n",
       "      <td>6.000000</td>\n",
       "      <td>1.000000</td>\n",
       "      <td>1.000000</td>\n",
       "      <td>1.000000</td>\n",
       "      <td>1.000000</td>\n",
       "      <td>1.000000</td>\n",
       "      <td>1.000000</td>\n",
       "      <td>1.000000</td>\n",
       "      <td>1.000000</td>\n",
       "      <td>1.000000</td>\n",
       "      <td>1.000000</td>\n",
       "    </tr>\n",
       "  </tbody>\n",
       "</table>\n",
       "</div>"
      ],
      "text/plain": [
       "       Last_performance_score  Previous_Award   Targets_met  \\\n",
       "count            38312.000000    38312.000000  38312.000000   \n",
       "mean                 7.365760        0.023152      0.352996   \n",
       "std                  3.701256        0.150388      0.477908   \n",
       "min                  0.000000        0.000000      0.000000   \n",
       "25%                  5.000000        0.000000      0.000000   \n",
       "50%                  7.000000        0.000000      0.000000   \n",
       "75%                 10.000000        0.000000      1.000000   \n",
       "max                 12.000000        1.000000      1.000000   \n",
       "\n",
       "       Training_score_average  Trainings_Attended  Year_of_birth  \\\n",
       "count            38312.000000        38312.000000   38312.000000   \n",
       "mean                55.366465            1.988333       5.586683   \n",
       "std                 13.362741            0.111908       1.474290   \n",
       "min                 31.000000            0.000000       0.000000   \n",
       "25%                 43.000000            2.000000       5.000000   \n",
       "50%                 52.000000            2.000000       6.000000   \n",
       "75%                 68.000000            2.000000       7.000000   \n",
       "max                 91.000000            2.000000       7.000000   \n",
       "\n",
       "       Year_of_recruitment  Division_Business Finance Operations  \\\n",
       "count         38312.000000                          38312.000000   \n",
       "mean              5.230815                              0.046617   \n",
       "std               0.916468                              0.210820   \n",
       "min               0.000000                              0.000000   \n",
       "25%               5.000000                              0.000000   \n",
       "50%               5.000000                              0.000000   \n",
       "75%               6.000000                              0.000000   \n",
       "max               6.000000                              1.000000   \n",
       "\n",
       "       Division_Commercial Sales and Marketing  \\\n",
       "count                             38312.000000   \n",
       "mean                                  0.305257   \n",
       "std                                   0.460522   \n",
       "min                                   0.000000   \n",
       "25%                                   0.000000   \n",
       "50%                                   0.000000   \n",
       "75%                                   1.000000   \n",
       "max                                   1.000000   \n",
       "\n",
       "       Division_Customer Support and Field Operations  \\\n",
       "count                                    38312.000000   \n",
       "mean                                         0.208107   \n",
       "std                                          0.405959   \n",
       "min                                          0.000000   \n",
       "25%                                          0.000000   \n",
       "50%                                          0.000000   \n",
       "75%                                          0.000000   \n",
       "max                                          1.000000   \n",
       "\n",
       "       Division_Information Technology and Solution Support  \\\n",
       "count                                       38312.000000      \n",
       "mean                                            0.129255      \n",
       "std                                             0.335486      \n",
       "min                                             0.000000      \n",
       "25%                                             0.000000      \n",
       "50%                                             0.000000      \n",
       "75%                                             0.000000      \n",
       "max                                             1.000000      \n",
       "\n",
       "       Division_Information and Strategy  Division_People/HR Management  \\\n",
       "count                       38312.000000                   38312.000000   \n",
       "mean                            0.097124                       0.044477   \n",
       "std                             0.296130                       0.206155   \n",
       "min                             0.000000                       0.000000   \n",
       "25%                             0.000000                       0.000000   \n",
       "50%                             0.000000                       0.000000   \n",
       "75%                             0.000000                       0.000000   \n",
       "max                             1.000000                       1.000000   \n",
       "\n",
       "       Division_Regulatory and Legal services  \\\n",
       "count                            38312.000000   \n",
       "mean                                 0.019132   \n",
       "std                                  0.136992   \n",
       "min                                  0.000000   \n",
       "25%                                  0.000000   \n",
       "50%                                  0.000000   \n",
       "75%                                  0.000000   \n",
       "max                                  1.000000   \n",
       "\n",
       "       Division_Research and Innovation  Division_Sourcing and Purchasing  \\\n",
       "count                      38312.000000                      38312.000000   \n",
       "mean                           0.018167                          0.131865   \n",
       "std                            0.133555                          0.338348   \n",
       "min                            0.000000                          0.000000   \n",
       "25%                            0.000000                          0.000000   \n",
       "50%                            0.000000                          0.000000   \n",
       "75%                            0.000000                          0.000000   \n",
       "max                            1.000000                          1.000000   \n",
       "\n",
       "              combo  \n",
       "count  38312.000000  \n",
       "mean       0.824233  \n",
       "std        0.380627  \n",
       "min        0.000000  \n",
       "25%        1.000000  \n",
       "50%        1.000000  \n",
       "75%        1.000000  \n",
       "max        1.000000  "
      ]
     },
     "execution_count": 74,
     "metadata": {},
     "output_type": "execute_result"
    }
   ],
   "source": [
    "X.describe()"
   ]
  },
  {
   "cell_type": "markdown",
   "metadata": {},
   "source": [
    "Preprocessing "
   ]
  },
  {
   "cell_type": "code",
   "execution_count": 75,
   "metadata": {},
   "outputs": [],
   "source": [
    "from sklearn.preprocessing import StandardScaler\n",
    "std=StandardScaler()\n",
    "X[['Last_performance_score','Training_score_average','Year_of_birth','Year_of_recruitment']]=std.fit_transform(X[['Last_performance_score','Training_score_average','Year_of_birth','Year_of_recruitment']])"
   ]
  },
  {
   "cell_type": "markdown",
   "metadata": {},
   "source": [
    "combo and Trainings_Attended had very low scores on feature importance plot, so I will drop them. The plot will be seen later in the model building section"
   ]
  },
  {
   "cell_type": "code",
   "execution_count": 76,
   "metadata": {},
   "outputs": [],
   "source": [
    "X=X.drop(['combo','Trainings_Attended'],axis=1)\n",
    "#X=X.drop(['Qualification','Division_Business Finance Operations','No_of_previous_employers','Channel_of_Recruitment'],axis=1)"
   ]
  },
  {
   "cell_type": "markdown",
   "metadata": {},
   "source": [
    "train_test splitting"
   ]
  },
  {
   "cell_type": "code",
   "execution_count": 77,
   "metadata": {},
   "outputs": [],
   "source": [
    "from sklearn.model_selection import train_test_split\n",
    "X_train,X_test,y_train,y_test=train_test_split(X,y,test_size=0.3,random_state=7,shuffle=True,stratify=y)"
   ]
  },
  {
   "cell_type": "markdown",
   "metadata": {},
   "source": [
    "Importing the evaluation metrics, '*' to import all metrics "
   ]
  },
  {
   "cell_type": "code",
   "execution_count": 78,
   "metadata": {},
   "outputs": [],
   "source": [
    "from sklearn.metrics import *"
   ]
  },
  {
   "cell_type": "markdown",
   "metadata": {},
   "source": [
    "### Data Modelling"
   ]
  },
  {
   "cell_type": "markdown",
   "metadata": {},
   "source": [
    "I built models using different classifiers: Gradient Boosting, Extreme Gradient Bossting, Random Forest, Logistic Regression, Support Vector, KNearestNeighbors, AdaBoost, Extra Tress, and Bagging classifiers"
   ]
  },
  {
   "cell_type": "code",
   "execution_count": 79,
   "metadata": {
    "scrolled": false
   },
   "outputs": [
    {
     "name": "stdout",
     "output_type": "stream",
     "text": [
      "[0]\tvalidation_0-logloss:0.622686\n",
      "Will train until validation_0-logloss hasn't improved in 5 rounds.\n",
      "[1]\tvalidation_0-logloss:0.565281\n",
      "[2]\tvalidation_0-logloss:0.517554\n",
      "[3]\tvalidation_0-logloss:0.477177\n",
      "[4]\tvalidation_0-logloss:0.443065\n",
      "[5]\tvalidation_0-logloss:0.414082\n",
      "[6]\tvalidation_0-logloss:0.389377\n",
      "[7]\tvalidation_0-logloss:0.367517\n",
      "[8]\tvalidation_0-logloss:0.348616\n",
      "[9]\tvalidation_0-logloss:0.332583\n",
      "[10]\tvalidation_0-logloss:0.318311\n",
      "[11]\tvalidation_0-logloss:0.305137\n",
      "[12]\tvalidation_0-logloss:0.293746\n",
      "[13]\tvalidation_0-logloss:0.284197\n",
      "[14]\tvalidation_0-logloss:0.275488\n",
      "[15]\tvalidation_0-logloss:0.268153\n",
      "[16]\tvalidation_0-logloss:0.26084\n",
      "[17]\tvalidation_0-logloss:0.254488\n",
      "[18]\tvalidation_0-logloss:0.249306\n",
      "[19]\tvalidation_0-logloss:0.244403\n",
      "[20]\tvalidation_0-logloss:0.240404\n",
      "[21]\tvalidation_0-logloss:0.236259\n",
      "[22]\tvalidation_0-logloss:0.233043\n",
      "[23]\tvalidation_0-logloss:0.230291\n",
      "[24]\tvalidation_0-logloss:0.227323\n",
      "[25]\tvalidation_0-logloss:0.223925\n",
      "[26]\tvalidation_0-logloss:0.221611\n",
      "[27]\tvalidation_0-logloss:0.21941\n",
      "[28]\tvalidation_0-logloss:0.216299\n",
      "[29]\tvalidation_0-logloss:0.214472\n",
      "[30]\tvalidation_0-logloss:0.213094\n",
      "[31]\tvalidation_0-logloss:0.209628\n",
      "[32]\tvalidation_0-logloss:0.208442\n",
      "[33]\tvalidation_0-logloss:0.207457\n",
      "[34]\tvalidation_0-logloss:0.206507\n",
      "[35]\tvalidation_0-logloss:0.203987\n",
      "[36]\tvalidation_0-logloss:0.203307\n",
      "[37]\tvalidation_0-logloss:0.202629\n",
      "[38]\tvalidation_0-logloss:0.200487\n",
      "[39]\tvalidation_0-logloss:0.198737\n",
      "[40]\tvalidation_0-logloss:0.198113\n",
      "[41]\tvalidation_0-logloss:0.197623\n",
      "[42]\tvalidation_0-logloss:0.196714\n",
      "[43]\tvalidation_0-logloss:0.195537\n",
      "[44]\tvalidation_0-logloss:0.195118\n",
      "[45]\tvalidation_0-logloss:0.193846\n",
      "[46]\tvalidation_0-logloss:0.192728\n",
      "[47]\tvalidation_0-logloss:0.19241\n",
      "[48]\tvalidation_0-logloss:0.191826\n",
      "[49]\tvalidation_0-logloss:0.191481\n",
      "[50]\tvalidation_0-logloss:0.190595\n",
      "[51]\tvalidation_0-logloss:0.190367\n",
      "[52]\tvalidation_0-logloss:0.189718\n",
      "[53]\tvalidation_0-logloss:0.188705\n",
      "[54]\tvalidation_0-logloss:0.188458\n",
      "[55]\tvalidation_0-logloss:0.187811\n",
      "[56]\tvalidation_0-logloss:0.187473\n",
      "[57]\tvalidation_0-logloss:0.186868\n",
      "[58]\tvalidation_0-logloss:0.186768\n",
      "[59]\tvalidation_0-logloss:0.186149\n",
      "[60]\tvalidation_0-logloss:0.185969\n",
      "[61]\tvalidation_0-logloss:0.184517\n",
      "[62]\tvalidation_0-logloss:0.183732\n",
      "[63]\tvalidation_0-logloss:0.183027\n",
      "[64]\tvalidation_0-logloss:0.181865\n",
      "[65]\tvalidation_0-logloss:0.181476\n",
      "[66]\tvalidation_0-logloss:0.181089\n",
      "[67]\tvalidation_0-logloss:0.181024\n",
      "[68]\tvalidation_0-logloss:0.180805\n",
      "[69]\tvalidation_0-logloss:0.180652\n",
      "[70]\tvalidation_0-logloss:0.180532\n",
      "[71]\tvalidation_0-logloss:0.179966\n",
      "[72]\tvalidation_0-logloss:0.179694\n",
      "[73]\tvalidation_0-logloss:0.179556\n",
      "[74]\tvalidation_0-logloss:0.179454\n",
      "[75]\tvalidation_0-logloss:0.179328\n",
      "[76]\tvalidation_0-logloss:0.178871\n",
      "[77]\tvalidation_0-logloss:0.178824\n",
      "[78]\tvalidation_0-logloss:0.178586\n",
      "[79]\tvalidation_0-logloss:0.177549\n",
      "[80]\tvalidation_0-logloss:0.177465\n",
      "[81]\tvalidation_0-logloss:0.177382\n",
      "[82]\tvalidation_0-logloss:0.177158\n",
      "[83]\tvalidation_0-logloss:0.176812\n",
      "[84]\tvalidation_0-logloss:0.17672\n",
      "[85]\tvalidation_0-logloss:0.176616\n",
      "[86]\tvalidation_0-logloss:0.175697\n",
      "[87]\tvalidation_0-logloss:0.17565\n",
      "[88]\tvalidation_0-logloss:0.174947\n",
      "[89]\tvalidation_0-logloss:0.174413\n",
      "[90]\tvalidation_0-logloss:0.174057\n",
      "[91]\tvalidation_0-logloss:0.173892\n",
      "[92]\tvalidation_0-logloss:0.173836\n",
      "[93]\tvalidation_0-logloss:0.173351\n",
      "[94]\tvalidation_0-logloss:0.172722\n",
      "[95]\tvalidation_0-logloss:0.172016\n",
      "[96]\tvalidation_0-logloss:0.171987\n",
      "[97]\tvalidation_0-logloss:0.171969\n",
      "[98]\tvalidation_0-logloss:0.171877\n",
      "[99]\tvalidation_0-logloss:0.171622\n",
      "[100]\tvalidation_0-logloss:0.171568\n",
      "[101]\tvalidation_0-logloss:0.171436\n",
      "[102]\tvalidation_0-logloss:0.171423\n",
      "[103]\tvalidation_0-logloss:0.171277\n",
      "[104]\tvalidation_0-logloss:0.171074\n",
      "[105]\tvalidation_0-logloss:0.170838\n",
      "[106]\tvalidation_0-logloss:0.170796\n",
      "[107]\tvalidation_0-logloss:0.17058\n",
      "[108]\tvalidation_0-logloss:0.170554\n",
      "[109]\tvalidation_0-logloss:0.17053\n",
      "[110]\tvalidation_0-logloss:0.170359\n",
      "[111]\tvalidation_0-logloss:0.170196\n",
      "[112]\tvalidation_0-logloss:0.170189\n",
      "[113]\tvalidation_0-logloss:0.170023\n",
      "[114]\tvalidation_0-logloss:0.169994\n",
      "[115]\tvalidation_0-logloss:0.169562\n",
      "[116]\tvalidation_0-logloss:0.169539\n",
      "[117]\tvalidation_0-logloss:0.169183\n",
      "[118]\tvalidation_0-logloss:0.169099\n",
      "[119]\tvalidation_0-logloss:0.169068\n",
      "[120]\tvalidation_0-logloss:0.168881\n",
      "[121]\tvalidation_0-logloss:0.168854\n",
      "[122]\tvalidation_0-logloss:0.168832\n",
      "[123]\tvalidation_0-logloss:0.168817\n",
      "[124]\tvalidation_0-logloss:0.168521\n",
      "[125]\tvalidation_0-logloss:0.168376\n",
      "[126]\tvalidation_0-logloss:0.168221\n",
      "[127]\tvalidation_0-logloss:0.168164\n",
      "[128]\tvalidation_0-logloss:0.168032\n",
      "[129]\tvalidation_0-logloss:0.168014\n",
      "[130]\tvalidation_0-logloss:0.167968\n",
      "[131]\tvalidation_0-logloss:0.167524\n",
      "[132]\tvalidation_0-logloss:0.167437\n",
      "[133]\tvalidation_0-logloss:0.167427\n",
      "[134]\tvalidation_0-logloss:0.167422\n",
      "[135]\tvalidation_0-logloss:0.167338\n",
      "[136]\tvalidation_0-logloss:0.167326\n",
      "[137]\tvalidation_0-logloss:0.167224\n",
      "[138]\tvalidation_0-logloss:0.167066\n",
      "[139]\tvalidation_0-logloss:0.166714\n",
      "[140]\tvalidation_0-logloss:0.166618\n",
      "[141]\tvalidation_0-logloss:0.166528\n",
      "[142]\tvalidation_0-logloss:0.16624\n",
      "[143]\tvalidation_0-logloss:0.166149\n",
      "[144]\tvalidation_0-logloss:0.165891\n",
      "[145]\tvalidation_0-logloss:0.165645\n",
      "[146]\tvalidation_0-logloss:0.165343\n",
      "[147]\tvalidation_0-logloss:0.165322\n",
      "[148]\tvalidation_0-logloss:0.165082\n",
      "[149]\tvalidation_0-logloss:0.164975\n",
      "[150]\tvalidation_0-logloss:0.164741\n",
      "[151]\tvalidation_0-logloss:0.16461\n",
      "[152]\tvalidation_0-logloss:0.16459\n",
      "[153]\tvalidation_0-logloss:0.16454\n",
      "[154]\tvalidation_0-logloss:0.164402\n",
      "[155]\tvalidation_0-logloss:0.164214\n",
      "[156]\tvalidation_0-logloss:0.164206\n",
      "[157]\tvalidation_0-logloss:0.164194\n",
      "[158]\tvalidation_0-logloss:0.164228\n",
      "[159]\tvalidation_0-logloss:0.164044\n",
      "[160]\tvalidation_0-logloss:0.164034\n",
      "[161]\tvalidation_0-logloss:0.164025\n",
      "[162]\tvalidation_0-logloss:0.163836\n",
      "[163]\tvalidation_0-logloss:0.163815\n",
      "[164]\tvalidation_0-logloss:0.163825\n",
      "[165]\tvalidation_0-logloss:0.163807\n",
      "[166]\tvalidation_0-logloss:0.16382\n",
      "[167]\tvalidation_0-logloss:0.163818\n",
      "[168]\tvalidation_0-logloss:0.163693\n",
      "[169]\tvalidation_0-logloss:0.163691\n",
      "[170]\tvalidation_0-logloss:0.163674\n",
      "[171]\tvalidation_0-logloss:0.163583\n",
      "[172]\tvalidation_0-logloss:0.163395\n",
      "[173]\tvalidation_0-logloss:0.16341\n",
      "[174]\tvalidation_0-logloss:0.163314\n",
      "[175]\tvalidation_0-logloss:0.163227\n",
      "[176]\tvalidation_0-logloss:0.163207\n",
      "[177]\tvalidation_0-logloss:0.163186\n",
      "[178]\tvalidation_0-logloss:0.163196\n",
      "[179]\tvalidation_0-logloss:0.163189\n",
      "[180]\tvalidation_0-logloss:0.163163\n",
      "[181]\tvalidation_0-logloss:0.16316\n",
      "[182]\tvalidation_0-logloss:0.163147\n",
      "[183]\tvalidation_0-logloss:0.16309\n",
      "[184]\tvalidation_0-logloss:0.163105\n",
      "[185]\tvalidation_0-logloss:0.163059\n",
      "[186]\tvalidation_0-logloss:0.16293\n",
      "[187]\tvalidation_0-logloss:0.162926\n",
      "[188]\tvalidation_0-logloss:0.162934\n",
      "[189]\tvalidation_0-logloss:0.162814\n",
      "[190]\tvalidation_0-logloss:0.162819\n",
      "[191]\tvalidation_0-logloss:0.162813\n",
      "[192]\tvalidation_0-logloss:0.162809\n",
      "[193]\tvalidation_0-logloss:0.162823\n",
      "[194]\tvalidation_0-logloss:0.162799\n",
      "[195]\tvalidation_0-logloss:0.162795\n",
      "[196]\tvalidation_0-logloss:0.162791\n",
      "[197]\tvalidation_0-logloss:0.16277\n",
      "[198]\tvalidation_0-logloss:0.162774\n",
      "[199]\tvalidation_0-logloss:0.162771\n",
      "[200]\tvalidation_0-logloss:0.162733\n",
      "[201]\tvalidation_0-logloss:0.162731\n",
      "[202]\tvalidation_0-logloss:0.162731\n",
      "[203]\tvalidation_0-logloss:0.16268\n",
      "[204]\tvalidation_0-logloss:0.162664\n",
      "[205]\tvalidation_0-logloss:0.162673\n",
      "[206]\tvalidation_0-logloss:0.162671\n",
      "[207]\tvalidation_0-logloss:0.162686\n",
      "[208]\tvalidation_0-logloss:0.16262\n",
      "[209]\tvalidation_0-logloss:0.162632\n",
      "[210]\tvalidation_0-logloss:0.16262\n",
      "[211]\tvalidation_0-logloss:0.162586\n",
      "[212]\tvalidation_0-logloss:0.162589\n",
      "[213]\tvalidation_0-logloss:0.162588\n",
      "[214]\tvalidation_0-logloss:0.162604\n",
      "[215]\tvalidation_0-logloss:0.162614\n",
      "[216]\tvalidation_0-logloss:0.16258\n",
      "[217]\tvalidation_0-logloss:0.162521\n",
      "[218]\tvalidation_0-logloss:0.162521\n",
      "[219]\tvalidation_0-logloss:0.162511\n",
      "[220]\tvalidation_0-logloss:0.162536\n",
      "[221]\tvalidation_0-logloss:0.16252\n",
      "[222]\tvalidation_0-logloss:0.162513\n",
      "[223]\tvalidation_0-logloss:0.162468\n",
      "[224]\tvalidation_0-logloss:0.16243\n",
      "[225]\tvalidation_0-logloss:0.162399\n",
      "[226]\tvalidation_0-logloss:0.162332\n",
      "[227]\tvalidation_0-logloss:0.162322\n",
      "[228]\tvalidation_0-logloss:0.162319\n",
      "[229]\tvalidation_0-logloss:0.162295\n"
     ]
    },
    {
     "name": "stdout",
     "output_type": "stream",
     "text": [
      "[230]\tvalidation_0-logloss:0.162228\n",
      "[231]\tvalidation_0-logloss:0.162118\n",
      "[232]\tvalidation_0-logloss:0.162127\n",
      "[233]\tvalidation_0-logloss:0.162137\n",
      "[234]\tvalidation_0-logloss:0.162146\n",
      "[235]\tvalidation_0-logloss:0.162144\n",
      "[236]\tvalidation_0-logloss:0.162155\n",
      "Stopping. Best iteration:\n",
      "[231]\tvalidation_0-logloss:0.162118\n",
      "\n",
      "              precision    recall  f1-score   support\n",
      "\n",
      "           0       0.94      1.00      0.97     10522\n",
      "           1       0.96      0.36      0.52       972\n",
      "\n",
      "   micro avg       0.94      0.94      0.94     11494\n",
      "   macro avg       0.95      0.68      0.75     11494\n",
      "weighted avg       0.95      0.94      0.93     11494\n",
      "\n"
     ]
    }
   ],
   "source": [
    "from xgboost import XGBClassifier\n",
    "xgb = XGBClassifier(n_estimators=300)\n",
    "eval_set = [(X_test, y_test)]\n",
    "\n",
    "xgb.fit(X_train, y_train, early_stopping_rounds=5, eval_metric=\"logloss\", eval_set=eval_set, verbose=True) \n",
    "\n",
    "y_xgb=xgb.predict(X_test)\n",
    "\n",
    "print(classification_report(y_test,y_xgb))"
   ]
  },
  {
   "cell_type": "markdown",
   "metadata": {},
   "source": [
    "Feature Importance of Extreme Gradient Boosting (xgb) Model "
   ]
  },
  {
   "cell_type": "code",
   "execution_count": 80,
   "metadata": {
    "scrolled": true
   },
   "outputs": [
    {
     "data": {
      "image/png": "[encoded data removed]",
      "text/plain": [
       "<Figure size 432x288 with 1 Axes>"
      ]
     },
     "metadata": {
      "needs_background": "light"
     },
     "output_type": "display_data"
    }
   ],
   "source": [
    "from matplotlib import pyplot\n",
    "from xgboost import plot_importance\n",
    "plot_importance(xgb) \n",
    "pyplot.show()"
   ]
  },
  {
   "cell_type": "code",
   "execution_count": 81,
   "metadata": {},
   "outputs": [
    {
     "data": {
      "text/plain": [
       "array([[10508,    14],\n",
       "       [  622,   350]], dtype=int64)"
      ]
     },
     "execution_count": 81,
     "metadata": {},
     "output_type": "execute_result"
    }
   ],
   "source": [
    "confusion_matrix(y_test,y_xgb)"
   ]
  },
  {
   "cell_type": "code",
   "execution_count": 82,
   "metadata": {},
   "outputs": [
    {
     "name": "stdout",
     "output_type": "stream",
     "text": [
      "              precision    recall  f1-score   support\n",
      "\n",
      "           0       0.94      1.00      0.97     10522\n",
      "           1       0.96      0.36      0.53       972\n",
      "\n",
      "   micro avg       0.94      0.94      0.94     11494\n",
      "   macro avg       0.95      0.68      0.75     11494\n",
      "weighted avg       0.95      0.94      0.93     11494\n",
      "\n"
     ]
    }
   ],
   "source": [
    "from sklearn.ensemble import GradientBoostingClassifier\n",
    "gb=GradientBoostingClassifier(learning_rate=0.15,n_estimators=200)\n",
    "gb.fit(X_train,y_train)\n",
    "y_gb=gb.predict(X_test)\n",
    "print(classification_report(y_test,y_gb))"
   ]
  },
  {
   "cell_type": "code",
   "execution_count": 83,
   "metadata": {
    "scrolled": true
   },
   "outputs": [
    {
     "data": {
      "text/plain": [
       "array([[10508,    14],\n",
       "       [  620,   352]], dtype=int64)"
      ]
     },
     "execution_count": 83,
     "metadata": {},
     "output_type": "execute_result"
    }
   ],
   "source": [
    "confusion_matrix(y_test,y_gb)"
   ]
  },
  {
   "cell_type": "markdown",
   "metadata": {},
   "source": [
    "Feature Importance of Gradient Boosting (gb) Model"
   ]
  },
  {
   "cell_type": "code",
   "execution_count": 84,
   "metadata": {},
   "outputs": [
    {
     "data": {
      "text/plain": [
       "([<matplotlib.axis.XTick at 0x11e197c5eb8>,\n",
       "  <matplotlib.axis.XTick at 0x11e197c57f0>,\n",
       "  <matplotlib.axis.XTick at 0x11e197c5588>,\n",
       "  <matplotlib.axis.XTick at 0x11e197e1ef0>,\n",
       "  <matplotlib.axis.XTick at 0x11e197eb390>,\n",
       "  <matplotlib.axis.XTick at 0x11e197eb860>,\n",
       "  <matplotlib.axis.XTick at 0x11e197ebd30>,\n",
       "  <matplotlib.axis.XTick at 0x11e197f4240>,\n",
       "  <matplotlib.axis.XTick at 0x11e197f4710>,\n",
       "  <matplotlib.axis.XTick at 0x11e197eb940>,\n",
       "  <matplotlib.axis.XTick at 0x11e197eb208>,\n",
       "  <matplotlib.axis.XTick at 0x11e197f4588>,\n",
       "  <matplotlib.axis.XTick at 0x11e197fd2b0>,\n",
       "  <matplotlib.axis.XTick at 0x11e197fd780>,\n",
       "  <matplotlib.axis.XTick at 0x11e197fdc50>],\n",
       " <a list of 15 Text xticklabel objects>)"
      ]
     },
     "execution_count": 84,
     "metadata": {},
     "output_type": "execute_result"
    },
    {
     "data": {
      "image/png": "[encoded data removed]",
      "text/plain": [
       "<Figure size 432x288 with 1 Axes>"
      ]
     },
     "metadata": {
      "needs_background": "light"
     },
     "output_type": "display_data"
    }
   ],
   "source": [
    "plt.plot(gb.feature_importances_,'o')\n",
    "plt.xticks(range(X.shape[1]), X.columns, rotation=90)"
   ]
  },
  {
   "cell_type": "code",
   "execution_count": 85,
   "metadata": {},
   "outputs": [
    {
     "name": "stdout",
     "output_type": "stream",
     "text": [
      "              precision    recall  f1-score   support\n",
      "\n",
      "           0       0.93      1.00      0.96     10522\n",
      "           1       0.87      0.25      0.38       972\n",
      "\n",
      "   micro avg       0.93      0.93      0.93     11494\n",
      "   macro avg       0.90      0.62      0.67     11494\n",
      "weighted avg       0.93      0.93      0.92     11494\n",
      "\n"
     ]
    }
   ],
   "source": [
    "from sklearn.linear_model import LogisticRegression\n",
    "lr=LogisticRegression()\n",
    "lr.fit(X_train,y_train)\n",
    "y_pred=lr.predict(X_test)\n",
    "print(classification_report(y_test,y_pred))"
   ]
  },
  {
   "cell_type": "code",
   "execution_count": 86,
   "metadata": {},
   "outputs": [
    {
     "data": {
      "text/plain": [
       "array([[10485,    37],\n",
       "       [  732,   240]], dtype=int64)"
      ]
     },
     "execution_count": 86,
     "metadata": {},
     "output_type": "execute_result"
    }
   ],
   "source": [
    "confusion_matrix(y_test,y_pred)"
   ]
  },
  {
   "cell_type": "code",
   "execution_count": 87,
   "metadata": {},
   "outputs": [
    {
     "name": "stdout",
     "output_type": "stream",
     "text": [
      "              precision    recall  f1-score   support\n",
      "\n",
      "           0       0.94      0.99      0.97     10522\n",
      "           1       0.86      0.36      0.51       972\n",
      "\n",
      "   micro avg       0.94      0.94      0.94     11494\n",
      "   macro avg       0.90      0.68      0.74     11494\n",
      "weighted avg       0.94      0.94      0.93     11494\n",
      "\n"
     ]
    }
   ],
   "source": [
    "from sklearn.ensemble import RandomForestClassifier\n",
    "rf=RandomForestClassifier(n_estimators=30,max_features=0.5,min_samples_leaf=3)\n",
    "rf.fit(X_train,y_train)\n",
    "y_p=rf.predict(X_test)\n",
    "print(classification_report(y_test,y_p))\n",
    "# from sklearn.metrics import f1_score\n",
    "# f1_score(y_p,y_test)"
   ]
  },
  {
   "cell_type": "code",
   "execution_count": 88,
   "metadata": {
    "scrolled": true
   },
   "outputs": [
    {
     "data": {
      "text/plain": [
       "array([[10465,    57],\n",
       "       [  623,   349]], dtype=int64)"
      ]
     },
     "execution_count": 88,
     "metadata": {},
     "output_type": "execute_result"
    }
   ],
   "source": [
    "confusion_matrix(y_test,y_p)"
   ]
  },
  {
   "cell_type": "markdown",
   "metadata": {},
   "source": [
    "Feature Importnace of Random Forest (rf) Model"
   ]
  },
  {
   "cell_type": "code",
   "execution_count": 89,
   "metadata": {},
   "outputs": [
    {
     "data": {
      "text/plain": [
       "([<matplotlib.axis.XTick at 0x11e1994de10>,\n",
       "  <matplotlib.axis.XTick at 0x11e1994d748>,\n",
       "  <matplotlib.axis.XTick at 0x11e1994d4a8>,\n",
       "  <matplotlib.axis.XTick at 0x11e19969d68>,\n",
       "  <matplotlib.axis.XTick at 0x11e19972240>,\n",
       "  <matplotlib.axis.XTick at 0x11e19972710>,\n",
       "  <matplotlib.axis.XTick at 0x11e19972be0>,\n",
       "  <matplotlib.axis.XTick at 0x11e1997a160>,\n",
       "  <matplotlib.axis.XTick at 0x11e1997a5c0>,\n",
       "  <matplotlib.axis.XTick at 0x11e1997aa90>,\n",
       "  <matplotlib.axis.XTick at 0x11e1997af60>,\n",
       "  <matplotlib.axis.XTick at 0x11e1997a908>,\n",
       "  <matplotlib.axis.XTick at 0x11e19972ba8>,\n",
       "  <matplotlib.axis.XTick at 0x11e19983320>,\n",
       "  <matplotlib.axis.XTick at 0x11e19983978>],\n",
       " <a list of 15 Text xticklabel objects>)"
      ]
     },
     "execution_count": 89,
     "metadata": {},
     "output_type": "execute_result"
    },
    {
     "data": {
      "image/png": "[encoded data removed]",
      "text/plain": [
       "<Figure size 432x288 with 1 Axes>"
      ]
     },
     "metadata": {
      "needs_background": "light"
     },
     "output_type": "display_data"
    }
   ],
   "source": [
    "plt.plot(rf.feature_importances_,'o')\n",
    "plt.xticks(range(X.shape[1]), X.columns, rotation=90)"
   ]
  },
  {
   "cell_type": "code",
   "execution_count": 90,
   "metadata": {
    "scrolled": true
   },
   "outputs": [
    {
     "name": "stdout",
     "output_type": "stream",
     "text": [
      "              precision    recall  f1-score   support\n",
      "\n",
      "           0       0.94      1.00      0.97     10522\n",
      "           1       0.97      0.31      0.47       972\n",
      "\n",
      "   micro avg       0.94      0.94      0.94     11494\n",
      "   macro avg       0.95      0.65      0.72     11494\n",
      "weighted avg       0.94      0.94      0.93     11494\n",
      "\n"
     ]
    }
   ],
   "source": [
    "from sklearn.svm import SVC\n",
    "svc=SVC(C=20,gamma=0.1,probability=True)\n",
    "svc.fit(X_train,y_train)\n",
    "y_pr=svc.predict(X_test)\n",
    "print(classification_report(y_test,y_pr))"
   ]
  },
  {
   "cell_type": "markdown",
   "metadata": {},
   "source": [
    "I picked a high value of Penalty parameter C, that is to penalize a misclassification highly, this will reduce overfitting to an extent "
   ]
  },
  {
   "cell_type": "code",
   "execution_count": 91,
   "metadata": {},
   "outputs": [
    {
     "data": {
      "text/plain": [
       "0.470404984423676"
      ]
     },
     "execution_count": 91,
     "metadata": {},
     "output_type": "execute_result"
    }
   ],
   "source": [
    "f1_score(y_test,y_pr)"
   ]
  },
  {
   "cell_type": "code",
   "execution_count": 92,
   "metadata": {},
   "outputs": [
    {
     "data": {
      "text/plain": [
       "array([[10512,    10],\n",
       "       [  670,   302]], dtype=int64)"
      ]
     },
     "execution_count": 92,
     "metadata": {},
     "output_type": "execute_result"
    }
   ],
   "source": [
    "confusion_matrix(y_test,y_pr)"
   ]
  },
  {
   "cell_type": "code",
   "execution_count": 93,
   "metadata": {},
   "outputs": [
    {
     "name": "stdout",
     "output_type": "stream",
     "text": [
      "              precision    recall  f1-score   support\n",
      "\n",
      "           0       0.94      1.00      0.97     10522\n",
      "           1       0.95      0.36      0.52       972\n",
      "\n",
      "   micro avg       0.94      0.94      0.94     11494\n",
      "   macro avg       0.95      0.68      0.75     11494\n",
      "weighted avg       0.94      0.94      0.93     11494\n",
      "\n"
     ]
    }
   ],
   "source": [
    "from sklearn.tree import DecisionTreeClassifier\n",
    "from sklearn.ensemble import AdaBoostClassifier\n",
    "ada=AdaBoostClassifier(base_estimator=DecisionTreeClassifier(max_depth=3,max_features=0.5,random_state=7), learning_rate=0.15,n_estimators=200)\n",
    "ada.fit(X_train,y_train)\n",
    "y_ada=ada.predict(X_test)\n",
    "print(classification_report(y_test,y_ada))"
   ]
  },
  {
   "cell_type": "code",
   "execution_count": 94,
   "metadata": {},
   "outputs": [
    {
     "data": {
      "text/plain": [
       "array([[10503,    19],\n",
       "       [  624,   348]], dtype=int64)"
      ]
     },
     "execution_count": 94,
     "metadata": {},
     "output_type": "execute_result"
    }
   ],
   "source": [
    "confusion_matrix(y_test,y_ada)"
   ]
  },
  {
   "cell_type": "code",
   "execution_count": 95,
   "metadata": {
    "scrolled": true
   },
   "outputs": [
    {
     "name": "stdout",
     "output_type": "stream",
     "text": [
      "              precision    recall  f1-score   support\n",
      "\n",
      "           0       0.94      0.99      0.96     10522\n",
      "           1       0.71      0.28      0.40       972\n",
      "\n",
      "   micro avg       0.93      0.93      0.93     11494\n",
      "   macro avg       0.82      0.64      0.68     11494\n",
      "weighted avg       0.92      0.93      0.92     11494\n",
      "\n"
     ]
    }
   ],
   "source": [
    "from sklearn.neighbors import KNeighborsClassifier\n",
    "knn=KNeighborsClassifier(n_neighbors=5)\n",
    "knn.fit(X_train,y_train)\n",
    "y_knn=knn.predict(X_test)\n",
    "print(classification_report(y_test,y_knn))"
   ]
  },
  {
   "cell_type": "code",
   "execution_count": 96,
   "metadata": {},
   "outputs": [
    {
     "name": "stdout",
     "output_type": "stream",
     "text": [
      "              precision    recall  f1-score   support\n",
      "\n",
      "           0       0.94      0.98      0.96     10522\n",
      "           1       0.67      0.37      0.48       972\n",
      "\n",
      "   micro avg       0.93      0.93      0.93     11494\n",
      "   macro avg       0.81      0.68      0.72     11494\n",
      "weighted avg       0.92      0.93      0.92     11494\n",
      "\n"
     ]
    }
   ],
   "source": [
    "from sklearn.ensemble import ExtraTreesClassifier\n",
    "ext=ExtraTreesClassifier()\n",
    "ext.fit(X_train,y_train)\n",
    "y_ext=ext.predict(X_test)\n",
    "print(classification_report(y_test,y_ext))"
   ]
  },
  {
   "cell_type": "code",
   "execution_count": 97,
   "metadata": {},
   "outputs": [
    {
     "name": "stdout",
     "output_type": "stream",
     "text": [
      "              precision    recall  f1-score   support\n",
      "\n",
      "           0       0.94      1.00      0.97     10522\n",
      "           1       0.95      0.37      0.53       972\n",
      "\n",
      "   micro avg       0.94      0.94      0.94     11494\n",
      "   macro avg       0.95      0.68      0.75     11494\n",
      "weighted avg       0.94      0.94      0.93     11494\n",
      "\n"
     ]
    }
   ],
   "source": [
    "from sklearn.ensemble import BaggingClassifier\n",
    "bc=BaggingClassifier(base_estimator=ada,bootstrap=False,n_estimators=10)\n",
    "bc.fit(X_train,y_train)\n",
    "y_bc=bc.predict(X_test)\n",
    "print(classification_report(y_test,y_bc))"
   ]
  },
  {
   "cell_type": "code",
   "execution_count": 98,
   "metadata": {
    "scrolled": true
   },
   "outputs": [
    {
     "data": {
      "text/plain": [
       "array([[10502,    20],\n",
       "       [  616,   356]], dtype=int64)"
      ]
     },
     "execution_count": 98,
     "metadata": {},
     "output_type": "execute_result"
    }
   ],
   "source": [
    "confusion_matrix(y_test,y_bc)"
   ]
  },
  {
   "cell_type": "code",
   "execution_count": 99,
   "metadata": {},
   "outputs": [
    {
     "data": {
      "text/plain": [
       "0.5281899109792285"
      ]
     },
     "execution_count": 99,
     "metadata": {},
     "output_type": "execute_result"
    }
   ],
   "source": [
    "f1_score(y_test,y_bc)"
   ]
  },
  {
   "cell_type": "markdown",
   "metadata": {},
   "source": [
    "### Hyperparameter Tuning and Cross Validation"
   ]
  },
  {
   "cell_type": "markdown",
   "metadata": {},
   "source": [
    "Tunings of all my models were performed iteratively, that is, I adjusted the values of parameters after each tuning until I got the best parameter set. I used a maximum of four(4) values per parameter to save computational time, and n_jobs was set to -1 to use all my cpu cores for time saving too. "
   ]
  },
  {
   "cell_type": "markdown",
   "metadata": {},
   "source": [
    "For gradient boosting model"
   ]
  },
  {
   "cell_type": "code",
   "execution_count": 195,
   "metadata": {},
   "outputs": [],
   "source": [
    "from sklearn.model_selection import GridSearchCV\n",
    "from sklearn.model_selection import KFold, StratifiedKFold\n",
    "para={'learning_rate':[0.15],\n",
    "    'n_estimators':[271,273]\n",
    "     }\n",
    "kfold = StratifiedKFold(n_splits=10, shuffle=True, random_state=7)\n",
    "grid_gb=GridSearchCV(gb,param_grid=para,scoring='f1',cv=kfold,n_jobs=-1)"
   ]
  },
  {
   "cell_type": "code",
   "execution_count": 196,
   "metadata": {
    "scrolled": true
   },
   "outputs": [
    {
     "data": {
      "text/plain": [
       "GridSearchCV(cv=StratifiedKFold(n_splits=10, random_state=7, shuffle=True),\n",
       "       error_score='raise-deprecating',\n",
       "       estimator=GradientBoostingClassifier(criterion='friedman_mse', init=None,\n",
       "              learning_rate=0.15, loss='deviance', max_depth=3,\n",
       "              max_features=None, max_leaf_nodes=None,\n",
       "              min_impurity_decrease=0.0, min_impurity_split=None,\n",
       "              min_samples_leaf=1, min_samp...      subsample=1.0, tol=0.0001, validation_fraction=0.1,\n",
       "              verbose=0, warm_start=False),\n",
       "       fit_params=None, iid='warn', n_jobs=-1,\n",
       "       param_grid={'learning_rate': [0.15], 'n_estimators': [271, 273]},\n",
       "       pre_dispatch='2*n_jobs', refit=True, return_train_score='warn',\n",
       "       scoring='f1', verbose=0)"
      ]
     },
     "execution_count": 196,
     "metadata": {},
     "output_type": "execute_result"
    }
   ],
   "source": [
    "grid_gb.fit(X_train,y_train)"
   ]
  },
  {
   "cell_type": "code",
   "execution_count": 197,
   "metadata": {},
   "outputs": [
    {
     "data": {
      "text/plain": [
       "{'learning_rate': 0.15, 'n_estimators': 273}"
      ]
     },
     "execution_count": 197,
     "metadata": {},
     "output_type": "execute_result"
    }
   ],
   "source": [
    "grid_gb.best_params_"
   ]
  },
  {
   "cell_type": "code",
   "execution_count": 198,
   "metadata": {},
   "outputs": [
    {
     "data": {
      "text/plain": [
       "0.49443137997755815"
      ]
     },
     "execution_count": 198,
     "metadata": {},
     "output_type": "execute_result"
    }
   ],
   "source": [
    "grid_gb.best_score_"
   ]
  },
  {
   "cell_type": "code",
   "execution_count": 199,
   "metadata": {},
   "outputs": [
    {
     "name": "stdout",
     "output_type": "stream",
     "text": [
      "              precision    recall  f1-score   support\n",
      "\n",
      "           0       0.94      1.00      0.97     10522\n",
      "           1       0.95      0.36      0.53       972\n",
      "\n",
      "   micro avg       0.94      0.94      0.94     11494\n",
      "   macro avg       0.95      0.68      0.75     11494\n",
      "weighted avg       0.95      0.94      0.93     11494\n",
      "\n"
     ]
    }
   ],
   "source": [
    "y_grid_gb=grid_gb.predict(X_test)\n",
    "print(classification_report(y_test,y_grid_gb))"
   ]
  },
  {
   "cell_type": "code",
   "execution_count": 200,
   "metadata": {},
   "outputs": [
    {
     "data": {
      "text/plain": [
       "array([[10505,    17],\n",
       "       [  618,   354]], dtype=int64)"
      ]
     },
     "execution_count": 200,
     "metadata": {},
     "output_type": "execute_result"
    }
   ],
   "source": [
    "confusion_matrix(y_test,y_grid_gb)"
   ]
  },
  {
   "cell_type": "code",
   "execution_count": 201,
   "metadata": {},
   "outputs": [
    {
     "data": {
      "text/plain": [
       "0.5271779597915115"
      ]
     },
     "execution_count": 201,
     "metadata": {},
     "output_type": "execute_result"
    }
   ],
   "source": [
    "f1_score(y_test,y_grid_gb)"
   ]
  },
  {
   "cell_type": "markdown",
   "metadata": {},
   "source": [
    "Tuning for Xgboost model"
   ]
  },
  {
   "cell_type": "code",
   "execution_count": 128,
   "metadata": {},
   "outputs": [],
   "source": [
    "para={'learning_rate':[0.15],\n",
    "    'n_estimators':[318,320,322],\n",
    "    'subsample':[0.9]\n",
    "     }\n",
    "kfold = StratifiedKFold(n_splits=10, shuffle=True, random_state=7)\n",
    "grid_xgb=GridSearchCV(xgb,param_grid=para,scoring='f1_macro',cv=kfold,n_jobs=-1)"
   ]
  },
  {
   "cell_type": "code",
   "execution_count": 129,
   "metadata": {},
   "outputs": [
    {
     "data": {
      "text/plain": [
       "GridSearchCV(cv=StratifiedKFold(n_splits=10, random_state=7, shuffle=True),\n",
       "       error_score='raise-deprecating',\n",
       "       estimator=XGBClassifier(base_score=0.5, booster='gbtree', colsample_bylevel=1,\n",
       "       colsample_bynode=1, colsample_bytree=1, gamma=0, learning_rate=0.1,\n",
       "       max_delta_step=0, max_depth=3, min_child_weight=1, missing=None,\n",
       "       n_estimators=300, n_jobs=1, nthread=None,\n",
       "       objective='binary:logistic', random_state=0, reg_alpha=0,\n",
       "       reg_lambda=1, scale_pos_weight=1, seed=None, silent=None,\n",
       "       subsample=1, verbosity=1),\n",
       "       fit_params=None, iid='warn', n_jobs=-1,\n",
       "       param_grid={'learning_rate': [0.15], 'n_estimators': [318, 320, 322], 'subsample': [0.9]},\n",
       "       pre_dispatch='2*n_jobs', refit=True, return_train_score='warn',\n",
       "       scoring='f1_macro', verbose=0)"
      ]
     },
     "execution_count": 129,
     "metadata": {},
     "output_type": "execute_result"
    }
   ],
   "source": [
    "grid_xgb.fit(X_train,y_train)"
   ]
  },
  {
   "cell_type": "code",
   "execution_count": 130,
   "metadata": {},
   "outputs": [
    {
     "data": {
      "text/plain": [
       "{'learning_rate': 0.15, 'n_estimators': 320, 'subsample': 0.9}"
      ]
     },
     "execution_count": 130,
     "metadata": {},
     "output_type": "execute_result"
    }
   ],
   "source": [
    "grid_xgb.best_params_"
   ]
  },
  {
   "cell_type": "code",
   "execution_count": 131,
   "metadata": {},
   "outputs": [
    {
     "data": {
      "text/plain": [
       "0.7304017789651106"
      ]
     },
     "execution_count": 131,
     "metadata": {},
     "output_type": "execute_result"
    }
   ],
   "source": [
    "grid_xgb.best_score_"
   ]
  },
  {
   "cell_type": "code",
   "execution_count": 132,
   "metadata": {},
   "outputs": [
    {
     "name": "stdout",
     "output_type": "stream",
     "text": [
      "              precision    recall  f1-score   support\n",
      "\n",
      "           0       0.94      1.00      0.97     10522\n",
      "           1       0.95      0.36      0.53       972\n",
      "\n",
      "   micro avg       0.94      0.94      0.94     11494\n",
      "   macro avg       0.95      0.68      0.75     11494\n",
      "weighted avg       0.94      0.94      0.93     11494\n",
      "\n"
     ]
    }
   ],
   "source": [
    "y_grid_xgb=grid_xgb.predict(X_test)\n",
    "print(classification_report(y_test,y_grid_xgb))"
   ]
  },
  {
   "cell_type": "code",
   "execution_count": 133,
   "metadata": {
    "scrolled": false
   },
   "outputs": [
    {
     "data": {
      "text/plain": [
       "array([[10502,    20],\n",
       "       [  618,   354]], dtype=int64)"
      ]
     },
     "execution_count": 133,
     "metadata": {},
     "output_type": "execute_result"
    }
   ],
   "source": [
    "confusion_matrix(y_test,y_grid_xgb)"
   ]
  },
  {
   "cell_type": "code",
   "execution_count": 134,
   "metadata": {},
   "outputs": [
    {
     "data": {
      "text/plain": [
       "0.5260029717682021"
      ]
     },
     "execution_count": 134,
     "metadata": {},
     "output_type": "execute_result"
    }
   ],
   "source": [
    "f1_score(y_test,y_grid_xgb)"
   ]
  },
  {
   "cell_type": "markdown",
   "metadata": {},
   "source": [
    "Tuning for Random Forest model"
   ]
  },
  {
   "cell_type": "code",
   "execution_count": 153,
   "metadata": {},
   "outputs": [],
   "source": [
    "para={'n_estimators':[315,320,330],\n",
    "    'min_samples_leaf':[1],\n",
    "    'max_features':[1]\n",
    "     }\n",
    "kfold = StratifiedKFold(n_splits=10, shuffle=True, random_state=7)\n",
    "grid_rf=GridSearchCV(rf,param_grid=para,scoring='recall',cv=kfold,n_jobs=-1)"
   ]
  },
  {
   "cell_type": "code",
   "execution_count": 154,
   "metadata": {},
   "outputs": [
    {
     "data": {
      "text/plain": [
       "GridSearchCV(cv=StratifiedKFold(n_splits=10, random_state=7, shuffle=True),\n",
       "       error_score='raise-deprecating',\n",
       "       estimator=RandomForestClassifier(bootstrap=True, class_weight=None, criterion='gini',\n",
       "            max_depth=None, max_features=0.5, max_leaf_nodes=None,\n",
       "            min_impurity_decrease=0.0, min_impurity_split=None,\n",
       "            min_samples_leaf=3, min_samples_split=2,\n",
       "            min_weight_fraction_leaf=0.0, n_estimators=30, n_jobs=None,\n",
       "            oob_score=False, random_state=None, verbose=0,\n",
       "            warm_start=False),\n",
       "       fit_params=None, iid='warn', n_jobs=-1,\n",
       "       param_grid={'n_estimators': [315, 320, 330], 'min_samples_leaf': [1], 'max_features': [1]},\n",
       "       pre_dispatch='2*n_jobs', refit=True, return_train_score='warn',\n",
       "       scoring='recall', verbose=0)"
      ]
     },
     "execution_count": 154,
     "metadata": {},
     "output_type": "execute_result"
    }
   ],
   "source": [
    "grid_rf.fit(X_train,y_train)"
   ]
  },
  {
   "cell_type": "code",
   "execution_count": 155,
   "metadata": {},
   "outputs": [
    {
     "data": {
      "text/plain": [
       "{'max_features': 1, 'min_samples_leaf': 1, 'n_estimators': 320}"
      ]
     },
     "execution_count": 155,
     "metadata": {},
     "output_type": "execute_result"
    }
   ],
   "source": [
    "grid_rf.best_params_"
   ]
  },
  {
   "cell_type": "code",
   "execution_count": 156,
   "metadata": {},
   "outputs": [
    {
     "data": {
      "text/plain": [
       "0.3635895405499252"
      ]
     },
     "execution_count": 156,
     "metadata": {},
     "output_type": "execute_result"
    }
   ],
   "source": [
    "grid_rf.best_score_"
   ]
  },
  {
   "cell_type": "code",
   "execution_count": 157,
   "metadata": {},
   "outputs": [
    {
     "name": "stdout",
     "output_type": "stream",
     "text": [
      "              precision    recall  f1-score   support\n",
      "\n",
      "           0       0.95      0.98      0.96     10522\n",
      "           1       0.69      0.39      0.50       972\n",
      "\n",
      "   micro avg       0.93      0.93      0.93     11494\n",
      "   macro avg       0.82      0.69      0.73     11494\n",
      "weighted avg       0.92      0.93      0.92     11494\n",
      "\n"
     ]
    }
   ],
   "source": [
    "y_grid_rf=grid_rf.predict(X_test)\n",
    "print(classification_report(y_test,y_grid_rf))"
   ]
  },
  {
   "cell_type": "code",
   "execution_count": 158,
   "metadata": {},
   "outputs": [
    {
     "data": {
      "text/plain": [
       "array([[10351,   171],\n",
       "       [  594,   378]], dtype=int64)"
      ]
     },
     "execution_count": 158,
     "metadata": {},
     "output_type": "execute_result"
    }
   ],
   "source": [
    "confusion_matrix(y_test,y_grid_rf)"
   ]
  },
  {
   "cell_type": "markdown",
   "metadata": {},
   "source": [
    "Tuning for Adaboost"
   ]
  },
  {
   "cell_type": "code",
   "execution_count": 171,
   "metadata": {},
   "outputs": [],
   "source": [
    "para={\n",
    "    'learning_rate':[0.15],\n",
    "    'n_estimators':[255,260,265]\n",
    "     }\n",
    "kfold = StratifiedKFold(n_splits=10, shuffle=True, random_state=7)\n",
    "ada=AdaBoostClassifier(base_estimator=DecisionTreeClassifier(max_depth=3,max_features=0.5,random_state=7))\n",
    "grid_ada=GridSearchCV(ada,param_grid=para,scoring='f1_micro',cv=kfold,n_jobs=-1)"
   ]
  },
  {
   "cell_type": "code",
   "execution_count": 172,
   "metadata": {},
   "outputs": [
    {
     "data": {
      "text/plain": [
       "GridSearchCV(cv=StratifiedKFold(n_splits=10, random_state=7, shuffle=True),\n",
       "       error_score='raise-deprecating',\n",
       "       estimator=AdaBoostClassifier(algorithm='SAMME.R',\n",
       "          base_estimator=DecisionTreeClassifier(class_weight=None, criterion='gini', max_depth=3,\n",
       "            max_features=0.5, max_leaf_nodes=None,\n",
       "            min_impurity_decrease=0.0, min_impurity_split=None,\n",
       "            min_samples_leaf=1, min_samples_split=2,\n",
       "            min_weight_fraction_leaf=0.0, presort=False, random_state=7,\n",
       "            splitter='best'),\n",
       "          learning_rate=1.0, n_estimators=50, random_state=None),\n",
       "       fit_params=None, iid='warn', n_jobs=-1,\n",
       "       param_grid={'learning_rate': [0.15], 'n_estimators': [255, 260, 265]},\n",
       "       pre_dispatch='2*n_jobs', refit=True, return_train_score='warn',\n",
       "       scoring='f1_micro', verbose=0)"
      ]
     },
     "execution_count": 172,
     "metadata": {},
     "output_type": "execute_result"
    }
   ],
   "source": [
    "grid_ada.fit(X_train,y_train)"
   ]
  },
  {
   "cell_type": "code",
   "execution_count": 173,
   "metadata": {},
   "outputs": [
    {
     "data": {
      "text/plain": [
       "{'learning_rate': 0.15, 'n_estimators': 260}"
      ]
     },
     "execution_count": 173,
     "metadata": {},
     "output_type": "execute_result"
    }
   ],
   "source": [
    "grid_ada.best_params_"
   ]
  },
  {
   "cell_type": "code",
   "execution_count": 174,
   "metadata": {},
   "outputs": [
    {
     "data": {
      "text/plain": [
       "0.9414199418301141"
      ]
     },
     "execution_count": 174,
     "metadata": {},
     "output_type": "execute_result"
    }
   ],
   "source": [
    "grid_ada.best_score_"
   ]
  },
  {
   "cell_type": "code",
   "execution_count": 175,
   "metadata": {},
   "outputs": [
    {
     "name": "stdout",
     "output_type": "stream",
     "text": [
      "              precision    recall  f1-score   support\n",
      "\n",
      "           0       0.94      1.00      0.97     10522\n",
      "           1       0.93      0.37      0.52       972\n",
      "\n",
      "   micro avg       0.94      0.94      0.94     11494\n",
      "   macro avg       0.94      0.68      0.75     11494\n",
      "weighted avg       0.94      0.94      0.93     11494\n",
      "\n"
     ]
    }
   ],
   "source": [
    "y_grid_ada=grid_ada.predict(X_test)\n",
    "print(classification_report(y_test,y_grid_ada))"
   ]
  },
  {
   "cell_type": "code",
   "execution_count": 176,
   "metadata": {},
   "outputs": [
    {
     "data": {
      "text/plain": [
       "array([[10496,    26],\n",
       "       [  617,   355]], dtype=int64)"
      ]
     },
     "execution_count": 176,
     "metadata": {},
     "output_type": "execute_result"
    }
   ],
   "source": [
    "confusion_matrix(y_test,y_grid_ada)"
   ]
  },
  {
   "cell_type": "markdown",
   "metadata": {},
   "source": [
    "#### Models combination (Ensemble)"
   ]
  },
  {
   "cell_type": "code",
   "execution_count": 202,
   "metadata": {},
   "outputs": [
    {
     "name": "stdout",
     "output_type": "stream",
     "text": [
      "              precision    recall  f1-score   support\n",
      "\n",
      "           0       0.94      1.00      0.97     10522\n",
      "           1       0.93      0.37      0.53       972\n",
      "\n",
      "   micro avg       0.94      0.94      0.94     11494\n",
      "   macro avg       0.94      0.68      0.75     11494\n",
      "weighted avg       0.94      0.94      0.93     11494\n",
      "\n"
     ]
    }
   ],
   "source": [
    "from sklearn.ensemble import VotingClassifier\n",
    "vc = VotingClassifier(estimators=[('svc', svc),('gb',grid_gb)],voting='soft',n_jobs=-1)\n",
    "\n",
    "vc.fit(X_train, y_train)\n",
    "\n",
    "y_vc=vc.predict(X_test)\n",
    "print(classification_report(y_test,y_vc))"
   ]
  },
  {
   "cell_type": "code",
   "execution_count": 203,
   "metadata": {},
   "outputs": [
    {
     "data": {
      "text/plain": [
       "array([[10497,   613],\n",
       "       [   25,   359]], dtype=int64)"
      ]
     },
     "execution_count": 203,
     "metadata": {},
     "output_type": "execute_result"
    }
   ],
   "source": [
    "confusion_matrix(y_vc,y_test)"
   ]
  },
  {
   "cell_type": "code",
   "execution_count": 204,
   "metadata": {},
   "outputs": [
    {
     "data": {
      "text/plain": [
       "0.5294985250737464"
      ]
     },
     "execution_count": 204,
     "metadata": {},
     "output_type": "execute_result"
    }
   ],
   "source": [
    "f1_score(y_vc,y_test)"
   ]
  },
  {
   "cell_type": "markdown",
   "metadata": {},
   "source": [
    "Checking the misclassified not promoted class"
   ]
  },
  {
   "cell_type": "code",
   "execution_count": 205,
   "metadata": {
    "scrolled": false
   },
   "outputs": [
    {
     "data": {
      "text/html": [
       "<div>\n",
       "<style scoped>\n",
       "    .dataframe tbody tr th:only-of-type {\n",
       "        vertical-align: middle;\n",
       "    }\n",
       "\n",
       "    .dataframe tbody tr th {\n",
       "        vertical-align: top;\n",
       "    }\n",
       "\n",
       "    .dataframe thead th {\n",
       "        text-align: right;\n",
       "    }\n",
       "</style>\n",
       "<table border=\"1\" class=\"dataframe\">\n",
       "  <thead>\n",
       "    <tr style=\"text-align: right;\">\n",
       "      <th></th>\n",
       "      <th>Promoted_or_Not</th>\n",
       "      <th>Predicted</th>\n",
       "    </tr>\n",
       "  </thead>\n",
       "  <tbody>\n",
       "    <tr>\n",
       "      <th>898</th>\n",
       "      <td>0</td>\n",
       "      <td>1</td>\n",
       "    </tr>\n",
       "    <tr>\n",
       "      <th>9377</th>\n",
       "      <td>0</td>\n",
       "      <td>1</td>\n",
       "    </tr>\n",
       "    <tr>\n",
       "      <th>5906</th>\n",
       "      <td>0</td>\n",
       "      <td>1</td>\n",
       "    </tr>\n",
       "    <tr>\n",
       "      <th>9824</th>\n",
       "      <td>0</td>\n",
       "      <td>1</td>\n",
       "    </tr>\n",
       "    <tr>\n",
       "      <th>8411</th>\n",
       "      <td>0</td>\n",
       "      <td>1</td>\n",
       "    </tr>\n",
       "    <tr>\n",
       "      <th>7810</th>\n",
       "      <td>0</td>\n",
       "      <td>1</td>\n",
       "    </tr>\n",
       "    <tr>\n",
       "      <th>6551</th>\n",
       "      <td>0</td>\n",
       "      <td>1</td>\n",
       "    </tr>\n",
       "    <tr>\n",
       "      <th>10645</th>\n",
       "      <td>0</td>\n",
       "      <td>1</td>\n",
       "    </tr>\n",
       "    <tr>\n",
       "      <th>7250</th>\n",
       "      <td>0</td>\n",
       "      <td>1</td>\n",
       "    </tr>\n",
       "    <tr>\n",
       "      <th>8340</th>\n",
       "      <td>0</td>\n",
       "      <td>1</td>\n",
       "    </tr>\n",
       "    <tr>\n",
       "      <th>657</th>\n",
       "      <td>0</td>\n",
       "      <td>1</td>\n",
       "    </tr>\n",
       "    <tr>\n",
       "      <th>5894</th>\n",
       "      <td>0</td>\n",
       "      <td>1</td>\n",
       "    </tr>\n",
       "    <tr>\n",
       "      <th>4182</th>\n",
       "      <td>0</td>\n",
       "      <td>1</td>\n",
       "    </tr>\n",
       "    <tr>\n",
       "      <th>3959</th>\n",
       "      <td>0</td>\n",
       "      <td>1</td>\n",
       "    </tr>\n",
       "    <tr>\n",
       "      <th>5120</th>\n",
       "      <td>0</td>\n",
       "      <td>1</td>\n",
       "    </tr>\n",
       "    <tr>\n",
       "      <th>6485</th>\n",
       "      <td>0</td>\n",
       "      <td>1</td>\n",
       "    </tr>\n",
       "    <tr>\n",
       "      <th>5647</th>\n",
       "      <td>0</td>\n",
       "      <td>1</td>\n",
       "    </tr>\n",
       "    <tr>\n",
       "      <th>10621</th>\n",
       "      <td>0</td>\n",
       "      <td>1</td>\n",
       "    </tr>\n",
       "    <tr>\n",
       "      <th>9384</th>\n",
       "      <td>0</td>\n",
       "      <td>1</td>\n",
       "    </tr>\n",
       "    <tr>\n",
       "      <th>6358</th>\n",
       "      <td>0</td>\n",
       "      <td>1</td>\n",
       "    </tr>\n",
       "    <tr>\n",
       "      <th>2157</th>\n",
       "      <td>0</td>\n",
       "      <td>1</td>\n",
       "    </tr>\n",
       "    <tr>\n",
       "      <th>4805</th>\n",
       "      <td>0</td>\n",
       "      <td>1</td>\n",
       "    </tr>\n",
       "    <tr>\n",
       "      <th>6115</th>\n",
       "      <td>0</td>\n",
       "      <td>1</td>\n",
       "    </tr>\n",
       "    <tr>\n",
       "      <th>10518</th>\n",
       "      <td>0</td>\n",
       "      <td>1</td>\n",
       "    </tr>\n",
       "    <tr>\n",
       "      <th>765</th>\n",
       "      <td>0</td>\n",
       "      <td>1</td>\n",
       "    </tr>\n",
       "    <tr>\n",
       "      <th>4187</th>\n",
       "      <td>0</td>\n",
       "      <td>1</td>\n",
       "    </tr>\n",
       "    <tr>\n",
       "      <th>2906</th>\n",
       "      <td>0</td>\n",
       "      <td>1</td>\n",
       "    </tr>\n",
       "    <tr>\n",
       "      <th>11275</th>\n",
       "      <td>0</td>\n",
       "      <td>1</td>\n",
       "    </tr>\n",
       "    <tr>\n",
       "      <th>10491</th>\n",
       "      <td>0</td>\n",
       "      <td>1</td>\n",
       "    </tr>\n",
       "    <tr>\n",
       "      <th>1103</th>\n",
       "      <td>0</td>\n",
       "      <td>1</td>\n",
       "    </tr>\n",
       "    <tr>\n",
       "      <th>...</th>\n",
       "      <td>...</td>\n",
       "      <td>...</td>\n",
       "    </tr>\n",
       "    <tr>\n",
       "      <th>1410</th>\n",
       "      <td>0</td>\n",
       "      <td>1</td>\n",
       "    </tr>\n",
       "    <tr>\n",
       "      <th>5058</th>\n",
       "      <td>0</td>\n",
       "      <td>1</td>\n",
       "    </tr>\n",
       "    <tr>\n",
       "      <th>4800</th>\n",
       "      <td>0</td>\n",
       "      <td>1</td>\n",
       "    </tr>\n",
       "    <tr>\n",
       "      <th>1526</th>\n",
       "      <td>0</td>\n",
       "      <td>1</td>\n",
       "    </tr>\n",
       "    <tr>\n",
       "      <th>4222</th>\n",
       "      <td>0</td>\n",
       "      <td>1</td>\n",
       "    </tr>\n",
       "    <tr>\n",
       "      <th>1606</th>\n",
       "      <td>0</td>\n",
       "      <td>1</td>\n",
       "    </tr>\n",
       "    <tr>\n",
       "      <th>3390</th>\n",
       "      <td>0</td>\n",
       "      <td>1</td>\n",
       "    </tr>\n",
       "    <tr>\n",
       "      <th>9916</th>\n",
       "      <td>0</td>\n",
       "      <td>1</td>\n",
       "    </tr>\n",
       "    <tr>\n",
       "      <th>5135</th>\n",
       "      <td>0</td>\n",
       "      <td>1</td>\n",
       "    </tr>\n",
       "    <tr>\n",
       "      <th>6786</th>\n",
       "      <td>0</td>\n",
       "      <td>1</td>\n",
       "    </tr>\n",
       "    <tr>\n",
       "      <th>10627</th>\n",
       "      <td>0</td>\n",
       "      <td>1</td>\n",
       "    </tr>\n",
       "    <tr>\n",
       "      <th>177</th>\n",
       "      <td>0</td>\n",
       "      <td>1</td>\n",
       "    </tr>\n",
       "    <tr>\n",
       "      <th>4777</th>\n",
       "      <td>0</td>\n",
       "      <td>1</td>\n",
       "    </tr>\n",
       "    <tr>\n",
       "      <th>4865</th>\n",
       "      <td>0</td>\n",
       "      <td>1</td>\n",
       "    </tr>\n",
       "    <tr>\n",
       "      <th>3035</th>\n",
       "      <td>0</td>\n",
       "      <td>1</td>\n",
       "    </tr>\n",
       "    <tr>\n",
       "      <th>2524</th>\n",
       "      <td>0</td>\n",
       "      <td>1</td>\n",
       "    </tr>\n",
       "    <tr>\n",
       "      <th>10722</th>\n",
       "      <td>0</td>\n",
       "      <td>1</td>\n",
       "    </tr>\n",
       "    <tr>\n",
       "      <th>1600</th>\n",
       "      <td>0</td>\n",
       "      <td>1</td>\n",
       "    </tr>\n",
       "    <tr>\n",
       "      <th>5126</th>\n",
       "      <td>0</td>\n",
       "      <td>1</td>\n",
       "    </tr>\n",
       "    <tr>\n",
       "      <th>1888</th>\n",
       "      <td>0</td>\n",
       "      <td>1</td>\n",
       "    </tr>\n",
       "    <tr>\n",
       "      <th>2251</th>\n",
       "      <td>0</td>\n",
       "      <td>1</td>\n",
       "    </tr>\n",
       "    <tr>\n",
       "      <th>4084</th>\n",
       "      <td>0</td>\n",
       "      <td>1</td>\n",
       "    </tr>\n",
       "    <tr>\n",
       "      <th>3702</th>\n",
       "      <td>0</td>\n",
       "      <td>1</td>\n",
       "    </tr>\n",
       "    <tr>\n",
       "      <th>11023</th>\n",
       "      <td>0</td>\n",
       "      <td>1</td>\n",
       "    </tr>\n",
       "    <tr>\n",
       "      <th>459</th>\n",
       "      <td>0</td>\n",
       "      <td>1</td>\n",
       "    </tr>\n",
       "    <tr>\n",
       "      <th>9221</th>\n",
       "      <td>0</td>\n",
       "      <td>1</td>\n",
       "    </tr>\n",
       "    <tr>\n",
       "      <th>3358</th>\n",
       "      <td>0</td>\n",
       "      <td>1</td>\n",
       "    </tr>\n",
       "    <tr>\n",
       "      <th>10684</th>\n",
       "      <td>0</td>\n",
       "      <td>1</td>\n",
       "    </tr>\n",
       "    <tr>\n",
       "      <th>10256</th>\n",
       "      <td>0</td>\n",
       "      <td>1</td>\n",
       "    </tr>\n",
       "    <tr>\n",
       "      <th>3946</th>\n",
       "      <td>0</td>\n",
       "      <td>1</td>\n",
       "    </tr>\n",
       "  </tbody>\n",
       "</table>\n",
       "<p>105 rows × 2 columns</p>\n",
       "</div>"
      ],
      "text/plain": [
       "       Promoted_or_Not  Predicted\n",
       "898                  0          1\n",
       "9377                 0          1\n",
       "5906                 0          1\n",
       "9824                 0          1\n",
       "8411                 0          1\n",
       "7810                 0          1\n",
       "6551                 0          1\n",
       "10645                0          1\n",
       "7250                 0          1\n",
       "8340                 0          1\n",
       "657                  0          1\n",
       "5894                 0          1\n",
       "4182                 0          1\n",
       "3959                 0          1\n",
       "5120                 0          1\n",
       "6485                 0          1\n",
       "5647                 0          1\n",
       "10621                0          1\n",
       "9384                 0          1\n",
       "6358                 0          1\n",
       "2157                 0          1\n",
       "4805                 0          1\n",
       "6115                 0          1\n",
       "10518                0          1\n",
       "765                  0          1\n",
       "4187                 0          1\n",
       "2906                 0          1\n",
       "11275                0          1\n",
       "10491                0          1\n",
       "1103                 0          1\n",
       "...                ...        ...\n",
       "1410                 0          1\n",
       "5058                 0          1\n",
       "4800                 0          1\n",
       "1526                 0          1\n",
       "4222                 0          1\n",
       "1606                 0          1\n",
       "3390                 0          1\n",
       "9916                 0          1\n",
       "5135                 0          1\n",
       "6786                 0          1\n",
       "10627                0          1\n",
       "177                  0          1\n",
       "4777                 0          1\n",
       "4865                 0          1\n",
       "3035                 0          1\n",
       "2524                 0          1\n",
       "10722                0          1\n",
       "1600                 0          1\n",
       "5126                 0          1\n",
       "1888                 0          1\n",
       "2251                 0          1\n",
       "4084                 0          1\n",
       "3702                 0          1\n",
       "11023                0          1\n",
       "459                  0          1\n",
       "9221                 0          1\n",
       "3358                 0          1\n",
       "10684                0          1\n",
       "10256                0          1\n",
       "3946                 0          1\n",
       "\n",
       "[105 rows x 2 columns]"
      ]
     },
     "execution_count": 205,
     "metadata": {},
     "output_type": "execute_result"
    }
   ],
   "source": [
    "y_t=pd.DataFrame(y_test)\n",
    "y_v=pd.DataFrame(y_vc,columns=['Predicted'])\n",
    "\n",
    "y_s=pd.concat([y_t,y_v],axis=1,join='inner')\n",
    "y_s[(y_s.Promoted_or_Not==0) & (y_s.Predicted==1)]"
   ]
  },
  {
   "cell_type": "markdown",
   "metadata": {},
   "source": [
    "### Test Dataset Prediction"
   ]
  },
  {
   "cell_type": "markdown",
   "metadata": {},
   "source": [
    "I have some models now,but I will use the vc model for prediction as it gives the best result. I will first need to drop the target column and convert the datatype of the test dataset to integer"
   ]
  },
  {
   "cell_type": "code",
   "execution_count": 206,
   "metadata": {},
   "outputs": [
    {
     "data": {
      "text/html": [
       "<div>\n",
       "<style scoped>\n",
       "    .dataframe tbody tr th:only-of-type {\n",
       "        vertical-align: middle;\n",
       "    }\n",
       "\n",
       "    .dataframe tbody tr th {\n",
       "        vertical-align: top;\n",
       "    }\n",
       "\n",
       "    .dataframe thead th {\n",
       "        text-align: right;\n",
       "    }\n",
       "</style>\n",
       "<table border=\"1\" class=\"dataframe\">\n",
       "  <thead>\n",
       "    <tr style=\"text-align: right;\">\n",
       "      <th></th>\n",
       "      <th>Last_performance_score</th>\n",
       "      <th>Previous_Award</th>\n",
       "      <th>Targets_met</th>\n",
       "      <th>Training_score_average</th>\n",
       "      <th>Trainings_Attended</th>\n",
       "      <th>Year_of_birth</th>\n",
       "      <th>Year_of_recruitment</th>\n",
       "      <th>Division_Business Finance Operations</th>\n",
       "      <th>Division_Commercial Sales and Marketing</th>\n",
       "      <th>Division_Customer Support and Field Operations</th>\n",
       "      <th>Division_Information Technology and Solution Support</th>\n",
       "      <th>Division_Information and Strategy</th>\n",
       "      <th>Division_People/HR Management</th>\n",
       "      <th>Division_Regulatory and Legal services</th>\n",
       "      <th>Division_Research and Innovation</th>\n",
       "      <th>Division_Sourcing and Purchasing</th>\n",
       "      <th>combo</th>\n",
       "    </tr>\n",
       "  </thead>\n",
       "  <tbody>\n",
       "    <tr>\n",
       "      <th>38312</th>\n",
       "      <td>7</td>\n",
       "      <td>0</td>\n",
       "      <td>0</td>\n",
       "      <td>65</td>\n",
       "      <td>2</td>\n",
       "      <td>4</td>\n",
       "      <td>6</td>\n",
       "      <td>0</td>\n",
       "      <td>0</td>\n",
       "      <td>0</td>\n",
       "      <td>1</td>\n",
       "      <td>0</td>\n",
       "      <td>0</td>\n",
       "      <td>0</td>\n",
       "      <td>0</td>\n",
       "      <td>0</td>\n",
       "      <td>1</td>\n",
       "    </tr>\n",
       "    <tr>\n",
       "      <th>38313</th>\n",
       "      <td>0</td>\n",
       "      <td>0</td>\n",
       "      <td>0</td>\n",
       "      <td>69</td>\n",
       "      <td>2</td>\n",
       "      <td>7</td>\n",
       "      <td>6</td>\n",
       "      <td>0</td>\n",
       "      <td>0</td>\n",
       "      <td>0</td>\n",
       "      <td>1</td>\n",
       "      <td>0</td>\n",
       "      <td>0</td>\n",
       "      <td>0</td>\n",
       "      <td>0</td>\n",
       "      <td>0</td>\n",
       "      <td>1</td>\n",
       "    </tr>\n",
       "    <tr>\n",
       "      <th>38314</th>\n",
       "      <td>7</td>\n",
       "      <td>0</td>\n",
       "      <td>0</td>\n",
       "      <td>76</td>\n",
       "      <td>2</td>\n",
       "      <td>5</td>\n",
       "      <td>5</td>\n",
       "      <td>0</td>\n",
       "      <td>0</td>\n",
       "      <td>0</td>\n",
       "      <td>0</td>\n",
       "      <td>0</td>\n",
       "      <td>0</td>\n",
       "      <td>0</td>\n",
       "      <td>1</td>\n",
       "      <td>0</td>\n",
       "      <td>1</td>\n",
       "    </tr>\n",
       "    <tr>\n",
       "      <th>38315</th>\n",
       "      <td>2</td>\n",
       "      <td>0</td>\n",
       "      <td>0</td>\n",
       "      <td>52</td>\n",
       "      <td>2</td>\n",
       "      <td>5</td>\n",
       "      <td>4</td>\n",
       "      <td>0</td>\n",
       "      <td>0</td>\n",
       "      <td>1</td>\n",
       "      <td>0</td>\n",
       "      <td>0</td>\n",
       "      <td>0</td>\n",
       "      <td>0</td>\n",
       "      <td>0</td>\n",
       "      <td>0</td>\n",
       "      <td>0</td>\n",
       "    </tr>\n",
       "    <tr>\n",
       "      <th>38316</th>\n",
       "      <td>7</td>\n",
       "      <td>0</td>\n",
       "      <td>1</td>\n",
       "      <td>69</td>\n",
       "      <td>2</td>\n",
       "      <td>5</td>\n",
       "      <td>5</td>\n",
       "      <td>0</td>\n",
       "      <td>0</td>\n",
       "      <td>0</td>\n",
       "      <td>1</td>\n",
       "      <td>0</td>\n",
       "      <td>0</td>\n",
       "      <td>0</td>\n",
       "      <td>0</td>\n",
       "      <td>0</td>\n",
       "      <td>1</td>\n",
       "    </tr>\n",
       "  </tbody>\n",
       "</table>\n",
       "</div>"
      ],
      "text/plain": [
       "       Last_performance_score  Previous_Award  Targets_met  \\\n",
       "38312                       7               0            0   \n",
       "38313                       0               0            0   \n",
       "38314                       7               0            0   \n",
       "38315                       2               0            0   \n",
       "38316                       7               0            1   \n",
       "\n",
       "       Training_score_average  Trainings_Attended  Year_of_birth  \\\n",
       "38312                      65                   2              4   \n",
       "38313                      69                   2              7   \n",
       "38314                      76                   2              5   \n",
       "38315                      52                   2              5   \n",
       "38316                      69                   2              5   \n",
       "\n",
       "       Year_of_recruitment  Division_Business Finance Operations  \\\n",
       "38312                    6                                     0   \n",
       "38313                    6                                     0   \n",
       "38314                    5                                     0   \n",
       "38315                    4                                     0   \n",
       "38316                    5                                     0   \n",
       "\n",
       "       Division_Commercial Sales and Marketing  \\\n",
       "38312                                        0   \n",
       "38313                                        0   \n",
       "38314                                        0   \n",
       "38315                                        0   \n",
       "38316                                        0   \n",
       "\n",
       "       Division_Customer Support and Field Operations  \\\n",
       "38312                                               0   \n",
       "38313                                               0   \n",
       "38314                                               0   \n",
       "38315                                               1   \n",
       "38316                                               0   \n",
       "\n",
       "       Division_Information Technology and Solution Support  \\\n",
       "38312                                                  1      \n",
       "38313                                                  1      \n",
       "38314                                                  0      \n",
       "38315                                                  0      \n",
       "38316                                                  1      \n",
       "\n",
       "       Division_Information and Strategy  Division_People/HR Management  \\\n",
       "38312                                  0                              0   \n",
       "38313                                  0                              0   \n",
       "38314                                  0                              0   \n",
       "38315                                  0                              0   \n",
       "38316                                  0                              0   \n",
       "\n",
       "       Division_Regulatory and Legal services  \\\n",
       "38312                                       0   \n",
       "38313                                       0   \n",
       "38314                                       0   \n",
       "38315                                       0   \n",
       "38316                                       0   \n",
       "\n",
       "       Division_Research and Innovation  Division_Sourcing and Purchasing  \\\n",
       "38312                                 0                                 0   \n",
       "38313                                 0                                 0   \n",
       "38314                                 1                                 0   \n",
       "38315                                 0                                 0   \n",
       "38316                                 0                                 0   \n",
       "\n",
       "       combo  \n",
       "38312      1  \n",
       "38313      1  \n",
       "38314      1  \n",
       "38315      0  \n",
       "38316      1  "
      ]
     },
     "execution_count": 206,
     "metadata": {},
     "output_type": "execute_result"
    }
   ],
   "source": [
    "test=test.drop('Promoted_or_Not',axis=1)\n",
    "test=test.astype(int)\n",
    "test.head()"
   ]
  },
  {
   "cell_type": "code",
   "execution_count": 207,
   "metadata": {},
   "outputs": [],
   "source": [
    "#test=pca.transform(test)"
   ]
  },
  {
   "cell_type": "markdown",
   "metadata": {},
   "source": [
    "Applying the same preprocessing on the test dataset"
   ]
  },
  {
   "cell_type": "code",
   "execution_count": 208,
   "metadata": {},
   "outputs": [],
   "source": [
    "test[['Last_performance_score','Training_score_average','Year_of_birth','Year_of_recruitment']]=std.transform(test[['Last_performance_score','Training_score_average','Year_of_birth','Year_of_recruitment']])"
   ]
  },
  {
   "cell_type": "markdown",
   "metadata": {},
   "source": [
    "Dropping the necessary columns as in the train dataset"
   ]
  },
  {
   "cell_type": "code",
   "execution_count": 209,
   "metadata": {},
   "outputs": [],
   "source": [
    "test=test.drop(['combo','Trainings_Attended'],axis=1)"
   ]
  },
  {
   "cell_type": "markdown",
   "metadata": {},
   "source": [
    "Now to the predictions"
   ]
  },
  {
   "cell_type": "code",
   "execution_count": 210,
   "metadata": {},
   "outputs": [],
   "source": [
    "prediction=vc.predict(test)"
   ]
  },
  {
   "cell_type": "code",
   "execution_count": 211,
   "metadata": {},
   "outputs": [],
   "source": [
    "t=pd.read_csv('test.csv')"
   ]
  },
  {
   "cell_type": "markdown",
   "metadata": {},
   "source": [
    "Creating the submission dataframe"
   ]
  },
  {
   "cell_type": "code",
   "execution_count": 212,
   "metadata": {},
   "outputs": [],
   "source": [
    "submission=pd.DataFrame({'EmployeeNo':t['EmployeeNo'],'Promoted_or_Not':prediction})"
   ]
  },
  {
   "cell_type": "code",
   "execution_count": 213,
   "metadata": {
    "scrolled": true
   },
   "outputs": [
    {
     "data": {
      "text/html": [
       "<div>\n",
       "<style scoped>\n",
       "    .dataframe tbody tr th:only-of-type {\n",
       "        vertical-align: middle;\n",
       "    }\n",
       "\n",
       "    .dataframe tbody tr th {\n",
       "        vertical-align: top;\n",
       "    }\n",
       "\n",
       "    .dataframe thead th {\n",
       "        text-align: right;\n",
       "    }\n",
       "</style>\n",
       "<table border=\"1\" class=\"dataframe\">\n",
       "  <thead>\n",
       "    <tr style=\"text-align: right;\">\n",
       "      <th></th>\n",
       "      <th>EmployeeNo</th>\n",
       "      <th>Promoted_or_Not</th>\n",
       "    </tr>\n",
       "  </thead>\n",
       "  <tbody>\n",
       "    <tr>\n",
       "      <th>0</th>\n",
       "      <td>YAK/S/00005</td>\n",
       "      <td>0</td>\n",
       "    </tr>\n",
       "    <tr>\n",
       "      <th>1</th>\n",
       "      <td>YAK/S/00011</td>\n",
       "      <td>0</td>\n",
       "    </tr>\n",
       "    <tr>\n",
       "      <th>2</th>\n",
       "      <td>YAK/S/00015</td>\n",
       "      <td>0</td>\n",
       "    </tr>\n",
       "    <tr>\n",
       "      <th>3</th>\n",
       "      <td>YAK/S/00016</td>\n",
       "      <td>0</td>\n",
       "    </tr>\n",
       "    <tr>\n",
       "      <th>4</th>\n",
       "      <td>YAK/S/00017</td>\n",
       "      <td>0</td>\n",
       "    </tr>\n",
       "  </tbody>\n",
       "</table>\n",
       "</div>"
      ],
      "text/plain": [
       "    EmployeeNo  Promoted_or_Not\n",
       "0  YAK/S/00005                0\n",
       "1  YAK/S/00011                0\n",
       "2  YAK/S/00015                0\n",
       "3  YAK/S/00016                0\n",
       "4  YAK/S/00017                0"
      ]
     },
     "execution_count": 213,
     "metadata": {},
     "output_type": "execute_result"
    }
   ],
   "source": [
    "submission.head()"
   ]
  },
  {
   "cell_type": "markdown",
   "metadata": {},
   "source": [
    "Checking the value counts of the prediction classes"
   ]
  },
  {
   "cell_type": "code",
   "execution_count": 214,
   "metadata": {},
   "outputs": [
    {
     "data": {
      "text/plain": [
       "0    15965\n",
       "1      531\n",
       "Name: Promoted_or_Not, dtype: int64"
      ]
     },
     "execution_count": 214,
     "metadata": {},
     "output_type": "execute_result"
    }
   ],
   "source": [
    "submission.Promoted_or_Not.value_counts()"
   ]
  },
  {
   "cell_type": "markdown",
   "metadata": {},
   "source": [
    "Converting the submission dataframe to a csv file to be uploaded to kaggle"
   ]
  },
  {
   "cell_type": "code",
   "execution_count": 215,
   "metadata": {},
   "outputs": [],
   "source": [
    "submission.to_csv('submission29.csv',index=False)"
   ]
  },
  {
   "cell_type": "code",
   "execution_count": null,
   "metadata": {},
   "outputs": [],
   "source": []
  }
 ],
 "metadata": {
  "kernelspec": {
   "display_name": "Python 3",
   "language": "python",
   "name": "python3"
  },
  "language_info": {
   "codemirror_mode": {
    "name": "ipython",
    "version": 3
   },
   "file_extension": ".py",
   "mimetype": "text/x-python",
   "name": "python",
   "nbconvert_exporter": "python",
   "pygments_lexer": "ipython3",
   "version": "3.7.1"
  }
 },
 "nbformat": 4,
 "nbformat_minor": 2
}
